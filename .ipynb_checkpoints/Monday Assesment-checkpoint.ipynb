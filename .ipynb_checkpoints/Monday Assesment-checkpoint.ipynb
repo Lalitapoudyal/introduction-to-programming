{
 "cells": [
  {
   "cell_type": "markdown",
   "id": "4870f25c",
   "metadata": {},
   "source": [
    "Question 1: File Reading and Writing"
   ]
  },
  {
   "cell_type": "markdown",
   "id": "b689775e",
   "metadata": {},
   "source": [
    "Your task is to create a Python program that reads a text file and writes its content to a new file but in reverse order.\n",
    "\n",
    "Requirements:\n",
    "\n",
    "The input file will contain multiple lines of text.\n",
    "Your program should read from an input file named input.txt.\n",
    "It should write the content to an output file named output.txt.\n",
    "The output file should contain the same lines as the input file but in reverse order. The last line of the input file should be the first line of the output file, and so on."
   ]
  },
  {
   "cell_type": "code",
   "execution_count": 68,
   "id": "2b1754fe",
   "metadata": {},
   "outputs": [
    {
     "name": "stdout",
     "output_type": "stream",
     "text": [
      "File successfully written in reverse order.\n"
     ]
    }
   ],
   "source": [
    "def reverse_file(input_file, output_file):\n",
    "    with open(input_file, 'r') as file:\n",
    "        lines = file.readlines()\n",
    "\n",
    "    reversed_lines = reversed(lines)\n",
    "\n",
    "    with open(output_file, 'w') as file:\n",
    "        for line in reversed_lines:\n",
    "            file.write('lines')\n",
    "\n",
    "    print(\"File successfully written in reverse order.\")\n",
    "\n",
    "\n",
    "# Example usage:\n",
    "reverse_file(\"input.txt\", \"output.txt\")\n"
   ]
  },
  {
   "cell_type": "code",
   "execution_count": 69,
   "id": "d7dbdbbc",
   "metadata": {},
   "outputs": [],
   "source": [
    "file=open('input.txt', 'w')\n",
    "file.write('Write a Python program using Object-Oriented Programming principles.')\n",
    "file.close()        "
   ]
  },
  {
   "cell_type": "code",
   "execution_count": 70,
   "id": "ecf804dc",
   "metadata": {},
   "outputs": [],
   "source": [
    "file=open('input.txt','r')\n",
    "contents=file.read()"
   ]
  },
  {
   "cell_type": "code",
   "execution_count": 71,
   "id": "d98a5c4b",
   "metadata": {},
   "outputs": [
    {
     "name": "stdout",
     "output_type": "stream",
     "text": [
      "['Write', 'a', 'Python', 'program', 'using', 'Object-Oriented', 'Programming', 'principles.']\n"
     ]
    }
   ],
   "source": [
    "myStr= contents\n",
    "my_list=myStr.split()\n",
    "print(my_list)"
   ]
  },
  {
   "cell_type": "code",
   "execution_count": 72,
   "id": "aa24ec05",
   "metadata": {},
   "outputs": [
    {
     "name": "stdout",
     "output_type": "stream",
     "text": [
      "['principles.', 'Programming', 'Object-Oriented', 'using', 'program', 'Python', 'a', 'Write']\n"
     ]
    }
   ],
   "source": [
    "main_list=my_list[::-1]\n",
    "print(main_list)\n",
    "file.close()"
   ]
  },
  {
   "cell_type": "code",
   "execution_count": 73,
   "id": "c479b3f4",
   "metadata": {},
   "outputs": [
    {
     "name": "stdout",
     "output_type": "stream",
     "text": [
      "principles. Programming Object-Oriented using program Python a Write\n"
     ]
    }
   ],
   "source": [
    "my_list= my_list[::-1]\n",
    "my_string= ' '.join(my_list)\n",
    "print(my_string)"
   ]
  },
  {
   "cell_type": "markdown",
   "id": "a0523d65",
   "metadata": {},
   "source": [
    "Question 2: Object-Oriented Programming - 5 Marks\n",
    "\n",
    "Write a Python program using Object-Oriented Programming principles.\n",
    "\n",
    "Your program should include a class named Circle. The Circle class should have:\n",
    "\n",
    "An _init_ method that accepts the radius of the circle (default to 1 if not provided).\n",
    "A method area that calculates and returns the area of the circle.\n",
    "A method circumference that calculates and returns the circumference of the circle.\n",
    "You should also include a main function that creates an instance of the Circle class and demonstrates the functionality of its methods."
   ]
  },
  {
   "cell_type": "code",
   "execution_count": 76,
   "id": "3e42d153",
   "metadata": {},
   "outputs": [
    {
     "name": "stdout",
     "output_type": "stream",
     "text": [
      "Area of the circle: 50.26548245743669\n",
      "Circumference of the circle: 25.132741228718345\n"
     ]
    }
   ],
   "source": [
    "import math\n",
    "\n",
    "class Circle:\n",
    "    def __init__(self, radius=1):\n",
    "        self.radius = radius\n",
    "\n",
    "    def area(self):\n",
    "        return math.pi * self.radius**2\n",
    "\n",
    "    def circumference(self):\n",
    "        return 2 * math.pi * self.radius\n",
    "\n",
    "\n",
    "def main():\n",
    "    circle = Circle(4)\n",
    "\n",
    "    # Calculate and print the area of the circle\n",
    "    circle_area = circle.area()\n",
    "    print(\"Area of the circle:\", circle_area)\n",
    "\n",
    "    # Calculate and print the circumference of the circle\n",
    "    circle_circumference = circle.circumference()\n",
    "    print(\"Circumference of the circle:\", circle_circumference)\n",
    "\n",
    "\n",
    "# Execute the main function\n",
    "if __name__ == \"__main__\":\n",
    "    main()\n"
   ]
  },
  {
   "cell_type": "code",
   "execution_count": null,
   "id": "67df6116",
   "metadata": {},
   "outputs": [],
   "source": []
  }
 ],
 "metadata": {
  "kernelspec": {
   "display_name": "Python 3 (ipykernel)",
   "language": "python",
   "name": "python3"
  },
  "language_info": {
   "codemirror_mode": {
    "name": "ipython",
    "version": 3
   },
   "file_extension": ".py",
   "mimetype": "text/x-python",
   "name": "python",
   "nbconvert_exporter": "python",
   "pygments_lexer": "ipython3",
   "version": "3.10.9"
  }
 },
 "nbformat": 4,
 "nbformat_minor": 5
}
