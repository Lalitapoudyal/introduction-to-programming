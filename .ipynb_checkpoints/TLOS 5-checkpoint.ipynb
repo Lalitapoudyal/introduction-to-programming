{
 "cells": [
  {
   "cell_type": "markdown",
   "id": "e2548b69",
   "metadata": {},
   "source": [
    "Basic if statement with input"
   ]
  },
  {
   "cell_type": "code",
   "execution_count": 1,
   "id": "bc90a80a",
   "metadata": {},
   "outputs": [
    {
     "name": "stdout",
     "output_type": "stream",
     "text": [
      "Enter the temperature: 29\n"
     ]
    }
   ],
   "source": [
    "temperature = int(input(\"Enter the temperature: \"))\n",
    "if temperature > 30:\n",
    "    print(\"It's hot outside!\")\n"
   ]
  },
  {
   "cell_type": "markdown",
   "id": "61c0a6cf",
   "metadata": {},
   "source": [
    "1.if-else statement with input"
   ]
  },
  {
   "cell_type": "code",
   "execution_count": 2,
   "id": "7cd9bd47",
   "metadata": {},
   "outputs": [
    {
     "name": "stdout",
     "output_type": "stream",
     "text": [
      "It's not hot outside!\n"
     ]
    }
   ],
   "source": [
    "if temperature > 30:\n",
    "    print(\"It's hot outside!\")\n",
    "else:\n",
    "    print(\"It's not hot outside!\")\n"
   ]
  },
  {
   "cell_type": "markdown",
   "id": "a4ec06a8",
   "metadata": {},
   "source": [
    "2. if-elif-else statement with input"
   ]
  },
  {
   "cell_type": "code",
   "execution_count": 3,
   "id": "cc6fbec2",
   "metadata": {},
   "outputs": [
    {
     "name": "stdout",
     "output_type": "stream",
     "text": [
      "It's a pleasant day.\n"
     ]
    }
   ],
   "source": [
    "if temperature > 30:\n",
    "    print(\"It's hot outside!\")\n",
    "elif 20 <= temperature <= 30:\n",
    "    print(\"It's a pleasant day.\")\n",
    "else:\n",
    "    print(\"It's cold outside!\")\n"
   ]
  },
  {
   "cell_type": "markdown",
   "id": "56449922",
   "metadata": {},
   "source": [
    "3.Multiple branches with if-elif-else and input"
   ]
  },
  {
   "cell_type": "code",
   "execution_count": 4,
   "id": "9c5d8477",
   "metadata": {},
   "outputs": [
    {
     "name": "stdout",
     "output_type": "stream",
     "text": [
      "Enter an animal type: dog\n",
      "I don't know this animal.\n"
     ]
    }
   ],
   "source": [
    "animal = input(\"Enter an animal type: \")\n",
    "\n",
    "if animal == \"Dog\":\n",
    "    print(\"Woof!\")\n",
    "elif animal == \"Cat\":\n",
    "    print(\"Meow!\")\n",
    "elif animal == \"Bird\":\n",
    "    print(\"Chirp!\")\n",
    "else:\n",
    "    print(\"I don't know this animal.\")\n"
   ]
  },
  {
   "cell_type": "markdown",
   "id": "dd3d0bcc",
   "metadata": {},
   "source": [
    "4. For loops\n",
    "Iterating through a list \n"
   ]
  },
  {
   "cell_type": "code",
   "execution_count": null,
   "id": "24682610",
   "metadata": {},
   "outputs": [
    {
     "name": "stdout",
     "output_type": "stream",
     "text": [
      "Enter the number of elements in the list: 3\n",
      "Enter element 1: 4\n"
     ]
    }
   ],
   "source": [
    "num_elements = int(input(\"Enter the number of elements in the list: \"))\n",
    "elements = []\n",
    "for i in range(num_elements):\n",
    "    element = int(input(f\"Enter element {i + 1}: \"))\n",
    "    elements.append(element)\n",
    "for num in elements:\n",
    "    print(num)\n"
   ]
  },
  {
   "cell_type": "markdown",
   "id": "5d9ad40b",
   "metadata": {},
   "source": [
    "5.Iterating through a string\n"
   ]
  },
  {
   "cell_type": "code",
   "execution_count": 7,
   "id": "06dbc9dc",
   "metadata": {},
   "outputs": [
    {
     "name": "stdout",
     "output_type": "stream",
     "text": [
      "Enter a string: Hello\n",
      "H\n",
      "e\n",
      "l\n",
      "l\n",
      "o\n"
     ]
    }
   ],
   "source": [
    "input_string = input(\"Enter a string: \")\n",
    "for char in input_string:\n",
    "    print(char)"
   ]
  },
  {
   "cell_type": "markdown",
   "id": "7b44e539",
   "metadata": {},
   "source": [
    "6: Tuple unpacking\n",
    "    \n",
    "\n"
   ]
  },
  {
   "cell_type": "code",
   "execution_count": 11,
   "id": "591f2182",
   "metadata": {},
   "outputs": [
    {
     "name": "stdout",
     "output_type": "stream",
     "text": [
      "Enter the number of pairs: 1\n",
      "Enter the first element of pair 1: 2\n",
      "Enter the second element of pair 1: 3\n",
      "First element: 2, Second element: 3\n"
     ]
    }
   ],
   "source": [
    "num_pairs = int(input(\"Enter the number of pairs: \"))\n",
    "pairs = []\n",
    "for i in range(num_pairs):\n",
    "    first = int(input(f\"Enter the first element of pair {i + 1}: \"))\n",
    "    second = int(input(f\"Enter the second element of pair {i + 1}: \"))\n",
    "    pairs.append((first, second))\n",
    "for a, b in pairs:\n",
    "    print(f\"First element: {a}, Second element: {b}\")\n"
   ]
  },
  {
   "cell_type": "markdown",
   "id": "c9d0604a",
   "metadata": {},
   "source": [
    "7: Iterating through a dictionary "
   ]
  },
  {
   "cell_type": "code",
   "execution_count": 16,
   "id": "ed44e83f",
   "metadata": {},
   "outputs": [
    {
     "name": "stdout",
     "output_type": "stream",
     "text": [
      "Enter the number of entries in the dictionary: 2\n",
      "Enter the key for entry 1: a\n",
      "Enter the value for entry 1: 1\n",
      "Enter the key for entry 2: b\n",
      "Enter the value for entry 2: 2\n",
      "Key: a, Value: 1\n",
      "Key: b, Value: 2\n"
     ]
    }
   ],
   "source": [
    "num_entries = int(input(\"Enter the number of entries in the dictionary: \"))\n",
    "input_dict = {}\n",
    "for i in range(num_entries):\n",
    "    key = input(f\"Enter the key for entry {i + 1}: \")\n",
    "    value = input(f\"Enter the value for entry {i + 1}: \")\n",
    "    input_dict[key] = value\n",
    "for key, value in input_dict.items():\n",
    "    print(f\"Key: {key}, Value: {value}\")\n"
   ]
  },
  {
   "cell_type": "markdown",
   "id": "14505f74",
   "metadata": {},
   "source": [
    "\n",
    "while loop\n",
    "Exercise 1: Print the first 10 even numbers using a while loop.\n"
   ]
  },
  {
   "cell_type": "code",
   "execution_count": 17,
   "id": "11580192",
   "metadata": {},
   "outputs": [
    {
     "name": "stdout",
     "output_type": "stream",
     "text": [
      "0\n",
      "2\n",
      "4\n",
      "6\n",
      "8\n",
      "10\n",
      "12\n",
      "14\n",
      "16\n",
      "18\n"
     ]
    }
   ],
   "source": [
    "counter = 0\n",
    "number = 0\n",
    "while counter < 10:\n",
    "    if number % 2 == 0:\n",
    "        print(number)\n",
    "        counter += 1\n",
    "    number += 1\n"
   ]
  },
  {
   "cell_type": "markdown",
   "id": "bfa88c4d",
   "metadata": {},
   "source": [
    "Exercise 2: Print the first 10 Fibonacci numbers using a while loop."
   ]
  },
  {
   "cell_type": "code",
   "execution_count": 18,
   "id": "c312090d",
   "metadata": {},
   "outputs": [
    {
     "name": "stdout",
     "output_type": "stream",
     "text": [
      "0\n",
      "1\n",
      "1\n",
      "2\n",
      "3\n",
      "5\n",
      "8\n",
      "13\n",
      "21\n",
      "34\n"
     ]
    }
   ],
   "source": [
    "a, b = 0, 1\n",
    "counter = 0\n",
    "\n",
    "while counter < 10:\n",
    "    print(a)\n",
    "    a, b = b, a + b\n",
    "    counter += 1\n"
   ]
  },
  {
   "cell_type": "code",
   "execution_count": 21,
   "id": "1e13e5f6",
   "metadata": {},
   "outputs": [
    {
     "name": "stdout",
     "output_type": "stream",
     "text": [
      "0\n",
      "1\n",
      "1\n",
      "2\n",
      "3\n",
      "5\n",
      "8\n",
      "13\n",
      "21\n",
      "34\n"
     ]
    }
   ],
   "source": [
    "a,b=0,1\n",
    "counter=0\n",
    "\n",
    "while counter <10:\n",
    "    print(a)\n",
    "    a,b=b, a+b\n",
    "    counter+=1"
   ]
  },
  {
   "cell_type": "markdown",
   "id": "3ef97a14",
   "metadata": {},
   "source": [
    "Exercise 3: Calculate the factorial of a number n using a while loop."
   ]
  },
  {
   "cell_type": "code",
   "execution_count": 22,
   "id": "2eccb4ca",
   "metadata": {},
   "outputs": [
    {
     "name": "stdout",
     "output_type": "stream",
     "text": [
      "Enter the number5\n",
      "The factorial of 5 is 120.\n"
     ]
    }
   ],
   "source": [
    "n =int(input(\"Enter the number\"))\n",
    "factorial = 1\n",
    "i = 1\n",
    "while i <= n:\n",
    "    factorial *= i\n",
    "    i += 1\n",
    "print(f\"The factorial of {n} is {factorial}.\")\n"
   ]
  },
  {
   "cell_type": "markdown",
   "id": "0530482e",
   "metadata": {},
   "source": [
    "\n",
    "pass, continue, break\n",
    "Exercise 1: Pass\n"
   ]
  },
  {
   "cell_type": "code",
   "execution_count": 24,
   "id": "c2aca12d",
   "metadata": {},
   "outputs": [
    {
     "name": "stdout",
     "output_type": "stream",
     "text": [
      "apple\n",
      "banana\n",
      "cherry\n"
     ]
    }
   ],
   "source": [
    "fruits = ['apple', 'banana', 'cherry']\n",
    "for fruit in fruits:\n",
    "    if fruit == 'banana':\n",
    "        pass\n",
    "    print(fruit)\n"
   ]
  },
  {
   "cell_type": "markdown",
   "id": "1e22a7ca",
   "metadata": {},
   "source": [
    "Exercise 2: Continue\n"
   ]
  },
  {
   "cell_type": "code",
   "execution_count": 34,
   "id": "12087322",
   "metadata": {},
   "outputs": [
    {
     "name": "stdout",
     "output_type": "stream",
     "text": [
      "apple\n",
      "cherry\n"
     ]
    }
   ],
   "source": [
    "fruits = ['apple', 'banana', 'cherry']\n",
    "for fruit in fruits:\n",
    "    if fruit == 'banana':\n",
    "        continue\n",
    "    print(fruit)\n"
   ]
  },
  {
   "cell_type": "code",
   "execution_count": 35,
   "id": "488468c5",
   "metadata": {},
   "outputs": [
    {
     "name": "stdout",
     "output_type": "stream",
     "text": [
      "apple\n"
     ]
    }
   ],
   "source": [
    "fruits = ['apple', 'banana', 'cherry']\n",
    "for fruit in fruits:\n",
    "    if fruit == 'banana':\n",
    "        break\n",
    "    print(fruit)\n"
   ]
  },
  {
   "cell_type": "markdown",
   "id": "5d24e8db",
   "metadata": {},
   "source": [
    "Useful operators in python\n",
    "Exercise 1: Range function\n",
    "Problem: Create a list of numbers from 5 to 50 with a step size of 5 using the range function.\n"
   ]
  },
  {
   "cell_type": "code",
   "execution_count": 36,
   "id": "1766d45f",
   "metadata": {},
   "outputs": [
    {
     "name": "stdout",
     "output_type": "stream",
     "text": [
      "[5, 10, 15, 20, 25, 30, 35, 40, 45, 50]\n"
     ]
    }
   ],
   "source": [
    "numbers = list(range(5, 51, 5))\n",
    "print(numbers)\n"
   ]
  },
  {
   "cell_type": "markdown",
   "id": "43e5acff",
   "metadata": {},
   "source": [
    "Exercise 2: Zip function\n",
    "Problem: Zip together two lists of numbers and print the sum of the zipped pairs."
   ]
  },
  {
   "cell_type": "code",
   "execution_count": 37,
   "id": "323bcea6",
   "metadata": {},
   "outputs": [
    {
     "name": "stdout",
     "output_type": "stream",
     "text": [
      "Sum of 1 and 6: 7\n",
      "Sum of 2 and 7: 9\n",
      "Sum of 3 and 8: 11\n",
      "Sum of 4 and 9: 13\n",
      "Sum of 5 and 10: 15\n"
     ]
    }
   ],
   "source": [
    "list1 = [1, 2, 3, 4, 5]\n",
    "list2 = [6, 7, 8, 9, 10]\n",
    "for num1, num2 in zip(list1, list2):\n",
    "    print(f\"Sum of {num1} and {num2}: {num1 + num2}\")\n"
   ]
  },
  {
   "cell_type": "markdown",
   "id": "11266dea",
   "metadata": {},
   "source": [
    "Exercise 4: In operator\n",
    "Problem: Check if a given number is present in a list of numbers."
   ]
  },
  {
   "cell_type": "code",
   "execution_count": 38,
   "id": "128a5f88",
   "metadata": {},
   "outputs": [
    {
     "name": "stdout",
     "output_type": "stream",
     "text": [
      "Enter any number8\n",
      "8 is not in the list\n"
     ]
    }
   ],
   "source": [
    "numbers = [1, 3, 5, 7, 9]\n",
    "given_number =int(input(\"Enter any number\"))\n",
    "if given_number in numbers:\n",
    "    print(f\"{given_number} is in the list\")\n",
    "else:\n",
    "    print(f\"{given_number} is not in the list\")\n"
   ]
  },
  {
   "cell_type": "markdown",
   "id": "04e6e9ec",
   "metadata": {},
   "source": [
    "Exercise 5: Random shuffle and randint\n",
    "Problem: Shuffle a list of numbers and print a random integer between 1 and 100."
   ]
  },
  {
   "cell_type": "code",
   "execution_count": 40,
   "id": "b1331517",
   "metadata": {},
   "outputs": [
    {
     "name": "stdout",
     "output_type": "stream",
     "text": [
      "Shuffled list: [4, 7, 1, 5, 6, 8, 3, 9, 10, 2]\n",
      "Random integer between 1 and 100: 80\n"
     ]
    }
   ],
   "source": [
    "from random import shuffle, randint\n",
    "numbers = [1, 2, 3, 4, 5, 6, 7, 8, 9, 10]\n",
    "shuffle(numbers)\n",
    "print(\"Shuffled list:\", numbers)\n",
    "random_number = randint(1, 100)\n",
    "print(\"Random integer between 1 and 100:\", random_number)\n"
   ]
  },
  {
   "cell_type": "markdown",
   "id": "91a5ff0f",
   "metadata": {},
   "source": [
    "Exercise 6: User input\n",
    "Problem: Ask the user for their name and age and print the result.\n"
   ]
  },
  {
   "cell_type": "code",
   "execution_count": 41,
   "id": "ce7dc7ca",
   "metadata": {},
   "outputs": [
    {
     "name": "stdout",
     "output_type": "stream",
     "text": [
      "Enter your name: Lalita\n",
      "Enter your age: 18\n",
      "Your name is Lalita and your age is 18.\n"
     ]
    }
   ],
   "source": [
    "name = input(\"Enter your name: \")\n",
    "age = int(input(\"Enter your age: \"))\n",
    "print(f\"Your name is {name} and your age is {age}.\")\n"
   ]
  },
  {
   "cell_type": "markdown",
   "id": "efeafd65",
   "metadata": {},
   "source": [
    "List Comprehensions in Python\n",
    "Exercise 1: Create a list comprehension that takes a string and returns a list of its individual characters.\n"
   ]
  },
  {
   "cell_type": "code",
   "execution_count": 42,
   "id": "5278ba93",
   "metadata": {},
   "outputs": [
    {
     "name": "stdout",
     "output_type": "stream",
     "text": [
      "['P', 'y', 't', 'h', 'o', 'n']\n"
     ]
    }
   ],
   "source": [
    "input_string = \"Python\"\n",
    "output_list = [char for char in input_string]\n",
    "print(output_list)\n"
   ]
  },
  {
   "cell_type": "markdown",
   "id": "392376f7",
   "metadata": {},
   "source": [
    "Exercise 2: Create a list comprehension that generates a list of squares from 1 to 10."
   ]
  },
  {
   "cell_type": "code",
   "execution_count": 43,
   "id": "93deeb58",
   "metadata": {},
   "outputs": [
    {
     "name": "stdout",
     "output_type": "stream",
     "text": [
      "[1, 4, 9, 16, 25, 36, 49, 64, 81, 100]\n"
     ]
    }
   ],
   "source": [
    "squares = [num**2 for num in range(1, 11)]\n",
    "print(squares)\n"
   ]
  },
  {
   "cell_type": "markdown",
   "id": "a1d2c2a8",
   "metadata": {},
   "source": [
    "Exercise 3: Create a list comprehension that filters out odd numbers from a given list."
   ]
  },
  {
   "cell_type": "code",
   "execution_count": 44,
   "id": "5bbd47f6",
   "metadata": {},
   "outputs": [
    {
     "name": "stdout",
     "output_type": "stream",
     "text": [
      "[2, 4, 6, 8, 10]\n"
     ]
    }
   ],
   "source": [
    "input_list = [1, 2, 3, 4, 5, 6, 7, 8, 9, 10]\n",
    "even_numbers = [num for num in input_list if num % 2 == 0]\n",
    "print(even_numbers)\n"
   ]
  },
  {
   "cell_type": "markdown",
   "id": "2101e811",
   "metadata": {},
   "source": [
    "Exercise 4: Create a list comprehension that converts a list of Celsius temperatures to Fahrenheit.\n"
   ]
  },
  {
   "cell_type": "code",
   "execution_count": 45,
   "id": "5abb896d",
   "metadata": {},
   "outputs": [
    {
     "name": "stdout",
     "output_type": "stream",
     "text": [
      "[32.0, 50.0, 68.0, 86.0, 122.0, 94.1]\n"
     ]
    }
   ],
   "source": [
    "celsius = [0, 10, 20, 30, 50, 34.5]\n",
    "fahrenheit = [(9/5 * temp + 32) for temp in celsius]\n",
    "print(fahrenheit)\n"
   ]
  },
  {
   "cell_type": "markdown",
   "id": "cb186a41",
   "metadata": {},
   "source": [
    "Exercise 5: Create a list comprehension that uses nested loops to multiply each element in one list with every element in another list.\n"
   ]
  },
  {
   "cell_type": "code",
   "execution_count": 46,
   "id": "c8cb8578",
   "metadata": {},
   "outputs": [
    {
     "name": "stdout",
     "output_type": "stream",
     "text": [
      "[2, 20, 200, 4, 40, 400, 6, 60, 600]\n"
     ]
    }
   ],
   "source": [
    "list1 = [2, 4, 6]\n",
    "list2 = [1, 10, 100]\n",
    "product_list = [x * y for x in list1 for y in list2]\n",
    "print(product_list)\n"
   ]
  },
  {
   "cell_type": "code",
   "execution_count": null,
   "id": "00803ba4",
   "metadata": {},
   "outputs": [],
   "source": []
  }
 ],
 "metadata": {
  "kernelspec": {
   "display_name": "Python 3 (ipykernel)",
   "language": "python",
   "name": "python3"
  },
  "language_info": {
   "codemirror_mode": {
    "name": "ipython",
    "version": 3
   },
   "file_extension": ".py",
   "mimetype": "text/x-python",
   "name": "python",
   "nbconvert_exporter": "python",
   "pygments_lexer": "ipython3",
   "version": "3.10.9"
  }
 },
 "nbformat": 4,
 "nbformat_minor": 5
}
