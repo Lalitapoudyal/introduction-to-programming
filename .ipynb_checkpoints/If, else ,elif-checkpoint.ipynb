{
 "cells": [
  {
   "cell_type": "code",
   "execution_count": 1,
   "id": "97584219",
   "metadata": {},
   "outputs": [],
   "source": [
    "#if ,else,elif statements"
   ]
  },
  {
   "cell_type": "code",
   "execution_count": null,
   "id": "9e942831",
   "metadata": {},
   "outputs": [],
   "source": [
    "if some_condition \n",
    "      #execute some code\n",
    "else:\n",
    "      #do something else"
   ]
  },
  {
   "cell_type": "code",
   "execution_count": 1,
   "id": "b2016992",
   "metadata": {},
   "outputs": [
    {
     "name": "stdout",
     "output_type": "stream",
     "text": [
      "Its True\n"
     ]
    }
   ],
   "source": [
    "if True:\n",
    "    print('Its True')"
   ]
  },
  {
   "cell_type": "code",
   "execution_count": 2,
   "id": "c73af10b",
   "metadata": {},
   "outputs": [
    {
     "name": "stdout",
     "output_type": "stream",
     "text": [
      "It is greater\n"
     ]
    }
   ],
   "source": [
    "if 3>2:\n",
    "    print('It is greater')"
   ]
  },
  {
   "cell_type": "code",
   "execution_count": 3,
   "id": "ae84f01d",
   "metadata": {},
   "outputs": [
    {
     "name": "stdout",
     "output_type": "stream",
     "text": [
      "Feed me\n"
     ]
    }
   ],
   "source": [
    "hungry =True\n",
    "if hungry:\n",
    "    print('Feed me')"
   ]
  },
  {
   "cell_type": "code",
   "execution_count": 2,
   "id": "46e36689",
   "metadata": {},
   "outputs": [
    {
     "name": "stdout",
     "output_type": "stream",
     "text": [
      "feed me\n"
     ]
    }
   ],
   "source": [
    "hungry =True\n",
    "if hungry:\n",
    "    print('feed me')\n",
    "else:\n",
    "    print(\"im not hungry\")"
   ]
  },
  {
   "cell_type": "code",
   "execution_count": 5,
   "id": "16ae44c4",
   "metadata": {},
   "outputs": [
    {
     "name": "stdout",
     "output_type": "stream",
     "text": [
      "I do not know much\n"
     ]
    }
   ],
   "source": [
    "loc='bank'\n",
    "if loc=='auto shop':\n",
    "    print=('cars are cool')\n",
    "else:\n",
    "    print('I do not know much')\n"
   ]
  },
  {
   "cell_type": "code",
   "execution_count": 7,
   "id": "edef6c5c",
   "metadata": {},
   "outputs": [
    {
     "name": "stdout",
     "output_type": "stream",
     "text": [
      "I do not know much\n"
     ]
    }
   ],
   "source": [
    "loc='game'\n",
    "if loc=='Auto shop':\n",
    "    print('cars are cool')\n",
    "elif loc=='bank':\n",
    "    print('Money is cool$$')\n",
    "elif loc=='store':\n",
    "    print('Welcome to the store!')\n",
    "else:\n",
    "    print('I do not know much')\n",
    "\n"
   ]
  },
  {
   "cell_type": "code",
   "execution_count": 10,
   "id": "66b5a19d",
   "metadata": {},
   "outputs": [
    {
     "name": "stdout",
     "output_type": "stream",
     "text": [
      "do come to class\n"
     ]
    }
   ],
   "source": [
    "name='Nayan'\n",
    "if name=='Pranay':\n",
    "    print('come to university daily')\n",
    "elif name=='Nayan':\n",
    "    print('do come to class')\n",
    "elif name=='Uttam':\n",
    "    print('do not make any videos')\n",
    "else:\n",
    "    print ('you are not needed now')"
   ]
  },
  {
   "cell_type": "code",
   "execution_count": 11,
   "id": "b8b6805b",
   "metadata": {},
   "outputs": [],
   "source": [
    "#for loops "
   ]
  },
  {
   "cell_type": "code",
   "execution_count": 14,
   "id": "cde4850c",
   "metadata": {},
   "outputs": [
    {
     "name": "stdout",
     "output_type": "stream",
     "text": [
      "1\n",
      "2\n",
      "3\n"
     ]
    }
   ],
   "source": [
    "my_iterable=[1,2,3]\n",
    "for happy in my_iterable:\n",
    "    print(happy)"
   ]
  },
  {
   "cell_type": "code",
   "execution_count": 16,
   "id": "aa21e64c",
   "metadata": {},
   "outputs": [
    {
     "name": "stdout",
     "output_type": "stream",
     "text": [
      "Thursday\n",
      "Thursday\n",
      "Thursday\n",
      "Thursday\n",
      "Thursday\n",
      "Thursday\n",
      "Thursday\n",
      "Thursday\n",
      "Thursday\n"
     ]
    }
   ],
   "source": [
    "mylist= [1,2,3,4,5,6,7,8,9]\n",
    "for num in mylist:\n",
    "    print('Thursday')\n",
    "    "
   ]
  },
  {
   "cell_type": "code",
   "execution_count": 26,
   "id": "4c2ecfbc",
   "metadata": {},
   "outputs": [
    {
     "name": "stdout",
     "output_type": "stream",
     "text": [
      "Odd number 1\n",
      "2\n",
      "Odd number 3\n",
      "4\n",
      "Odd number 5\n",
      "6\n",
      "Odd number 7\n",
      "8\n",
      "Odd number 9\n",
      "10\n"
     ]
    }
   ],
   "source": [
    "mylist= [1,2,3,4,5,6,7,8,9,10]\n",
    "for num in mylist:\n",
    "    if num % 2== 0:\n",
    "        print (num)\n",
    "    else:\n",
    "        print(f'Odd number {num}') "
   ]
  },
  {
   "cell_type": "code",
   "execution_count": 43,
   "id": "545068fa",
   "metadata": {},
   "outputs": [
    {
     "name": "stdout",
     "output_type": "stream",
     "text": [
      "1\n",
      "3\n",
      "6\n",
      "10\n",
      "15\n",
      "21\n",
      "28\n",
      "36\n",
      "45\n",
      "55\n"
     ]
    }
   ],
   "source": [
    "mylist= [1,2,3,4,5,6,7,8,9,10]\n",
    "list_sum= 0\n",
    "for num in mylist:\n",
    "    list_sum= list_sum +num\n",
    "    print(list_sum)"
   ]
  },
  {
   "cell_type": "code",
   "execution_count": 44,
   "id": "b5372977",
   "metadata": {},
   "outputs": [
    {
     "name": "stdout",
     "output_type": "stream",
     "text": [
      "H\n",
      "e\n",
      "l\n",
      "l\n",
      "o\n",
      " \n",
      "W\n",
      "o\n",
      "r\n",
      "l\n",
      "d\n"
     ]
    }
   ],
   "source": [
    "mystring=\"Hello World\"\n",
    "for letter in mystring:\n",
    "    print(letter)"
   ]
  },
  {
   "cell_type": "code",
   "execution_count": null,
   "id": "4a9ec2dc",
   "metadata": {},
   "outputs": [],
   "source": []
  }
 ],
 "metadata": {
  "kernelspec": {
   "display_name": "Python 3 (ipykernel)",
   "language": "python",
   "name": "python3"
  },
  "language_info": {
   "codemirror_mode": {
    "name": "ipython",
    "version": 3
   },
   "file_extension": ".py",
   "mimetype": "text/x-python",
   "name": "python",
   "nbconvert_exporter": "python",
   "pygments_lexer": "ipython3",
   "version": "3.10.9"
  }
 },
 "nbformat": 4,
 "nbformat_minor": 5
}
