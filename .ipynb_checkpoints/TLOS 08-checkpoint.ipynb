{
 "cells": [
  {
   "cell_type": "markdown",
   "id": "18303716",
   "metadata": {},
   "source": [
    "Exercise 1: Shuffling a List\n",
    "Let's write a function shuffle_list that accepts a list and shuffles its elements. Here we'll use the shuffle function from the random module."
   ]
  },
  {
   "cell_type": "code",
   "execution_count": 1,
   "id": "13c5480c",
   "metadata": {},
   "outputs": [],
   "source": [
    "from random import shuffle\n",
    "\n",
    "def shuffle_list(mylist):\n",
    "    shuffle(mylist)\n",
    "    return mylist\n",
    "\n"
   ]
  },
  {
   "cell_type": "code",
   "execution_count": 5,
   "id": "308cca5b",
   "metadata": {},
   "outputs": [
    {
     "name": "stdout",
     "output_type": "stream",
     "text": [
      "[4, 5, 1, 3, 2]\n"
     ]
    }
   ],
   "source": [
    "print(shuffle_list([1,2,3,4,5]))"
   ]
  },
  {
   "cell_type": "markdown",
   "id": "7131bbbb",
   "metadata": {},
   "source": [
    "Exercise 2: Player's Guess\n",
    "We will create a function player_guess that asks the player to guess an index (0, 1, or 2). It will keep on asking until a valid index is provided."
   ]
  },
  {
   "cell_type": "code",
   "execution_count": 6,
   "id": "c1316161",
   "metadata": {},
   "outputs": [],
   "source": [
    "def player_guess():\n",
    "    guess = ''\n",
    "    while guess not in ['0','1','2']:\n",
    "        guess = input('Pick a number 0,1 or 2: ')\n",
    "    return int(guess)\n"
   ]
  },
  {
   "cell_type": "code",
   "execution_count": 7,
   "id": "02df2bd4",
   "metadata": {},
   "outputs": [
    {
     "name": "stdout",
     "output_type": "stream",
     "text": [
      "Pick a number 0,1 or 2: 2\n",
      "2\n"
     ]
    }
   ],
   "source": [
    "print(player_guess())"
   ]
  },
  {
   "cell_type": "markdown",
   "id": "7ee93371",
   "metadata": {},
   "source": [
    "Exercise 3: Check the Player's Guess\n",
    "Now, let's write a function check_guess that accepts a list and a guessed index. It checks if the guessed index contains the ball ('O') and prints appropriate messages.\n"
   ]
  },
  {
   "cell_type": "code",
   "execution_count": 8,
   "id": "0775f43c",
   "metadata": {},
   "outputs": [],
   "source": [
    "def check_guess(mylist, guess):\n",
    "    if mylist[guess] == 'O':\n",
    "        print('Correct!')\n",
    "    else:\n",
    "        print('Wrong guess')\n",
    "        print(mylist)\n"
   ]
  },
  {
   "cell_type": "code",
   "execution_count": null,
   "id": "5b39c53e",
   "metadata": {},
   "outputs": [],
   "source": [
    "(check_guess(0,player_guess()))"
   ]
  },
  {
   "cell_type": "code",
   "execution_count": null,
   "id": "5e0ceae0",
   "metadata": {},
   "outputs": [],
   "source": []
  }
 ],
 "metadata": {
  "kernelspec": {
   "display_name": "Python 3 (ipykernel)",
   "language": "python",
   "name": "python3"
  },
  "language_info": {
   "codemirror_mode": {
    "name": "ipython",
    "version": 3
   },
   "file_extension": ".py",
   "mimetype": "text/x-python",
   "name": "python",
   "nbconvert_exporter": "python",
   "pygments_lexer": "ipython3",
   "version": "3.10.9"
  }
 },
 "nbformat": 4,
 "nbformat_minor": 5
}
