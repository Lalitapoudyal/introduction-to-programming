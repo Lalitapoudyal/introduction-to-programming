{
 "cells": [
  {
   "cell_type": "markdown",
   "id": "60f121db",
   "metadata": {},
   "source": [
    "1. Python Program to convert decimal to binary, octal and hexadecimal.\n",
    "Python Program to multiply and add two Matrices.\n"
   ]
  },
  {
   "cell_type": "code",
   "execution_count": 1,
   "id": "58c046ee",
   "metadata": {},
   "outputs": [
    {
     "name": "stdout",
     "output_type": "stream",
     "text": [
      "Enter the Decimal Number:12\n",
      "The given decimal number 12 in Binary Number is: 0b1100\n",
      "The given decimal number 12 in Octal Number is: 0o14\n",
      "The given decimal number 12 in Hexadecimal Number is: 0xc\n"
     ]
    }
   ],
   "source": [
    "def decimal_into_binary(decimal_1):\n",
    "    decimal= int(decimal_1)\n",
    "    print(\"The given decimal number\", decimal,\"in Binary Number is:\",bin(decimal))\n",
    "def decimal_into_octal(decimal_1):\n",
    "    decimal= int(decimal_1)\n",
    "    print(\"The given decimal number\", decimal,\"in Octal Number is:\",oct(decimal)) \n",
    "def decimal_into_hexadecimal(decimal_1):\n",
    "    decimal= int(decimal_1)\n",
    "    print(\"The given decimal number\", decimal,\"in Hexadecimal Number is:\",hex(decimal))\n",
    "decimal_1=int(input(\"Enter the Decimal Number:\"))\n",
    "decimal_into_binary(decimal_1)\n",
    "decimal_into_octal(decimal_1)\n",
    "decimal_into_hexadecimal(decimal_1)"
   ]
  },
  {
   "cell_type": "markdown",
   "id": "5fecadec",
   "metadata": {},
   "source": [
    "2.Python Program to multiply and add two Matrices."
   ]
  },
  {
   "cell_type": "code",
   "execution_count": 2,
   "id": "b96bd31b",
   "metadata": {},
   "outputs": [
    {
     "name": "stdout",
     "output_type": "stream",
     "text": [
      "\n",
      "The addition of two matrices: \n",
      "[4, 5, 5]\n",
      "[6, 6, 6]\n",
      "[4, 4, 4]\n",
      "\n",
      "The multiplication of two matrices: \n",
      "[22, 21, 18]\n",
      "[20, 21, 18]\n",
      "[15, 14, 12]\n"
     ]
    }
   ],
   "source": [
    "X=[[2,3,4],\n",
    "  [4,3,2],\n",
    "  [1,2,3]]\n",
    "\n",
    "Y=[[2,2,1],\n",
    "  [2,3,4],\n",
    "  [3,2,1]]\n",
    "\n",
    "result_add=[[0,0,0],\n",
    "           [0,0,0],\n",
    "           [0,0,0]]\n",
    "\n",
    "result_mul=[[0,0,0],\n",
    "           [0,0,0],\n",
    "           [0,0,0]]\n",
    "# Adding matrices\n",
    "for i in range(len(X)):\n",
    "    for j in range(len(X[0])):\n",
    "        result_add[i][j] = X[i][j] + Y[i][j]\n",
    "\n",
    "# Multiplying matrices\n",
    "for i in range(len(X)):\n",
    "    for j in range(len(Y[0])):\n",
    "        for k in range(len(Y)):\n",
    "            result_mul[i][j] += X[i][k] * Y[k][j]\n",
    "\n",
    "print(\"\\nThe addition of two matrices: \")\n",
    "for r in result_add:\n",
    "    print(r)\n",
    "\n",
    "print(\"\\nThe multiplication of two matrices: \")\n",
    "for r in result_mul:\n",
    "    print(r)\n"
   ]
  },
  {
   "cell_type": "markdown",
   "id": "701bc550",
   "metadata": {},
   "source": [
    "3. Python Program to Sort Words in Alphabetic Order.\n",
    "Python Program to implement at least five geometric Figures using turtle.\n"
   ]
  },
  {
   "cell_type": "code",
   "execution_count": 4,
   "id": "f3a07d64",
   "metadata": {},
   "outputs": [
    {
     "name": "stdout",
     "output_type": "stream",
     "text": [
      "Enter a string: Grow Through What You Go Through\n",
      "The sorted words are:\n",
      "go\n",
      "grow\n",
      "through\n",
      "through\n",
      "what\n",
      "you\n"
     ]
    }
   ],
   "source": [
    "my_str = input(\"Enter a string: \")\n",
    "words = [word.lower() for word in my_str.split()]\n",
    "words.sort()\n",
    "print(\"The sorted words are:\")\n",
    "for word in words:\n",
    "    print(word)\n"
   ]
  },
  {
   "cell_type": "code",
   "execution_count": 5,
   "id": "11175695",
   "metadata": {},
   "outputs": [
    {
     "name": "stdout",
     "output_type": "stream",
     "text": [
      "Enter a string: My name is lalita\n",
      "IS\n",
      "LALITA\n",
      "MY\n",
      "NAME\n"
     ]
    }
   ],
   "source": [
    "my_str = input(\"Enter a string: \")  \n",
    "# breakdown the string into a list of words  \n",
    "words = [word.upper() for word in my_str.split()] \n",
    "# sort the list  \n",
    "words.sort()  \n",
    "# display the sorted words  \n",
    "for word in words:  \n",
    "    print(word)  "
   ]
  },
  {
   "cell_type": "markdown",
   "id": "a0b866e7",
   "metadata": {},
   "source": [
    "4.Python Program to implement at least five geometric Figures using turtle.\n"
   ]
  },
  {
   "cell_type": "code",
   "execution_count": null,
   "id": "15225863",
   "metadata": {},
   "outputs": [],
   "source": [
    "\n",
    "    "
   ]
  },
  {
   "cell_type": "markdown",
   "id": "08518f9a",
   "metadata": {},
   "source": [
    "5. Python Program to check whether a string is palindrome or not.\n",
    "\n"
   ]
  },
  {
   "cell_type": "code",
   "execution_count": 6,
   "id": "08978592",
   "metadata": {},
   "outputs": [
    {
     "name": "stdout",
     "output_type": "stream",
     "text": [
      "Enter a string: radar\n",
      "Yes, it's a palindrome.\n"
     ]
    }
   ],
   "source": [
    "def isPalindrome(s):\n",
    "    return s == s[::-1]\n",
    "\n",
    "s = input(\"Enter a string: \")\n",
    "ans = isPalindrome(s)\n",
    "\n",
    "if ans:\n",
    "    print(\"Yes, it's a palindrome.\")\n",
    "else:\n",
    "    print(\"No, it's not a palindrome.\")\n"
   ]
  },
  {
   "cell_type": "markdown",
   "id": "ccf59a1a",
   "metadata": {},
   "source": [
    "6.Python Program to create Pyramid Pattern.\n"
   ]
  },
  {
   "cell_type": "code",
   "execution_count": 7,
   "id": "e02a5dbd",
   "metadata": {},
   "outputs": [
    {
     "name": "stdout",
     "output_type": "stream",
     "text": [
      "         * \n",
      "        * * \n",
      "       * * * \n",
      "      * * * * \n",
      "     * * * * * \n",
      "    * * * * * * \n",
      "   * * * * * * * \n",
      "  * * * * * * * * \n",
      " * * * * * * * * * \n",
      "* * * * * * * * * * \n"
     ]
    }
   ],
   "source": [
    "def pyramid(n):\n",
    "    for i in range(0, n):\n",
    "        for j in range(0, n-i-1):\n",
    "            print(end=\" \")\n",
    "        for j in range(0, i+1):\n",
    "            print(\"*\", end=\" \")\n",
    "        print()\n",
    "\n",
    "pyramid(10)\n"
   ]
  },
  {
   "cell_type": "markdown",
   "id": "c64db854",
   "metadata": {},
   "source": [
    "7. Python Program to get file creation and modification Date."
   ]
  },
  {
   "cell_type": "code",
   "execution_count": null,
   "id": "c289ac06",
   "metadata": {},
   "outputs": [],
   "source": []
  },
  {
   "cell_type": "markdown",
   "id": "62fd7e87",
   "metadata": {},
   "source": [
    "8.Python Program to convert lists to dictionary."
   ]
  },
  {
   "cell_type": "code",
   "execution_count": 9,
   "id": "13bd40a4",
   "metadata": {},
   "outputs": [
    {
     "name": "stdout",
     "output_type": "stream",
     "text": [
      "{'Apple': 10, 'Banana': 25, 'Icecream': 70}\n"
     ]
    }
   ],
   "source": [
    "keys = ['Apple', 'Banana', 'Icecream']\n",
    "values = [10, 25, 70]\n",
    "\n",
    "my_dict = {k: v for k, v in zip(keys, values)} #zip() function combines items from each of the specified iterables.\n",
    "print(my_dict) \n"
   ]
  },
  {
   "cell_type": "markdown",
   "id": "3e9602e0",
   "metadata": {},
   "source": [
    "9. Python Program to create a Lap Timer."
   ]
  },
  {
   "cell_type": "code",
   "execution_count": 2,
   "id": "1d0d049e",
   "metadata": {},
   "outputs": [
    {
     "name": "stdout",
     "output_type": "stream",
     "text": [
      "Press ENTER to start the timer, Press Ctrl + C to stop the timer\n",
      "\n",
      "Timer started...\n",
      "\n",
      "Timer started...\n",
      "Timer stopped...\n",
      "Elapsed time: 186.65774919999967 seconds.\n"
     ]
    }
   ],
   "source": [
    "import time\n",
    "\n",
    "print(\"Press ENTER to start the timer, Press Ctrl + C to stop the timer\")\n",
    "\n",
    "while True:\n",
    "    try:\n",
    "        input()\n",
    "        start_time = time.perf_counter()\n",
    "        print(\"Timer started...\")\n",
    "        \n",
    "    except KeyboardInterrupt:\n",
    "        print(\"Timer stopped...\")\n",
    "        end_time = time.perf_counter()\n",
    "        print(\"Elapsed time:\", end_time - start_time, \"seconds.\")\n",
    "        break\n"
   ]
  },
  {
   "cell_type": "markdown",
   "id": "a1f6da2b",
   "metadata": {},
   "source": [
    "10.Python Program to create unique values from dictionary values."
   ]
  },
  {
   "cell_type": "code",
   "execution_count": 11,
   "id": "0d20cdaf",
   "metadata": {},
   "outputs": [
    {
     "name": "stdout",
     "output_type": "stream",
     "text": [
      "{1, 2, 3}\n"
     ]
    }
   ],
   "source": [
    "my_dict = {'a': 1, 'b': 2, 'c': 1, 'd': 2, 'e': 3}\n",
    "\n",
    "unique_values = set(my_dict.values())\n",
    "print(unique_values)  "
   ]
  },
  {
   "cell_type": "code",
   "execution_count": null,
   "id": "0b72186e",
   "metadata": {},
   "outputs": [],
   "source": []
  }
 ],
 "metadata": {
  "kernelspec": {
   "display_name": "Python 3 (ipykernel)",
   "language": "python",
   "name": "python3"
  },
  "language_info": {
   "codemirror_mode": {
    "name": "ipython",
    "version": 3
   },
   "file_extension": ".py",
   "mimetype": "text/x-python",
   "name": "python",
   "nbconvert_exporter": "python",
   "pygments_lexer": "ipython3",
   "version": "3.10.9"
  }
 },
 "nbformat": 4,
 "nbformat_minor": 5
}
