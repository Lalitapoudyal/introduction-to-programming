{
 "cells": [
  {
   "cell_type": "code",
   "execution_count": 1,
   "id": "19880071",
   "metadata": {},
   "outputs": [],
   "source": [
    "#lists"
   ]
  },
  {
   "cell_type": "code",
   "execution_count": 2,
   "id": "45c028c1",
   "metadata": {},
   "outputs": [],
   "source": [
    "my_list=[1,2,3,4,5]"
   ]
  },
  {
   "cell_type": "code",
   "execution_count": 3,
   "id": "fb62bcc3",
   "metadata": {},
   "outputs": [
    {
     "data": {
      "text/plain": [
       "[1, 2, 3, 4, 5]"
      ]
     },
     "execution_count": 3,
     "metadata": {},
     "output_type": "execute_result"
    }
   ],
   "source": [
    "my_list"
   ]
  },
  {
   "cell_type": "code",
   "execution_count": 12,
   "id": "14abca47",
   "metadata": {},
   "outputs": [],
   "source": [
    "mystrings=\"HELLO\""
   ]
  },
  {
   "cell_type": "code",
   "execution_count": 15,
   "id": "aebb5d82",
   "metadata": {},
   "outputs": [
    {
     "data": {
      "text/plain": [
       "['H', 'LLO']"
      ]
     },
     "execution_count": 15,
     "metadata": {},
     "output_type": "execute_result"
    }
   ],
   "source": [
    "mystrings.split('E')"
   ]
  },
  {
   "cell_type": "code",
   "execution_count": 16,
   "id": "14789751",
   "metadata": {},
   "outputs": [
    {
     "data": {
      "text/plain": [
       "[1, 2, 3, 4, 5]"
      ]
     },
     "execution_count": 16,
     "metadata": {},
     "output_type": "execute_result"
    }
   ],
   "source": [
    "my_list"
   ]
  },
  {
   "cell_type": "code",
   "execution_count": 17,
   "id": "7cbe1b2c",
   "metadata": {},
   "outputs": [],
   "source": [
    "my_list =[1,'string',23.2]"
   ]
  },
  {
   "cell_type": "code",
   "execution_count": 18,
   "id": "d182c0e2",
   "metadata": {},
   "outputs": [
    {
     "data": {
      "text/plain": [
       "[1, 'string', 23.2]"
      ]
     },
     "execution_count": 18,
     "metadata": {},
     "output_type": "execute_result"
    }
   ],
   "source": [
    "my_list"
   ]
  },
  {
   "cell_type": "code",
   "execution_count": 21,
   "id": "3ebae8ce",
   "metadata": {},
   "outputs": [
    {
     "data": {
      "text/plain": [
       "3"
      ]
     },
     "execution_count": 21,
     "metadata": {},
     "output_type": "execute_result"
    }
   ],
   "source": [
    "len(my_list)"
   ]
  },
  {
   "cell_type": "code",
   "execution_count": 23,
   "id": "332cc224",
   "metadata": {},
   "outputs": [
    {
     "data": {
      "text/plain": [
       "'string'"
      ]
     },
     "execution_count": 23,
     "metadata": {},
     "output_type": "execute_result"
    }
   ],
   "source": [
    "my_list[1] #indexing"
   ]
  },
  {
   "cell_type": "code",
   "execution_count": 25,
   "id": "23adc384",
   "metadata": {},
   "outputs": [
    {
     "data": {
      "text/plain": [
       "['string', 23.2]"
      ]
     },
     "execution_count": 25,
     "metadata": {},
     "output_type": "execute_result"
    }
   ],
   "source": [
    "my_list[1:]"
   ]
  },
  {
   "cell_type": "code",
   "execution_count": 27,
   "id": "a629e160",
   "metadata": {},
   "outputs": [
    {
     "data": {
      "text/plain": [
       "[1, 'string']"
      ]
     },
     "execution_count": 27,
     "metadata": {},
     "output_type": "execute_result"
    }
   ],
   "source": [
    "my_list[0:2]"
   ]
  },
  {
   "cell_type": "code",
   "execution_count": 28,
   "id": "fac54117",
   "metadata": {},
   "outputs": [
    {
     "data": {
      "text/plain": [
       "[1, 'string', 23.2]"
      ]
     },
     "execution_count": 28,
     "metadata": {},
     "output_type": "execute_result"
    }
   ],
   "source": [
    "my_list"
   ]
  },
  {
   "cell_type": "code",
   "execution_count": 30,
   "id": "80d08410",
   "metadata": {},
   "outputs": [],
   "source": [
    "second_list=[4,5,'six']"
   ]
  },
  {
   "cell_type": "code",
   "execution_count": 32,
   "id": "578198b7",
   "metadata": {},
   "outputs": [],
   "source": [
    "new_list= my_list + second_list"
   ]
  },
  {
   "cell_type": "code",
   "execution_count": 33,
   "id": "9bfb4ef6",
   "metadata": {},
   "outputs": [
    {
     "data": {
      "text/plain": [
       "[1, 'string', 23.2, 4, 5, 'six']"
      ]
     },
     "execution_count": 33,
     "metadata": {},
     "output_type": "execute_result"
    }
   ],
   "source": [
    "new_list"
   ]
  },
  {
   "cell_type": "code",
   "execution_count": 34,
   "id": "294a0469",
   "metadata": {},
   "outputs": [
    {
     "data": {
      "text/plain": [
       "[4, 5, 'six']"
      ]
     },
     "execution_count": 34,
     "metadata": {},
     "output_type": "execute_result"
    }
   ],
   "source": [
    "second_list"
   ]
  },
  {
   "cell_type": "code",
   "execution_count": 35,
   "id": "db437a12",
   "metadata": {},
   "outputs": [],
   "source": [
    "second_list[0]= \"CHANGED\""
   ]
  },
  {
   "cell_type": "code",
   "execution_count": 36,
   "id": "59250de1",
   "metadata": {},
   "outputs": [
    {
     "data": {
      "text/plain": [
       "['CHANGED', 5, 'six']"
      ]
     },
     "execution_count": 36,
     "metadata": {},
     "output_type": "execute_result"
    }
   ],
   "source": [
    "second_list"
   ]
  },
  {
   "cell_type": "code",
   "execution_count": 37,
   "id": "404b9b12",
   "metadata": {},
   "outputs": [],
   "source": [
    "mstring=\"HELLO\""
   ]
  },
  {
   "cell_type": "code",
   "execution_count": 39,
   "id": "f464a82a",
   "metadata": {},
   "outputs": [
    {
     "data": {
      "text/plain": [
       "'H'"
      ]
     },
     "execution_count": 39,
     "metadata": {},
     "output_type": "execute_result"
    }
   ],
   "source": [
    "mstring[0]"
   ]
  },
  {
   "cell_type": "code",
   "execution_count": 41,
   "id": "bd340f46",
   "metadata": {},
   "outputs": [],
   "source": [
    "new_string=mstring[1:]"
   ]
  },
  {
   "cell_type": "code",
   "execution_count": 43,
   "id": "b292fff2",
   "metadata": {},
   "outputs": [
    {
     "data": {
      "text/plain": [
       "'ELLO'"
      ]
     },
     "execution_count": 43,
     "metadata": {},
     "output_type": "execute_result"
    }
   ],
   "source": [
    "new_string"
   ]
  },
  {
   "cell_type": "code",
   "execution_count": 46,
   "id": "f628cf8d",
   "metadata": {},
   "outputs": [],
   "source": [
    "new_word=\"P\"+new_string"
   ]
  },
  {
   "cell_type": "code",
   "execution_count": 48,
   "id": "41e1d2d9",
   "metadata": {},
   "outputs": [
    {
     "data": {
      "text/plain": [
       "'PELLO'"
      ]
     },
     "execution_count": 48,
     "metadata": {},
     "output_type": "execute_result"
    }
   ],
   "source": [
    "new_word"
   ]
  },
  {
   "cell_type": "code",
   "execution_count": 49,
   "id": "21dae865",
   "metadata": {},
   "outputs": [
    {
     "data": {
      "text/plain": [
       "['CHANGED', 5, 'six']"
      ]
     },
     "execution_count": 49,
     "metadata": {},
     "output_type": "execute_result"
    }
   ],
   "source": [
    "second_list"
   ]
  },
  {
   "cell_type": "code",
   "execution_count": 50,
   "id": "395351a6",
   "metadata": {},
   "outputs": [],
   "source": [
    "second_list.append('seven')"
   ]
  },
  {
   "cell_type": "code",
   "execution_count": 51,
   "id": "d76cc2dd",
   "metadata": {},
   "outputs": [
    {
     "data": {
      "text/plain": [
       "['CHANGED', 5, 'six', 'seven']"
      ]
     },
     "execution_count": 51,
     "metadata": {},
     "output_type": "execute_result"
    }
   ],
   "source": [
    "second_list"
   ]
  },
  {
   "cell_type": "code",
   "execution_count": 55,
   "id": "c7477fbf",
   "metadata": {},
   "outputs": [
    {
     "data": {
      "text/plain": [
       "'seven'"
      ]
     },
     "execution_count": 55,
     "metadata": {},
     "output_type": "execute_result"
    }
   ],
   "source": [
    "second_list.pop(2)"
   ]
  },
  {
   "cell_type": "code",
   "execution_count": 53,
   "id": "16603db2",
   "metadata": {},
   "outputs": [
    {
     "data": {
      "text/plain": [
       "['CHANGED', 5, 'seven']"
      ]
     },
     "execution_count": 53,
     "metadata": {},
     "output_type": "execute_result"
    }
   ],
   "source": [
    "second_list"
   ]
  },
  {
   "cell_type": "code",
   "execution_count": 56,
   "id": "d2932aec",
   "metadata": {},
   "outputs": [],
   "source": [
    "new_list =[2,3,'hi',4,5]"
   ]
  },
  {
   "cell_type": "code",
   "execution_count": 57,
   "id": "0fb807eb",
   "metadata": {},
   "outputs": [
    {
     "data": {
      "text/plain": [
       "5"
      ]
     },
     "execution_count": 57,
     "metadata": {},
     "output_type": "execute_result"
    }
   ],
   "source": [
    "new_list[-1]"
   ]
  },
  {
   "cell_type": "code",
   "execution_count": 58,
   "id": "4f1f1123",
   "metadata": {},
   "outputs": [],
   "source": [
    "new_list= [\"a\",'x''c','z','b']\n",
    "num_list =[5,7,1,2,8]"
   ]
  },
  {
   "cell_type": "code",
   "execution_count": 59,
   "id": "ef4227a1",
   "metadata": {},
   "outputs": [],
   "source": [
    "num_list.sort()"
   ]
  },
  {
   "cell_type": "code",
   "execution_count": 61,
   "id": "a31a7fcb",
   "metadata": {},
   "outputs": [],
   "source": [
    "sorted_list= num_list"
   ]
  },
  {
   "cell_type": "code",
   "execution_count": null,
   "id": "06b4b99d",
   "metadata": {},
   "outputs": [],
   "source": []
  }
 ],
 "metadata": {
  "kernelspec": {
   "display_name": "Python 3 (ipykernel)",
   "language": "python",
   "name": "python3"
  },
  "language_info": {
   "codemirror_mode": {
    "name": "ipython",
    "version": 3
   },
   "file_extension": ".py",
   "mimetype": "text/x-python",
   "name": "python",
   "nbconvert_exporter": "python",
   "pygments_lexer": "ipython3",
   "version": "3.10.9"
  }
 },
 "nbformat": 4,
 "nbformat_minor": 5
}
