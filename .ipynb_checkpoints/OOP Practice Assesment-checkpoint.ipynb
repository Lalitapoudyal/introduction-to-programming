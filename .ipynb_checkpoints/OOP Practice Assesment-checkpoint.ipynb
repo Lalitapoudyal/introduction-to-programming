{
 "cells": [
  {
   "cell_type": "markdown",
   "id": "42372dd8",
   "metadata": {},
   "source": [
    "Object Oriented Programming\n"
   ]
  },
  {
   "cell_type": "markdown",
   "id": "9f26d395",
   "metadata": {},
   "source": [
    "Practice Asessment\n",
    "Problem 1\n",
    "Fill in the Line class methods to accept coordinates as a pair of tuples and return the slope and distance of\n",
    "the line.\n"
   ]
  },
  {
   "cell_type": "code",
   "execution_count": 5,
   "id": "69eeadbc",
   "metadata": {},
   "outputs": [],
   "source": [
    "class Line:\n",
    "    def __init__(self,coor1,coor2):\n",
    "        self.coor1 = coor1\n",
    "        self.coor2 = coor2\n",
    "    def distance(self):\n",
    "        x1,y1 = self.coor1\n",
    "        x2,y2 = self.coor2\n",
    "        return ((x2-x1)**2 + (y2-y1)**2)**0.5\n",
    "    def slope(self):\n",
    "        x1,y1 = self.coor1\n",
    "        x2,y2 = self.coor2\n",
    "        return (y2-y1)/(x2-x1)"
   ]
  },
  {
   "cell_type": "code",
   "execution_count": 6,
   "id": "d237f37e",
   "metadata": {},
   "outputs": [],
   "source": [
    "\n",
    "# EXAMPLE OUTPUT\n",
    "coordinate1 = (3,2)\n",
    "coordinate2 = (8,10)\n",
    "line = Line(coordinate1,coordinate2)"
   ]
  },
  {
   "cell_type": "code",
   "execution_count": 7,
   "id": "8271132f",
   "metadata": {},
   "outputs": [
    {
     "data": {
      "text/plain": [
       "9.433981132056603"
      ]
     },
     "execution_count": 7,
     "metadata": {},
     "output_type": "execute_result"
    }
   ],
   "source": [
    "line.distance()"
   ]
  },
  {
   "cell_type": "code",
   "execution_count": 8,
   "id": "e735efe8",
   "metadata": {},
   "outputs": [
    {
     "data": {
      "text/plain": [
       "1.6"
      ]
     },
     "execution_count": 8,
     "metadata": {},
     "output_type": "execute_result"
    }
   ],
   "source": [
    "line.slope()"
   ]
  },
  {
   "cell_type": "markdown",
   "id": "79af77c6",
   "metadata": {},
   "source": [
    "Problem 2\n",
    "Fill in the class\n"
   ]
  },
  {
   "cell_type": "code",
   "execution_count": 9,
   "id": "9edb497e",
   "metadata": {},
   "outputs": [],
   "source": [
    "class Cylinder:\n",
    "    def __init__(self,height=1,radius=1):\n",
    "        self.height = height\n",
    "        self.radius = radius\n",
    "    def volume(self):\n",
    "        return self.height*3.14*(self.radius)**2\n",
    "\n",
    "# 2π r h + 2π r²\n",
    "    def surface_area(self):\n",
    "        top = 3.14 * (self.radius)**2\n",
    "        return (2*top) + (2*3.14*self.radius*self.height)\n"
   ]
  },
  {
   "cell_type": "code",
   "execution_count": 10,
   "id": "0967dd3f",
   "metadata": {},
   "outputs": [],
   "source": [
    "cyl= Cylinder(9,10)"
   ]
  },
  {
   "cell_type": "code",
   "execution_count": 11,
   "id": "6669e74c",
   "metadata": {},
   "outputs": [
    {
     "data": {
      "text/plain": [
       "2826.0"
      ]
     },
     "execution_count": 11,
     "metadata": {},
     "output_type": "execute_result"
    }
   ],
   "source": [
    "cyl.volume()"
   ]
  },
  {
   "cell_type": "code",
   "execution_count": 12,
   "id": "fc165aa2",
   "metadata": {
    "scrolled": true
   },
   "outputs": [
    {
     "data": {
      "text/plain": [
       "1193.2"
      ]
     },
     "execution_count": 12,
     "metadata": {},
     "output_type": "execute_result"
    }
   ],
   "source": [
    "cyl.surface_area()\n"
   ]
  },
  {
   "cell_type": "code",
   "execution_count": null,
   "id": "1ec9813e",
   "metadata": {},
   "outputs": [],
   "source": []
  },
  {
   "cell_type": "code",
   "execution_count": null,
   "id": "b2871512",
   "metadata": {},
   "outputs": [],
   "source": []
  }
 ],
 "metadata": {
  "kernelspec": {
   "display_name": "Python 3 (ipykernel)",
   "language": "python",
   "name": "python3"
  },
  "language_info": {
   "codemirror_mode": {
    "name": "ipython",
    "version": 3
   },
   "file_extension": ".py",
   "mimetype": "text/x-python",
   "name": "python",
   "nbconvert_exporter": "python",
   "pygments_lexer": "ipython3",
   "version": "3.10.9"
  }
 },
 "nbformat": 4,
 "nbformat_minor": 5
}
