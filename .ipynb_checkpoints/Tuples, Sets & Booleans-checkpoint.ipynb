{
 "cells": [
  {
   "cell_type": "code",
   "execution_count": 1,
   "id": "3e30c97b",
   "metadata": {},
   "outputs": [],
   "source": [
    "#tuples have ()"
   ]
  },
  {
   "cell_type": "code",
   "execution_count": 2,
   "id": "0ba60bc7",
   "metadata": {},
   "outputs": [],
   "source": [
    "m_list=(1,23,43,356)"
   ]
  },
  {
   "cell_type": "code",
   "execution_count": 3,
   "id": "b1dd60da",
   "metadata": {},
   "outputs": [],
   "source": [
    "m_tup=(1,2,3,5)"
   ]
  },
  {
   "cell_type": "code",
   "execution_count": 4,
   "id": "4547ade9",
   "metadata": {},
   "outputs": [
    {
     "data": {
      "text/plain": [
       "tuple"
      ]
     },
     "execution_count": 4,
     "metadata": {},
     "output_type": "execute_result"
    }
   ],
   "source": [
    "type(m_list)"
   ]
  },
  {
   "cell_type": "code",
   "execution_count": 6,
   "id": "b0649e42",
   "metadata": {},
   "outputs": [
    {
     "data": {
      "text/plain": [
       "5"
      ]
     },
     "execution_count": 6,
     "metadata": {},
     "output_type": "execute_result"
    }
   ],
   "source": [
    "m_tup[-1]"
   ]
  },
  {
   "cell_type": "code",
   "execution_count": 7,
   "id": "9f473fa6",
   "metadata": {},
   "outputs": [],
   "source": [
    "t=(\"a\",\"a\",\"b\",\"c\")"
   ]
  },
  {
   "cell_type": "code",
   "execution_count": null,
   "id": "1d2b36c8",
   "metadata": {},
   "outputs": [],
   "source": []
  },
  {
   "cell_type": "code",
   "execution_count": 8,
   "id": "aa90c874",
   "metadata": {},
   "outputs": [],
   "source": [
    "#sets"
   ]
  },
  {
   "cell_type": "code",
   "execution_count": null,
   "id": "16d6a0c3",
   "metadata": {},
   "outputs": [],
   "source": [
    "myset="
   ]
  }
 ],
 "metadata": {
  "kernelspec": {
   "display_name": "Python 3 (ipykernel)",
   "language": "python",
   "name": "python3"
  },
  "language_info": {
   "codemirror_mode": {
    "name": "ipython",
    "version": 3
   },
   "file_extension": ".py",
   "mimetype": "text/x-python",
   "name": "python",
   "nbconvert_exporter": "python",
   "pygments_lexer": "ipython3",
   "version": "3.10.9"
  }
 },
 "nbformat": 4,
 "nbformat_minor": 5
}
