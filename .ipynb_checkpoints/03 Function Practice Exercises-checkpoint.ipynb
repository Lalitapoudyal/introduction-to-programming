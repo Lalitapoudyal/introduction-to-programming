{
 "cells": [
  {
   "cell_type": "markdown",
   "id": "84b1fb75",
   "metadata": {},
   "source": [
    "LESSER OF TWO EVENS: Write a function that returns the lesser of two given numbers if\n",
    "both numbers are even, but returns the greater if one or both numbers are odd\n",
    "lesser_of_two_evens(2,4) --> 2\n",
    "lesser_of_two_evens(2,5) --> 5"
   ]
  },
  {
   "cell_type": "code",
   "execution_count": 31,
   "id": "ab33c3ff",
   "metadata": {},
   "outputs": [],
   "source": [
    "def lesser_of_two_evens(a,b):\n",
    "    if a % 2== 0and b % 2 ==0:\n",
    "        #Both are even\n",
    "        if a<b:\n",
    "            result = a\n",
    "        else:\n",
    "                result = b\n",
    "    else:\n",
    "            if a>b:\n",
    "                result = a\n",
    "            else:\n",
    "                result = b\n",
    "    return result"
   ]
  },
  {
   "cell_type": "code",
   "execution_count": 32,
   "id": "be13910c",
   "metadata": {},
   "outputs": [
    {
     "data": {
      "text/plain": [
       "2"
      ]
     },
     "execution_count": 32,
     "metadata": {},
     "output_type": "execute_result"
    }
   ],
   "source": [
    "# Check\n",
    "lesser_of_two_evens(2,4)\n"
   ]
  },
  {
   "cell_type": "code",
   "execution_count": 33,
   "id": "db8cba89",
   "metadata": {},
   "outputs": [
    {
     "data": {
      "text/plain": [
       "5"
      ]
     },
     "execution_count": 33,
     "metadata": {},
     "output_type": "execute_result"
    }
   ],
   "source": [
    "# Check\n",
    "lesser_of_two_evens(2,5)\n"
   ]
  },
  {
   "cell_type": "code",
   "execution_count": 34,
   "id": "10566abd",
   "metadata": {},
   "outputs": [],
   "source": [
    "def lesser_of_two_evens(a,b):\n",
    "    if a % 2 == 0 and b % 2 == 0:\n",
    "        result = min(a,b)\n",
    "    else:\n",
    "        result = max(a,b)\n",
    "        return result"
   ]
  },
  {
   "cell_type": "code",
   "execution_count": 53,
   "id": "b3650304",
   "metadata": {},
   "outputs": [
    {
     "data": {
      "text/plain": [
       "2"
      ]
     },
     "execution_count": 53,
     "metadata": {},
     "output_type": "execute_result"
    }
   ],
   "source": [
    "lesser_of_two_evens(2,4)"
   ]
  },
  {
   "cell_type": "code",
   "execution_count": 46,
   "id": "c0e1f42b",
   "metadata": {},
   "outputs": [
    {
     "data": {
      "text/plain": [
       "5"
      ]
     },
     "execution_count": 46,
     "metadata": {},
     "output_type": "execute_result"
    }
   ],
   "source": [
    "lesser_of_two_evens(2,5)"
   ]
  },
  {
   "cell_type": "code",
   "execution_count": 50,
   "id": "138fbcc7",
   "metadata": {},
   "outputs": [],
   "source": [
    "#a more efficient code\n",
    "def lesser_of_two_evens(a,b):\n",
    "    if a % 2 == 0 and b % 2 == 0:\n",
    "        return min(a,b)\n",
    "    else:\n",
    "        return max(a,b)"
   ]
  },
  {
   "cell_type": "code",
   "execution_count": 51,
   "id": "6ee61ee9",
   "metadata": {},
   "outputs": [
    {
     "data": {
      "text/plain": [
       "2"
      ]
     },
     "execution_count": 51,
     "metadata": {},
     "output_type": "execute_result"
    }
   ],
   "source": [
    "lesser_of_two_evens(2,4)"
   ]
  },
  {
   "cell_type": "code",
   "execution_count": 52,
   "id": "2064496d",
   "metadata": {},
   "outputs": [
    {
     "data": {
      "text/plain": [
       "5"
      ]
     },
     "execution_count": 52,
     "metadata": {},
     "output_type": "execute_result"
    }
   ],
   "source": [
    "lesser_of_two_evens(2,5)"
   ]
  },
  {
   "cell_type": "markdown",
   "id": "25fbea9a",
   "metadata": {},
   "source": [
    "ANIMAL CRACKERS: Write a function takes a two-word string and returns True if both\n",
    "words begin with same letter\n",
    "animal_crackers('Levelheaded Llama') --> True\n",
    "animal_crackers('Crazy Kangaroo') --> False"
   ]
  },
  {
   "cell_type": "code",
   "execution_count": 57,
   "id": "e0289082",
   "metadata": {},
   "outputs": [],
   "source": [
    "def animal_crackers(text):\n",
    "    wordlist = text.split()\n",
    "    first = wordlist[0]\n",
    "    second = wordlist[1]\n",
    "    return first[0] == second[0]"
   ]
  },
  {
   "cell_type": "code",
   "execution_count": 58,
   "id": "1f79c619",
   "metadata": {},
   "outputs": [
    {
     "data": {
      "text/plain": [
       "True"
      ]
     },
     "execution_count": 58,
     "metadata": {},
     "output_type": "execute_result"
    }
   ],
   "source": [
    "# Check\n",
    "animal_crackers('Levelheaded Llama')"
   ]
  },
  {
   "cell_type": "code",
   "execution_count": 61,
   "id": "63a9c76a",
   "metadata": {},
   "outputs": [
    {
     "data": {
      "text/plain": [
       "False"
      ]
     },
     "execution_count": 61,
     "metadata": {},
     "output_type": "execute_result"
    }
   ],
   "source": [
    "#check\n",
    "animal_crackers('Crazy Kangaroo')\n"
   ]
  },
  {
   "cell_type": "code",
   "execution_count": 68,
   "id": "c7db4e0f",
   "metadata": {},
   "outputs": [],
   "source": [
    "def animal_crackers(text):\n",
    "    wordlist = text.lower().split()\n",
    "    #print(wordlist)\n",
    "    #print(wordlist[0][0])\n",
    "    #print(wordlist[1][0])\n",
    "    return wordlist[0][0] == wordlist[1][0]"
   ]
  },
  {
   "cell_type": "code",
   "execution_count": 69,
   "id": "08432ec4",
   "metadata": {},
   "outputs": [
    {
     "data": {
      "text/plain": [
       "True"
      ]
     },
     "execution_count": 69,
     "metadata": {},
     "output_type": "execute_result"
    }
   ],
   "source": [
    "animal_crackers('Levelheaded Llama')"
   ]
  },
  {
   "cell_type": "code",
   "execution_count": 70,
   "id": "65b2059d",
   "metadata": {},
   "outputs": [
    {
     "data": {
      "text/plain": [
       "False"
      ]
     },
     "execution_count": 70,
     "metadata": {},
     "output_type": "execute_result"
    }
   ],
   "source": [
    "animal_crackers('Crazy Kangaroo')"
   ]
  },
  {
   "cell_type": "markdown",
   "id": "a9c78e11",
   "metadata": {},
   "source": [
    "MAKES TWENTY: Given two integers, return True if the sum of the integers is 20 or if one of the integers is 20. If not, return False\n",
    "makes_twenty(20,10) --> True\n",
    "makes_twenty(12,8) --> True\n",
    "makes_twenty(2,3) --> False\n",
    "\n"
   ]
  },
  {
   "cell_type": "code",
   "execution_count": 3,
   "id": "ca62266e",
   "metadata": {},
   "outputs": [],
   "source": [
    "def makes_twenty(n1,n2):\n",
    "    if n1+n2 == 20:\n",
    "        return True\n",
    "    elif n1 == 20:\n",
    "        return True\n",
    "    elif n2 == 20:\n",
    "        return True\n",
    "    else:\n",
    "        return False"
   ]
  },
  {
   "cell_type": "code",
   "execution_count": 4,
   "id": "c6884128",
   "metadata": {},
   "outputs": [
    {
     "data": {
      "text/plain": [
       "True"
      ]
     },
     "execution_count": 4,
     "metadata": {},
     "output_type": "execute_result"
    }
   ],
   "source": [
    "#Check\n",
    "makes_twenty(20,10)\n"
   ]
  },
  {
   "cell_type": "code",
   "execution_count": 5,
   "id": "5bedbf0b",
   "metadata": {},
   "outputs": [
    {
     "data": {
      "text/plain": [
       "False"
      ]
     },
     "execution_count": 5,
     "metadata": {},
     "output_type": "execute_result"
    }
   ],
   "source": [
    "makes_twenty(2,3)"
   ]
  },
  {
   "cell_type": "code",
   "execution_count": 7,
   "id": "a8a77b4e",
   "metadata": {},
   "outputs": [],
   "source": [
    "def makes_twenty(n1,n2):\n",
    "    return n1+n2 == 20 or n1==20 or n2==0"
   ]
  },
  {
   "cell_type": "code",
   "execution_count": 8,
   "id": "7b1f0834",
   "metadata": {},
   "outputs": [
    {
     "data": {
      "text/plain": [
       "True"
      ]
     },
     "execution_count": 8,
     "metadata": {},
     "output_type": "execute_result"
    }
   ],
   "source": [
    "makes_twenty(20,10)"
   ]
  },
  {
   "cell_type": "code",
   "execution_count": 9,
   "id": "6e907615",
   "metadata": {},
   "outputs": [
    {
     "data": {
      "text/plain": [
       "False"
      ]
     },
     "execution_count": 9,
     "metadata": {},
     "output_type": "execute_result"
    }
   ],
   "source": [
    "makes_twenty(2,3)"
   ]
  },
  {
   "cell_type": "markdown",
   "id": "32a86642",
   "metadata": {},
   "source": [
    "LEVEL 1 PROBLEMS\n",
    "OLD MACDONALD: Write a function that capitalizes the first and fourth letters of a\n",
    "name\n",
    "old_macdonald('macdonald') --> MacDonald\n",
    "Note: 'macdonald'.capitalize() returns 'Macdonald'\n"
   ]
  },
  {
   "cell_type": "code",
   "execution_count": 23,
   "id": "4c03419b",
   "metadata": {},
   "outputs": [],
   "source": [
    "#using upper\n",
    "def old_macdonald(name):\n",
    "    first = name[0]\n",
    "  #print(first)\n",
    "    in_between = name[1:3]\n",
    "    #print(in_between)\n",
    "    fourth = name[3]\n",
    "    #print(fourth)\n",
    "    rest = name[4:]\n",
    "    #print(fourth)\n",
    "    return first.upper()+in_between+fourth.upper()+rest\n"
   ]
  },
  {
   "cell_type": "code",
   "execution_count": 25,
   "id": "85384dee",
   "metadata": {},
   "outputs": [
    {
     "data": {
      "text/plain": [
       "'MacDonald'"
      ]
     },
     "execution_count": 25,
     "metadata": {},
     "output_type": "execute_result"
    }
   ],
   "source": [
    "old_macdonald('macdonald')"
   ]
  },
  {
   "cell_type": "code",
   "execution_count": 29,
   "id": "ab65cf6b",
   "metadata": {},
   "outputs": [],
   "source": [
    "#using captalize\n",
    "def old_macdonald(name):\n",
    "    first_half = name[:3]\n",
    "    second_half = name[3:]\n",
    "    return first_half.capitalize() + second_half.capitalize()"
   ]
  },
  {
   "cell_type": "code",
   "execution_count": 30,
   "id": "4abf7e52",
   "metadata": {},
   "outputs": [
    {
     "data": {
      "text/plain": [
       "'MacDonald'"
      ]
     },
     "execution_count": 30,
     "metadata": {},
     "output_type": "execute_result"
    }
   ],
   "source": [
    "old_macdonald('macdonald')"
   ]
  },
  {
   "cell_type": "markdown",
   "id": "c282dfed",
   "metadata": {},
   "source": [
    "MASTER YODA: Given a sentence, return a sentence with the words reversed\n",
    "master_yoda('I am home') --> 'home am I'\n",
    "master_yoda('We are ready') --> 'ready are We'\n",
    "Note: The .join() method may be useful here. The .join() method allows you to join together strings in a list\n",
    "with some connector string. For example, some uses of the .join() method:\n",
    ">>> \"--\".join(['a','b','c'])\n",
    ">>> 'a--b--c'\n",
    "This means if you had a list of words you wanted to turn back into a sentence, you could just join them with\n",
    "a single space string:\n",
    ">>> \" \".join(['Hello','world'])\n",
    ">>> \"Hello world\"\n"
   ]
  },
  {
   "cell_type": "code",
   "execution_count": 31,
   "id": "3f5d9fa7",
   "metadata": {},
   "outputs": [],
   "source": [
    "#returning reversed list\n",
    "def master_yoda(text):\n",
    "    wordlist = text.split()\n",
    "    rev = wordlist[::-1]\n",
    "    return rev"
   ]
  },
  {
   "cell_type": "code",
   "execution_count": 32,
   "id": "fabd1c95",
   "metadata": {},
   "outputs": [
    {
     "data": {
      "text/plain": [
       "['home', 'am', 'I']"
      ]
     },
     "execution_count": 32,
     "metadata": {},
     "output_type": "execute_result"
    }
   ],
   "source": [
    "master_yoda('I am home')"
   ]
  },
  {
   "cell_type": "code",
   "execution_count": 33,
   "id": "467b9f77",
   "metadata": {},
   "outputs": [
    {
     "data": {
      "text/plain": [
       "['ready', 'are', 'we']"
      ]
     },
     "execution_count": 33,
     "metadata": {},
     "output_type": "execute_result"
    }
   ],
   "source": [
    "master_yoda('we are ready')"
   ]
  },
  {
   "cell_type": "code",
   "execution_count": 34,
   "id": "cd4bcc33",
   "metadata": {},
   "outputs": [
    {
     "data": {
      "text/plain": [
       "'a---b---c'"
      ]
     },
     "execution_count": 34,
     "metadata": {},
     "output_type": "execute_result"
    }
   ],
   "source": [
    "#understanding join method\n",
    "mylist = ['a','b','c']\n",
    "'---'.join(mylist)"
   ]
  },
  {
   "cell_type": "code",
   "execution_count": 35,
   "id": "a54adcd9",
   "metadata": {},
   "outputs": [
    {
     "data": {
      "text/plain": [
       "'a b c'"
      ]
     },
     "execution_count": 35,
     "metadata": {},
     "output_type": "execute_result"
    }
   ],
   "source": [
    "mylist = ['a','b','c']\n",
    "' '.join(mylist)\n"
   ]
  },
  {
   "cell_type": "code",
   "execution_count": 36,
   "id": "ed9fae63",
   "metadata": {},
   "outputs": [
    {
     "data": {
      "text/plain": [
       "'abc'"
      ]
     },
     "execution_count": 36,
     "metadata": {},
     "output_type": "execute_result"
    }
   ],
   "source": [
    "mylist = ['a','b','c']\n",
    "''.join(mylist)\n"
   ]
  },
  {
   "cell_type": "code",
   "execution_count": 37,
   "id": "35e4f82f",
   "metadata": {},
   "outputs": [
    {
     "data": {
      "text/plain": [
       "'aoooboooc'"
      ]
     },
     "execution_count": 37,
     "metadata": {},
     "output_type": "execute_result"
    }
   ],
   "source": [
    "mylist = ['a','b','c']\n",
    "'ooo'.join(mylist)"
   ]
  },
  {
   "cell_type": "code",
   "execution_count": 38,
   "id": "69014d8c",
   "metadata": {},
   "outputs": [],
   "source": [
    "#returning actual string intead of the list\n",
    "def master_yoda(text):\n",
    "    wordlist = text.split()\n",
    "    rev = wordlist[::-1]\n",
    "    return ' '.join(rev)\n"
   ]
  },
  {
   "cell_type": "code",
   "execution_count": 40,
   "id": "fd6bfd4c",
   "metadata": {},
   "outputs": [
    {
     "data": {
      "text/plain": [
       "'home am I'"
      ]
     },
     "execution_count": 40,
     "metadata": {},
     "output_type": "execute_result"
    }
   ],
   "source": [
    "# Check\n",
    "master_yoda('I am home')"
   ]
  },
  {
   "cell_type": "markdown",
   "id": "ff5e3092",
   "metadata": {},
   "source": [
    "ALMOST THERE: Given an integer n, return True if n is within 10 of either 100 or 200\n",
    "almost_there(90) --> True\n",
    "almost_there(104) --> True\n",
    "almost_there(150) --> False\n",
    "almost_there(209) --> True\n",
    "NOTE: abs(num) returns the absolute value of a number\n",
    "abs returns the absolute value of a number\n",
    "in this case : def almost_there(n): if ((100-n)<=10 or (200-n)<=10): print('True') else: print('False')\n",
    "the function will evaluate the conditions:\n",
    "(100 - 150) <= 10 which simplifies to -50 <= 10. This condition is true because -50 is indeed less than 10.\n",
    "(200 - 150) <= 10 which simplifies to 50 <= 10. This condition is false because 50 is not less than 10.\n",
    "Because you used an or operator, if either of the conditions is true, the whole condition becomes true. In\n",
    "this case, the first condition is true, so the function prints \"True\".\n",
    "But this is not correct according to the problem statement. The number 150 is not within 10 of 100 or 200.\n",
    "So, you need to take the absolute difference to ensure you are checking whether n is within 10 units above\n",
    "or below 100 or 200, and that's where abs() comes in"
   ]
  },
  {
   "cell_type": "code",
   "execution_count": 41,
   "id": "79dce53d",
   "metadata": {},
   "outputs": [],
   "source": [
    "def almost_there(n):\n",
    "    return (100-n)<=10 or (200 - n)<=10\n"
   ]
  },
  {
   "cell_type": "code",
   "execution_count": 42,
   "id": "847152d1",
   "metadata": {},
   "outputs": [
    {
     "data": {
      "text/plain": [
       "True"
      ]
     },
     "execution_count": 42,
     "metadata": {},
     "output_type": "execute_result"
    }
   ],
   "source": [
    "almost_there(90)"
   ]
  },
  {
   "cell_type": "code",
   "execution_count": 43,
   "id": "8f79cf4e",
   "metadata": {},
   "outputs": [
    {
     "data": {
      "text/plain": [
       "True"
      ]
     },
     "execution_count": 43,
     "metadata": {},
     "output_type": "execute_result"
    }
   ],
   "source": [
    "almost_there(104)"
   ]
  },
  {
   "cell_type": "code",
   "execution_count": 44,
   "id": "24db3ebd",
   "metadata": {},
   "outputs": [
    {
     "data": {
      "text/plain": [
       "True"
      ]
     },
     "execution_count": 44,
     "metadata": {},
     "output_type": "execute_result"
    }
   ],
   "source": [
    "almost_there(209)"
   ]
  },
  {
   "cell_type": "code",
   "execution_count": 45,
   "id": "8479f9eb",
   "metadata": {},
   "outputs": [],
   "source": [
    "#we need yo get abs to write the code correctly to determine if it is within 10 units ab\n",
    "def almost_there(n):\n",
    "    return abs(100-n)<=10 or abs(200 - n)<=10"
   ]
  },
  {
   "cell_type": "code",
   "execution_count": 46,
   "id": "247f46ee",
   "metadata": {},
   "outputs": [
    {
     "data": {
      "text/plain": [
       "True"
      ]
     },
     "execution_count": 46,
     "metadata": {},
     "output_type": "execute_result"
    }
   ],
   "source": [
    "almost_there(90)\n"
   ]
  },
  {
   "cell_type": "code",
   "execution_count": 47,
   "id": "6f228180",
   "metadata": {},
   "outputs": [
    {
     "data": {
      "text/plain": [
       "True"
      ]
     },
     "execution_count": 47,
     "metadata": {},
     "output_type": "execute_result"
    }
   ],
   "source": [
    "almost_there(209)"
   ]
  },
  {
   "cell_type": "markdown",
   "id": "df20461f",
   "metadata": {},
   "source": [
    "LEVEL 2 PROBLEMS\n",
    "FIND 33:\n",
    "Given a list of ints, return True if the array contains a 3 next to a 3 somewhere.\n",
    "has_33([1, 3, 3]) → True\n",
    "has_33([1, 3, 1, 3]) → False\n",
    "has_33([3, 1, 3]) → False\n"
   ]
  },
  {
   "cell_type": "code",
   "execution_count": 48,
   "id": "dec38b5d",
   "metadata": {},
   "outputs": [],
   "source": [
    "def has_33(nums):\n",
    "    for i in range(0,len(nums)-1):\n",
    "        if nums[i]== 3and nums [i+1] ==3:\n",
    "            return True\n",
    "    return False"
   ]
  },
  {
   "cell_type": "code",
   "execution_count": 49,
   "id": "c37028cd",
   "metadata": {},
   "outputs": [
    {
     "data": {
      "text/plain": [
       "True"
      ]
     },
     "execution_count": 49,
     "metadata": {},
     "output_type": "execute_result"
    }
   ],
   "source": [
    "has_33([1,3,3])"
   ]
  },
  {
   "cell_type": "code",
   "execution_count": 50,
   "id": "52297ff8",
   "metadata": {},
   "outputs": [
    {
     "data": {
      "text/plain": [
       "False"
      ]
     },
     "execution_count": 50,
     "metadata": {},
     "output_type": "execute_result"
    }
   ],
   "source": [
    "has_33([1,3,1])"
   ]
  },
  {
   "cell_type": "code",
   "execution_count": 51,
   "id": "961410a8",
   "metadata": {},
   "outputs": [],
   "source": [
    "#A less readable but slicker code\n",
    "def has_33(nums):\n",
    "    for i in range(0,len(nums)-1):\n",
    "        if nums[i:i+2] == [3,3]: #this is grabbing slices and comparing them to sublist\n",
    "            return True\n",
    "        return False"
   ]
  },
  {
   "cell_type": "code",
   "execution_count": 53,
   "id": "26c1d055",
   "metadata": {},
   "outputs": [
    {
     "data": {
      "text/plain": [
       "False"
      ]
     },
     "execution_count": 53,
     "metadata": {},
     "output_type": "execute_result"
    }
   ],
   "source": [
    "has_33([1,3,1])"
   ]
  },
  {
   "cell_type": "code",
   "execution_count": 55,
   "id": "aeb83b91",
   "metadata": {},
   "outputs": [
    {
     "data": {
      "text/plain": [
       "False"
      ]
     },
     "execution_count": 55,
     "metadata": {},
     "output_type": "execute_result"
    }
   ],
   "source": [
    "has_33([1,3,3])"
   ]
  },
  {
   "cell_type": "code",
   "execution_count": null,
   "id": "d905e4c5",
   "metadata": {},
   "outputs": [],
   "source": []
  }
 ],
 "metadata": {
  "kernelspec": {
   "display_name": "Python 3 (ipykernel)",
   "language": "python",
   "name": "python3"
  },
  "language_info": {
   "codemirror_mode": {
    "name": "ipython",
    "version": 3
   },
   "file_extension": ".py",
   "mimetype": "text/x-python",
   "name": "python",
   "nbconvert_exporter": "python",
   "pygments_lexer": "ipython3",
   "version": "3.10.9"
  }
 },
 "nbformat": 4,
 "nbformat_minor": 5
}
