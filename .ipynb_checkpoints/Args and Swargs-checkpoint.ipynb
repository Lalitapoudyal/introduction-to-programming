{
 "cells": [
  {
   "cell_type": "code",
   "execution_count": 1,
   "id": "1e9c82c5",
   "metadata": {},
   "outputs": [],
   "source": [
    "#*args (arguments)"
   ]
  },
  {
   "cell_type": "code",
   "execution_count": 2,
   "id": "d7079ed3",
   "metadata": {},
   "outputs": [],
   "source": [
    "def myfunc(a,b):\n",
    "    return (a+b) *0.05"
   ]
  },
  {
   "cell_type": "code",
   "execution_count": 3,
   "id": "f8d39336",
   "metadata": {},
   "outputs": [
    {
     "data": {
      "text/plain": [
       "5.0"
      ]
     },
     "execution_count": 3,
     "metadata": {},
     "output_type": "execute_result"
    }
   ],
   "source": [
    "myfunc(60,40)"
   ]
  },
  {
   "cell_type": "code",
   "execution_count": 9,
   "id": "fe0f0724",
   "metadata": {},
   "outputs": [],
   "source": [
    "def myfunc(a,b,c=0,d=0):\n",
    "    return sum ((a,b,c,d)) *0.5"
   ]
  },
  {
   "cell_type": "code",
   "execution_count": 10,
   "id": "149b93e4",
   "metadata": {},
   "outputs": [
    {
     "data": {
      "text/plain": [
       "25.0"
      ]
     },
     "execution_count": 10,
     "metadata": {},
     "output_type": "execute_result"
    }
   ],
   "source": [
    "myfunc(20,30)"
   ]
  },
  {
   "cell_type": "code",
   "execution_count": 11,
   "id": "58f576fb",
   "metadata": {},
   "outputs": [],
   "source": [
    "def myfunc(*args):\n",
    "    return sum(args)*0.05"
   ]
  },
  {
   "cell_type": "code",
   "execution_count": 12,
   "id": "a127c64e",
   "metadata": {},
   "outputs": [
    {
     "data": {
      "text/plain": [
       "22.0"
      ]
     },
     "execution_count": 12,
     "metadata": {},
     "output_type": "execute_result"
    }
   ],
   "source": [
    "myfunc(20,30,40,50,60,70,80,90)"
   ]
  },
  {
   "cell_type": "code",
   "execution_count": 13,
   "id": "bbcf47bc",
   "metadata": {},
   "outputs": [
    {
     "name": "stdout",
     "output_type": "stream",
     "text": [
      "10\n",
      "20\n",
      "30\n",
      "40\n",
      "50\n",
      "60\n",
      "70\n"
     ]
    }
   ],
   "source": [
    "def myfunc(*args):\n",
    "    for item in args:\n",
    "        print(item)\n",
    "myfunc(10,20,30,40,50,60,70,)"
   ]
  },
  {
   "cell_type": "code",
   "execution_count": 40,
   "id": "ed36d82b",
   "metadata": {},
   "outputs": [],
   "source": [
    "#**swargs "
   ]
  },
  {
   "cell_type": "code",
   "execution_count": 41,
   "id": "112452da",
   "metadata": {},
   "outputs": [
    {
     "name": "stdout",
     "output_type": "stream",
     "text": [
      "{'fruit': 'Apple', 'food': 'rice', 'veggie': 'lettuce'}\n",
      "my choice of fruit is rice\n"
     ]
    }
   ],
   "source": [
    "def myfunc(**kwargs):\n",
    "    print(kwargs)\n",
    "    if 'fruit' in kwargs:\n",
    "        print ('my choice of fruit is {}'.format(kwargs['food']))\n",
    "    else:\n",
    "          print ('I did not find any fruit here')\n",
    "myfunc(fruit='Apple',food='rice', veggie='lettuce')\n",
    "            "
   ]
  },
  {
   "cell_type": "code",
   "execution_count": 42,
   "id": "6fdc3fe8",
   "metadata": {},
   "outputs": [],
   "source": [
    "def mynewfunc(*args,**kwargs):\n",
    "    print('I would like {} {}'.format(args[0],kwargs['food'])) "
   ]
  },
  {
   "cell_type": "code",
   "execution_count": 43,
   "id": "6103357f",
   "metadata": {},
   "outputs": [
    {
     "name": "stdout",
     "output_type": "stream",
     "text": [
      "I would like 10 pizza\n"
     ]
    }
   ],
   "source": [
    "mynewfunc(10,20,30,40,food='pizza',fruit='Mango',veggie='potato')"
   ]
  },
  {
   "cell_type": "code",
   "execution_count": 44,
   "id": "ec8aaedf",
   "metadata": {},
   "outputs": [],
   "source": [
    "#Function exercise\n"
   ]
  },
  {
   "cell_type": "markdown",
   "id": "e7f0a917",
   "metadata": {},
   "source": [
    "Functions #1: *args\n",
    "Define a function called myfunc that takes in an arbitrary number of arguments, and returns the sum of\n",
    "those arguments.\n",
    "Remember, don't run the function, simply provide the definition."
   ]
  },
  {
   "cell_type": "raw",
   "id": "12ae76c9",
   "metadata": {},
   "source": [
    "def myfunc(*args):\n",
    "    return len(args)"
   ]
  },
  {
   "cell_type": "code",
   "execution_count": 33,
   "id": "7cce5dc2",
   "metadata": {},
   "outputs": [
    {
     "data": {
      "text/plain": [
       "4"
      ]
     },
     "execution_count": 33,
     "metadata": {},
     "output_type": "execute_result"
    }
   ],
   "source": [
    "myfunc(5,6,7,8)"
   ]
  },
  {
   "cell_type": "markdown",
   "id": "cc6df657",
   "metadata": {},
   "source": [
    "Functions #2: pick evens\n",
    "Define a function called myfunc that takes in an arbitrary number of arguments, and returns a list\n",
    "containing only those arguments that are even.\n",
    "Remember, don't run the function, simply provide the definition."
   ]
  },
  {
   "cell_type": "code",
   "execution_count": 30,
   "id": "e5c08404",
   "metadata": {},
   "outputs": [],
   "source": [
    "def myfunc(*args):\n",
    "    mylist = []\n",
    "    for number in args:\n",
    "        if number % 2 == 0:\n",
    "            mylist.append(number)\n",
    "        else:\n",
    "            pass\n",
    "    return mylist"
   ]
  },
  {
   "cell_type": "code",
   "execution_count": 31,
   "id": "c6f8552b",
   "metadata": {},
   "outputs": [
    {
     "data": {
      "text/plain": [
       "[6, 8]"
      ]
     },
     "execution_count": 31,
     "metadata": {},
     "output_type": "execute_result"
    }
   ],
   "source": [
    "myfunc(5,6,7,8)"
   ]
  },
  {
   "cell_type": "markdown",
   "id": "4616a506",
   "metadata": {},
   "source": [
    "Functions #10: skyline\n",
    "Define a function called myfunc that takes in a string, and returns a matching string where every even\n",
    "letter is uppercase, and every odd letter is lowercase. Assume that the incoming string only contains\n",
    "letters, and don't worry about numbers, spaces or punctuation. The output string can start with either\n",
    "an uppercase or lowercase letter, so long as letters alternate throughout the string.\n",
    "Remember, don't run the function, simply provide the definition."
   ]
  },
  {
   "cell_type": "code",
   "execution_count": 36,
   "id": "28f7e2f5",
   "metadata": {},
   "outputs": [],
   "source": [
    "def mystrfunc(inputstring):\n",
    "    outputstring=''\n",
    "    for item in range(len(inputstring)):\n",
    "        if item%2==0:\n",
    "            outputstring += inputstring[item].lower()\n",
    "        else:\n",
    "            outputstring += inputstring[item].upper()\n",
    "    return outputstring"
   ]
  },
  {
   "cell_type": "code",
   "execution_count": 37,
   "id": "e4bf1485",
   "metadata": {},
   "outputs": [
    {
     "data": {
      "text/plain": [
       "'aNtHrOpOmOrPhIsM'"
      ]
     },
     "execution_count": 37,
     "metadata": {},
     "output_type": "execute_result"
    }
   ],
   "source": [
    "mystrfunc('Anthropomorphism')"
   ]
  },
  {
   "cell_type": "code",
   "execution_count": 52,
   "id": "ecbeb5a4",
   "metadata": {},
   "outputs": [],
   "source": [
    "def mystrfunc(inputstring):\n",
    "    outputstring=''\n",
    "    for item in range(len(inputstring)):\n",
    "        if item%3==0:\n",
    "            outputstring += inputstring[item].upper()\n",
    "        else:\n",
    "            outputstring += inputstring[item].lower()\n",
    "    return outputstring"
   ]
  },
  {
   "cell_type": "code",
   "execution_count": 53,
   "id": "86068199",
   "metadata": {},
   "outputs": [
    {
     "data": {
      "text/plain": [
       "'AntHroPomOrpHisM'"
      ]
     },
     "execution_count": 53,
     "metadata": {},
     "output_type": "execute_result"
    }
   ],
   "source": [
    "mystrfunc('Anthropomorphism')"
   ]
  },
  {
   "cell_type": "code",
   "execution_count": null,
   "id": "839b9157",
   "metadata": {},
   "outputs": [],
   "source": []
  }
 ],
 "metadata": {
  "kernelspec": {
   "display_name": "Python 3 (ipykernel)",
   "language": "python",
   "name": "python3"
  },
  "language_info": {
   "codemirror_mode": {
    "name": "ipython",
    "version": 3
   },
   "file_extension": ".py",
   "mimetype": "text/x-python",
   "name": "python",
   "nbconvert_exporter": "python",
   "pygments_lexer": "ipython3",
   "version": "3.10.9"
  }
 },
 "nbformat": 4,
 "nbformat_minor": 5
}
