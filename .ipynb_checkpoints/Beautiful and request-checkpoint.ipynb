{
 "cells": [
  {
   "cell_type": "code",
   "execution_count": 23,
   "id": "70e1d5a0",
   "metadata": {},
   "outputs": [
    {
     "name": "stdout",
     "output_type": "stream",
     "text": [
      "Page Title:  W3Schools Online Web Tutorials\n"
     ]
    }
   ],
   "source": [
    "from bs4 import BeautifulSoup\n",
    "import requests\n",
    "url =\"https://www.w3schools.com/\"\n",
    "response = requests.get(url)\n",
    "soup = BeautifulSoup(response.text, 'html.parser')\n",
    "# Extract title of the page\n",
    "page_title = soup.title.text\n",
    "print('Page Title: ', page_title)\n"
   ]
  },
  {
   "cell_type": "code",
   "execution_count": 24,
   "id": "5ddce089",
   "metadata": {},
   "outputs": [
    {
     "name": "stdout",
     "output_type": "stream",
     "text": [
      "['Name', 'Age', 'Grade']\n",
      "['Alice', '12', '7th']\n",
      "['Bob', '13', '8th']\n"
     ]
    }
   ],
   "source": [
    "import csv\n",
    "with open('students.csv','w', newline='') as file:\n",
    "    writer = csv.writer(file)\n",
    "    writer.writerow([\"Name\", \"Age\", \"Grade\"])\n",
    "    writer.writerow([\"Alice\", 12, \"7th\"])\n",
    "    writer.writerow([\"Bob\", 13, \"8th\"])\n",
    "# Reading from a CSV file\n",
    "with open('students.csv', 'r') as file:\n",
    "    reader = csv.reader(file)\n",
    "    for row in reader:\n",
    "        print(row)\n"
   ]
  },
  {
   "cell_type": "code",
   "execution_count": 2,
   "id": "d0f9950d",
   "metadata": {},
   "outputs": [],
   "source": [
    "import requests\n",
    "from PIL import Image\n",
    "from io import BytesIO\n",
    "\n",
    "url = \"https://cdn.togetherv.com/gorgeous-orange-and-peach-roses-bouquet-main_1667042781.webp\"\n",
    "response = requests.get(url)\n",
    "\n",
    "img = Image.open(BytesIO(response.content))\n",
    "img.save(\"Flowers.png\")\n"
   ]
  },
  {
   "cell_type": "code",
   "execution_count": 13,
   "id": "2b5e2f1c",
   "metadata": {},
   "outputs": [
    {
     "name": "stdout",
     "output_type": "stream",
     "text": [
      "Number of Pages: 2\n",
      "Page Text:  A Simple PDF File \n",
      " This is a small demonstration .pdf file - \n",
      " just for use in the Virtual Mechanics tutorials. More text. And more \n",
      " text. And more text. And more text. And more text. \n",
      " And more text. And more text. And more text. And more text. And more \n",
      " text. And more text. Boring, zzzzz. And more text. And more text. And \n",
      " more text. And more text. And more text. And more text. And more text. \n",
      " And more text. And more text. \n",
      " And more text. And more text. And more text. And more text. And more \n",
      " text. And more text. And more text. Even more. Continued on page 2 ...\n"
     ]
    }
   ],
   "source": [
    "import PyPDF2\n",
    "\n",
    "# Reading a PDF file\n",
    "with open('sample.pdf', 'rb') as file:\n",
    "    reader = PyPDF2.PdfReader(file)\n",
    "    print('Number of Pages:', len(reader.pages))\n",
    "    page =reader.pages[0]\n",
    "    extract_text = page.extract_text()\n",
    "    print('Page Text:',extract_text)\n"
   ]
  },
  {
   "cell_type": "code",
   "execution_count": 15,
   "id": "c4d9a935",
   "metadata": {},
   "outputs": [
    {
     "name": "stdout",
     "output_type": "stream",
     "text": [
      "('Fruit', 'Quantity')\n",
      "('Kiwi', 3)\n",
      "('Grape', 15)\n",
      "('Apple', 7)\n"
     ]
    }
   ],
   "source": [
    "from openpyxl import Workbook\n",
    "wb = Workbook()\n",
    "ws = wb.active\n",
    "\n",
    "data = [\n",
    "    [\"Fruit\", \"Quantity\"],\n",
    "    [\"Mango\", 3],\n",
    "    [\"Dragon fruit\", 15],\n",
    "    [\"Apple\", 7]\n",
    "]\n",
    "\n",
    "for row in data:\n",
    "    ws.append(row)\n",
    "\n",
    "wb.save(\"fruits.xlsx\")\n",
    "from openpyxl import load_workbook\n",
    "wb = load_workbook(filename ='fruits.xlsx')\n",
    "sheet = wb.active\n",
    "for row in sheet.iter_rows(values_only=True):\n",
    "    print(row)\n",
    "\n"
   ]
  },
  {
   "cell_type": "code",
   "execution_count": null,
   "id": "74441d83",
   "metadata": {},
   "outputs": [],
   "source": []
  }
 ],
 "metadata": {
  "kernelspec": {
   "display_name": "Python 3 (ipykernel)",
   "language": "python",
   "name": "python3"
  },
  "language_info": {
   "codemirror_mode": {
    "name": "ipython",
    "version": 3
   },
   "file_extension": ".py",
   "mimetype": "text/x-python",
   "name": "python",
   "nbconvert_exporter": "python",
   "pygments_lexer": "ipython3",
   "version": "3.10.9"
  }
 },
 "nbformat": 4,
 "nbformat_minor": 5
}
