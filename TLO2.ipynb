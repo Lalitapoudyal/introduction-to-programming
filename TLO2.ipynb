{
 "cells": [
  {
   "cell_type": "markdown",
   "id": "6cda8eab",
   "metadata": {},
   "source": [
    "1.Create variables of different data types (integer, float, string, and boolean) and perform various arithmetic operations on them.\n",
    "\n"
   ]
  },
  {
   "cell_type": "code",
   "execution_count": 1,
   "id": "0420889b",
   "metadata": {},
   "outputs": [
    {
     "name": "stdout",
     "output_type": "stream",
     "text": [
      "30 35.0 2.857142857142857\n"
     ]
    }
   ],
   "source": [
    "a = 10\n",
    "b = 3.5\n",
    "c = \"20\"\n",
    "result1 = a + int(c)\n",
    "result2 = a * b\n",
    "result3 = a / b\n",
    "print(result1, result2, result3)\n"
   ]
  },
  {
   "cell_type": "markdown",
   "id": "0e48a9d5",
   "metadata": {},
   "source": [
    "2.Given a string s = \"Programming is fun!\", extract the word \"is\" using slicing.\n"
   ]
  },
  {
   "cell_type": "code",
   "execution_count": 2,
   "id": "fcb6e7e2",
   "metadata": {
    "scrolled": true
   },
   "outputs": [
    {
     "name": "stdout",
     "output_type": "stream",
     "text": [
      "is\n"
     ]
    }
   ],
   "source": [
    "s = \"Programming is fun!\"\n",
    "extracted_word = s[12:14]\n",
    "print(extracted_word)\n"
   ]
  },
  {
   "cell_type": "markdown",
   "id": "aa1238a1",
   "metadata": {},
   "source": [
    "3.Calculate the area of a rectangle with length l and width w using the multiplication operator.\n"
   ]
  },
  {
   "cell_type": "code",
   "execution_count": 2,
   "id": "85f08c06",
   "metadata": {},
   "outputs": [
    {
     "name": "stdout",
     "output_type": "stream",
     "text": [
      "The area of the rectangle is: 100\n"
     ]
    }
   ],
   "source": [
    "l = 20\n",
    "w = 5\n",
    "area = l * w\n",
    "print(\"The area of the rectangle is:\", area)\n"
   ]
  },
  {
   "cell_type": "markdown",
   "id": "2613da05",
   "metadata": {},
   "source": [
    "4.Take the length and width of a rectangle as input from the user and calculate its area.\n"
   ]
  },
  {
   "cell_type": "code",
   "execution_count": 4,
   "id": "4a075d7d",
   "metadata": {},
   "outputs": [
    {
     "name": "stdout",
     "output_type": "stream",
     "text": [
      "Enter the length of the rectangle: 4\n",
      "Enter the width of the rectangle: 3\n",
      "The area of the rectangle is: 12.0\n"
     ]
    }
   ],
   "source": [
    "l = float(input(\"Enter the length of the rectangle: \"))\n",
    "w = float(input(\"Enter the width of the rectangle: \"))\n",
    "area = l * w\n",
    "print(\"The area of the rectangle is:\", area)\n"
   ]
  },
  {
   "cell_type": "markdown",
   "id": "b567fa82",
   "metadata": {},
   "source": [
    "6.Determine the remainder of the division of two numbers a and b using the modulo operator.\n"
   ]
  },
  {
   "cell_type": "code",
   "execution_count": 5,
   "id": "9a05644b",
   "metadata": {},
   "outputs": [
    {
     "name": "stdout",
     "output_type": "stream",
     "text": [
      "The remainder of the division is: 3\n"
     ]
    }
   ],
   "source": [
    "a = 15\n",
    "b = 4\n",
    "remainder = a % b\n",
    "print(\"The remainder of the division is:\", remainder)\n"
   ]
  },
  {
   "cell_type": "markdown",
   "id": "11414280",
   "metadata": {},
   "source": [
    "4.Given two numbers x and y, calculate their sum, difference, product, and quotient using arithmetic operators.\n"
   ]
  },
  {
   "cell_type": "code",
   "execution_count": 7,
   "id": "2c743220",
   "metadata": {},
   "outputs": [
    {
     "name": "stdout",
     "output_type": "stream",
     "text": [
      "Sum: 30\n",
      "Difference: -10\n",
      "Product: 200\n",
      "Quotient: 0.5\n"
     ]
    }
   ],
   "source": [
    "a= 10\n",
    "b= 20\n",
    "sum_result = a + b\n",
    "diff_result = a - b\n",
    "prod_result = a* b\n",
    "quot_result = a / b\n",
    "print(\"Sum:\", sum_result)\n",
    "print(\"Difference:\", diff_result)\n",
    "print(\"Product:\", prod_result)\n",
    "print(\"Quotient:\", quot_result)\n"
   ]
  },
  {
   "cell_type": "markdown",
   "id": "bee96950",
   "metadata": {},
   "source": [
    "5.Similarly, you can use the float() function to convert the input to a floating-point number:\n",
    "Take two numbers as input from the user and perform addition, subtraction, multiplication, and division operations.\n"
   ]
  },
  {
   "cell_type": "code",
   "execution_count": null,
   "id": "7fb03242",
   "metadata": {},
   "outputs": [],
   "source": [
    "x = float(input(\"Enter the first number: \"))\n",
    "y = float(input(\"Enter the second number: \"))\n",
    "\n",
    "\n",
    "sum_result = x + y\n",
    "diff_result = x - y\n",
    "prod_result = x * y\n",
    "quot_result = x / y\n",
    "\n",
    "\n",
    "print(\"Sum:\", sum_result)\n",
    "print(\"Difference:\", diff_result)\n",
    "print(\"Product:\", prod_result)\n",
    "print(\"Quotient:\", quot_result)\n"
   ]
  },
  {
   "cell_type": "markdown",
   "id": "dfa904ef",
   "metadata": {},
   "source": [
    "\n",
    "1. Exercise: Concatenate two strings and find the length of the concatenated string.\n"
   ]
  },
  {
   "cell_type": "code",
   "execution_count": 7,
   "id": "2a7b726f",
   "metadata": {},
   "outputs": [
    {
     "name": "stdout",
     "output_type": "stream",
     "text": [
      "Length of concatenated string: 17\n"
     ]
    }
   ],
   "source": [
    "string1=\"Python\"\n",
    "string2=\"Programming\"\n",
    "concatenated_string =string1+string2\n",
    "length=len(concatenated_string)\n",
    "print(\"Length of concatenated string:\",length)"
   ]
  },
  {
   "cell_type": "markdown",
   "id": "9cccfbe5",
   "metadata": {},
   "source": [
    "2. Exercise: Find the index of a specific character in a string."
   ]
  },
  {
   "cell_type": "code",
   "execution_count": 8,
   "id": "cbe7a2c7",
   "metadata": {},
   "outputs": [
    {
     "name": "stdout",
     "output_type": "stream",
     "text": [
      "Index of character 'p': 31\n"
     ]
    }
   ],
   "source": [
    "input_string = \"Python is an easy-to-learn and powerful programming language\"\n",
    "character_to_find = \"p\"\n",
    "index = input_string.find(character_to_find)\n",
    "print(f\"Index of character '{character_to_find}': {index}\")\n"
   ]
  },
  {
   "cell_type": "markdown",
   "id": "b4428e88",
   "metadata": {},
   "source": [
    "3. Exercise: Use a dictionary to store the following key-value pairs: {\"A\": 1, \"B\": 2, \"C\": 3}. Retrieve the value associated with the key \"B\".\n"
   ]
  },
  {
   "cell_type": "code",
   "execution_count": 9,
   "id": "75991187",
   "metadata": {},
   "outputs": [
    {
     "name": "stdout",
     "output_type": "stream",
     "text": [
      "Value associated with key 'B': 2\n"
     ]
    }
   ],
   "source": [
    "my_dict = {\"A\": 1, \"B\": 2, \"C\": 3}\n",
    "value = my_dict.get(\"B\")\n",
    "print(\"Value associated with key 'B':\", value)\n"
   ]
  },
  {
   "cell_type": "markdown",
   "id": "38695a88",
   "metadata": {},
   "source": [
    "4. Exercise: Create a tuple with the following elements: 1, 4, 9, 16, 25. Find the length of the tuple.\n"
   ]
  },
  {
   "cell_type": "code",
   "execution_count": 11,
   "id": "68f1ec04",
   "metadata": {},
   "outputs": [
    {
     "name": "stdout",
     "output_type": "stream",
     "text": [
      "Tuple value is: 5\n"
     ]
    }
   ],
   "source": [
    "my_tuple=(1,2,3,4,5)\n",
    "length=len(my_tuple)\n",
    "print(\"Tuple value is:\",length)"
   ]
  },
  {
   "cell_type": "markdown",
   "id": "8f01c312",
   "metadata": {},
   "source": [
    "5. Exercise: Create a set with the following elements: 1, 2, 3, 4, 5, 2, 3, 4. Find the length of the set.\n"
   ]
  },
  {
   "cell_type": "code",
   "execution_count": 12,
   "id": "5a36c951",
   "metadata": {},
   "outputs": [
    {
     "name": "stdout",
     "output_type": "stream",
     "text": [
      "Length of the set: 5\n"
     ]
    }
   ],
   "source": [
    "my_set = {1, 2, 3, 4, 5, 2, 3, 4}\n",
    "length = len(my_set)\n",
    "print(\"Length of the set:\", length)\n",
    "\n"
   ]
  },
  {
   "cell_type": "markdown",
   "id": "fcb167d8",
   "metadata": {},
   "source": [
    "7. Exercise: Find the maximum and minimum values in a list.\n"
   ]
  },
  {
   "cell_type": "code",
   "execution_count": 15,
   "id": "48f33f16",
   "metadata": {},
   "outputs": [
    {
     "name": "stdout",
     "output_type": "stream",
     "text": [
      "Maximum value: 67\n",
      "Minimum value: 21\n"
     ]
    }
   ],
   "source": [
    "my_list = [21,23,45,67,53]\n",
    "max_value = max(my_list)\n",
    "min_value = min(my_list)\n",
    "print(\"Maximum value:\", max_value)\n",
    "print(\"Minimum value:\", min_value)\n"
   ]
  },
  {
   "cell_type": "markdown",
   "id": "3c248469",
   "metadata": {},
   "source": [
    "9. Exercise: Merge two dictionaries.\n"
   ]
  },
  {
   "cell_type": "code",
   "execution_count": 3,
   "id": "43577417",
   "metadata": {},
   "outputs": [
    {
     "name": "stdout",
     "output_type": "stream",
     "text": [
      "Merged dictionary: {'A': 1, 'B': 2, 'C': 3, 'D': 5, 'E': 6, 'F': 7, 'G': 8}\n"
     ]
    }
   ],
   "source": [
    "dict1 = {\"A\": 1, \"B\": 2, \"C\": 3,\"D\":4}\n",
    "dict2 = {\"D\": 5, \"E\": 6, \"F\": 7,\"G\":8}\n",
    "merged_dict = {**dict1, **dict2}\n",
    "print(\"Merged dictionary:\", merged_dict)\n"
   ]
  },
  {
   "cell_type": "markdown",
   "id": "29ab5648",
   "metadata": {},
   "source": [
    "10.Create a script that reads the entire content of a file named \"example.txt\" and prints the content.\n"
   ]
  },
  {
   "cell_type": "code",
   "execution_count": 16,
   "id": "95e3ba2a",
   "metadata": {},
   "outputs": [
    {
     "name": "stdout",
     "output_type": "stream",
     "text": [
      "Hello ! this is the first line\n",
      "this is the second line\n",
      "this is the third line\n",
      "\n"
     ]
    }
   ],
   "source": [
    "with open(\"myfile.txt\", \"r\") as file:\n",
    "    content= file.read()\n",
    "    print(content)\n"
   ]
  },
  {
   "cell_type": "markdown",
   "id": "85f2398b",
   "metadata": {},
   "source": [
    "11.Create a script that reads the first line of a file named \"example.txt\" and prints it.\n"
   ]
  },
  {
   "cell_type": "code",
   "execution_count": 17,
   "id": "ccfef7f4",
   "metadata": {},
   "outputs": [
    {
     "name": "stdout",
     "output_type": "stream",
     "text": [
      "Hello ! this is the first line\n",
      "\n"
     ]
    }
   ],
   "source": [
    "with open(\"myfile.txt\", \"r\") as file:\n",
    "    first_line = file.readline()\n",
    "    print(first_line)\n",
    "\n"
   ]
  },
  {
   "cell_type": "markdown",
   "id": "39cfff63",
   "metadata": {},
   "source": [
    "12.Create a script that creates a new file named \"empty.txt\" and writes the string \"This is an empty file.\" to it.\n"
   ]
  },
  {
   "cell_type": "code",
   "execution_count": 18,
   "id": "1437e120",
   "metadata": {},
   "outputs": [],
   "source": [
    "with open(\"empty.txt\", \"w\") as file:\n",
    "    file.write(\"This is an empty file.\")\n"
   ]
  },
  {
   "cell_type": "markdown",
   "id": "3091334e",
   "metadata": {},
   "source": [
    "13.Create a script that appends a new line with the text \"Appended line.\" to an existing file named \"append_example.txt\".\n"
   ]
  },
  {
   "cell_type": "code",
   "execution_count": 19,
   "id": "3ce1ff24",
   "metadata": {},
   "outputs": [],
   "source": [
    "with open(\"append_myfile.txt\", \"a\") as file:\n",
    "    file.write(\"\\nAppended line.\")\n"
   ]
  },
  {
   "cell_type": "code",
   "execution_count": null,
   "id": "2f8afc1a",
   "metadata": {},
   "outputs": [],
   "source": []
  }
 ],
 "metadata": {
  "kernelspec": {
   "display_name": "Python 3 (ipykernel)",
   "language": "python",
   "name": "python3"
  },
  "language_info": {
   "codemirror_mode": {
    "name": "ipython",
    "version": 3
   },
   "file_extension": ".py",
   "mimetype": "text/x-python",
   "name": "python",
   "nbconvert_exporter": "python",
   "pygments_lexer": "ipython3",
   "version": "3.10.9"
  }
 },
 "nbformat": 4,
 "nbformat_minor": 5
}
