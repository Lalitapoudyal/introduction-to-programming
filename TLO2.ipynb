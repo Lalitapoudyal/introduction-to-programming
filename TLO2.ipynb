{
 "cells": [
  {
   "cell_type": "markdown",
   "id": "6cda8eab",
   "metadata": {},
   "source": [
    "1.Create variables of different data types (integer, float, string, and boolean) and perform various arithmetic operations on them.\n",
    "\n"
   ]
  },
  {
   "cell_type": "code",
   "execution_count": 1,
   "id": "0420889b",
   "metadata": {},
   "outputs": [
    {
     "name": "stdout",
     "output_type": "stream",
     "text": [
      "30 35.0 2.857142857142857\n"
     ]
    }
   ],
   "source": [
    "a = 10\n",
    "b = 3.5\n",
    "c = \"20\"\n",
    "result1 = a + int(c)\n",
    "result2 = a * b\n",
    "result3 = a / b\n",
    "print(result1, result2, result3)\n"
   ]
  },
  {
   "cell_type": "markdown",
   "id": "0e48a9d5",
   "metadata": {},
   "source": [
    "2.Given a string s = \"Programming is fun!\", extract the word \"is\" using slicing.\n"
   ]
  },
  {
   "cell_type": "code",
   "execution_count": 2,
   "id": "fcb6e7e2",
   "metadata": {
    "scrolled": true
   },
   "outputs": [
    {
     "name": "stdout",
     "output_type": "stream",
     "text": [
      "is\n"
     ]
    }
   ],
   "source": [
    "s = \"Programming is fun!\"\n",
    "extracted_word = s[12:14]\n",
    "print(extracted_word)\n"
   ]
  },
  {
   "cell_type": "markdown",
   "id": "aa1238a1",
   "metadata": {},
   "source": [
    "3.Calculate the area of a rectangle with length l and width w using the multiplication operator.\n"
   ]
  },
  {
   "cell_type": "code",
   "execution_count": 2,
   "id": "85f08c06",
   "metadata": {},
   "outputs": [
    {
     "name": "stdout",
     "output_type": "stream",
     "text": [
      "The area of the rectangle is: 100\n"
     ]
    }
   ],
   "source": [
    "l = 20\n",
    "w = 5\n",
    "area = l * w\n",
    "print(\"The area of the rectangle is:\", area)\n"
   ]
  },
  {
   "cell_type": "markdown",
   "id": "2613da05",
   "metadata": {},
   "source": [
    "4.Take the length and width of a rectangle as input from the user and calculate its area.\n"
   ]
  },
  {
   "cell_type": "code",
   "execution_count": 4,
   "id": "4a075d7d",
   "metadata": {},
   "outputs": [
    {
     "name": "stdout",
     "output_type": "stream",
     "text": [
      "Enter the length of the rectangle: 4\n",
      "Enter the width of the rectangle: 3\n",
      "The area of the rectangle is: 12.0\n"
     ]
    }
   ],
   "source": [
    "l = float(input(\"Enter the length of the rectangle: \"))\n",
    "w = float(input(\"Enter the width of the rectangle: \"))\n",
    "area = l * w\n",
    "print(\"The area of the rectangle is:\", area)\n"
   ]
  },
  {
   "cell_type": "markdown",
   "id": "b567fa82",
   "metadata": {},
   "source": [
    "5.Determine the remainder of the division of two numbers a and b using the modulo operator.\n"
   ]
  },
  {
   "cell_type": "code",
   "execution_count": 5,
   "id": "9a05644b",
   "metadata": {},
   "outputs": [
    {
     "name": "stdout",
     "output_type": "stream",
     "text": [
      "The remainder of the division is: 3\n"
     ]
    }
   ],
   "source": [
    "a = 15\n",
    "b = 4\n",
    "remainder = a % b\n",
    "print(\"The remainder of the division is:\", remainder)\n"
   ]
  },
  {
   "cell_type": "markdown",
   "id": "11414280",
   "metadata": {},
   "source": [
    "6.Given two numbers x and y, calculate their sum, difference, product, and quotient using arithmetic operators.\n"
   ]
  },
  {
   "cell_type": "code",
   "execution_count": 7,
   "id": "2c743220",
   "metadata": {},
   "outputs": [
    {
     "name": "stdout",
     "output_type": "stream",
     "text": [
      "Sum: 30\n",
      "Difference: -10\n",
      "Product: 200\n",
      "Quotient: 0.5\n"
     ]
    }
   ],
   "source": [
    "a= 10\n",
    "b= 20\n",
    "sum_result = a + b\n",
    "diff_result = a - b\n",
    "prod_result = a* b\n",
    "quot_result = a / b\n",
    "print(\"Sum:\", sum_result)\n",
    "print(\"Difference:\", diff_result)\n",
    "print(\"Product:\", prod_result)\n",
    "print(\"Quotient:\", quot_result)\n"
   ]
  },
  {
   "cell_type": "markdown",
   "id": "bee96950",
   "metadata": {},
   "source": [
    "7.Similarly, you can use the float() function to convert the input to a floating-point number:\n",
    "Take two numbers as input from the user and perform addition, subtraction, multiplication, and division operations.\n"
   ]
  },
  {
   "cell_type": "code",
   "execution_count": null,
   "id": "7fb03242",
   "metadata": {},
   "outputs": [],
   "source": [
    "x = float(input(\"Enter the first number: \"))\n",
    "y = float(input(\"Enter the second number: \"))\n",
    "\n",
    "\n",
    "sum_result = x + y\n",
    "diff_result = x - y\n",
    "prod_result = x * y\n",
    "quot_result = x / y\n",
    "\n",
    "\n",
    "print(\"Sum:\", sum_result)\n",
    "print(\"Difference:\", diff_result)\n",
    "print(\"Product:\", prod_result)\n",
    "print(\"Quotient:\", quot_result)\n"
   ]
  },
  {
   "cell_type": "code",
   "execution_count": null,
   "id": "2f8afc1a",
   "metadata": {},
   "outputs": [],
   "source": []
  }
 ],
 "metadata": {
  "kernelspec": {
   "display_name": "Python 3 (ipykernel)",
   "language": "python",
   "name": "python3"
  },
  "language_info": {
   "codemirror_mode": {
    "name": "ipython",
    "version": 3
   },
   "file_extension": ".py",
   "mimetype": "text/x-python",
   "name": "python",
   "nbconvert_exporter": "python",
   "pygments_lexer": "ipython3",
   "version": "3.10.9"
  }
 },
 "nbformat": 4,
 "nbformat_minor": 5
}
