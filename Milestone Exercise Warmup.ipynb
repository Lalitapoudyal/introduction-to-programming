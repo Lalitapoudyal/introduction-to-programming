{
 "cells": [
  {
   "cell_type": "code",
   "execution_count": 1,
   "id": "34b23731",
   "metadata": {},
   "outputs": [
    {
     "name": "stdout",
     "output_type": "stream",
     "text": [
      "[1, 2, 3]\n"
     ]
    }
   ],
   "source": [
    "print([1,2,3])"
   ]
  },
  {
   "cell_type": "code",
   "execution_count": 2,
   "id": "e6fa8b51",
   "metadata": {},
   "outputs": [
    {
     "name": "stdout",
     "output_type": "stream",
     "text": [
      "[1, 2, 3]\n",
      "[3, 4, 5]\n",
      "[5, 6, 7]\n"
     ]
    }
   ],
   "source": [
    "print([1,2,3])\n",
    "print([3,4,5])\n",
    "print([5,6,7])"
   ]
  },
  {
   "cell_type": "code",
   "execution_count": 3,
   "id": "10424cb9",
   "metadata": {},
   "outputs": [],
   "source": [
    "def display(row1,row2,row3):\n",
    "    print(row1)\n",
    "    print(row2)\n",
    "    print(row3)"
   ]
  },
  {
   "cell_type": "code",
   "execution_count": 4,
   "id": "f05aaf93",
   "metadata": {},
   "outputs": [],
   "source": [
    "example_row=[1,2,3]"
   ]
  },
  {
   "cell_type": "code",
   "execution_count": 5,
   "id": "30117882",
   "metadata": {},
   "outputs": [
    {
     "name": "stdout",
     "output_type": "stream",
     "text": [
      "[1, 2, 3]\n",
      "[1, 2, 3]\n",
      "[1, 2, 3]\n"
     ]
    }
   ],
   "source": [
    "display(example_row,example_row,example_row)"
   ]
  },
  {
   "cell_type": "code",
   "execution_count": 6,
   "id": "8538a28d",
   "metadata": {},
   "outputs": [],
   "source": [
    "def display(row1,row2,row3):\n",
    "    print(row1)\n",
    "    print(row2)\n",
    "    print(row3)"
   ]
  },
  {
   "cell_type": "code",
   "execution_count": 7,
   "id": "294dd7c6",
   "metadata": {},
   "outputs": [],
   "source": [
    "row1 = ['','','']\n",
    "row2 = ['','','']\n",
    "row3 = ['','','']"
   ]
  },
  {
   "cell_type": "code",
   "execution_count": 8,
   "id": "5c7a550b",
   "metadata": {},
   "outputs": [
    {
     "name": "stdout",
     "output_type": "stream",
     "text": [
      "['', '', '']\n",
      "['', '', '']\n",
      "['', '', '']\n"
     ]
    }
   ],
   "source": [
    "display(row1,row2,row3)"
   ]
  },
  {
   "cell_type": "code",
   "execution_count": 9,
   "id": "736d3510",
   "metadata": {},
   "outputs": [],
   "source": [
    "row2[1] = 'X'"
   ]
  },
  {
   "cell_type": "code",
   "execution_count": 10,
   "id": "dcbf34c9",
   "metadata": {},
   "outputs": [
    {
     "name": "stdout",
     "output_type": "stream",
     "text": [
      "['', '', '']\n",
      "['', 'X', '']\n",
      "['', '', '']\n"
     ]
    }
   ],
   "source": [
    "display(row1,row2,row3)"
   ]
  },
  {
   "cell_type": "code",
   "execution_count": 15,
   "id": "5fa5fffb",
   "metadata": {},
   "outputs": [
    {
     "name": "stdout",
     "output_type": "stream",
     "text": [
      "Please enter a value4\n"
     ]
    },
    {
     "data": {
      "text/plain": [
       "'4'"
      ]
     },
     "execution_count": 15,
     "metadata": {},
     "output_type": "execute_result"
    }
   ],
   "source": [
    "input('Please enter a value')"
   ]
  },
  {
   "cell_type": "code",
   "execution_count": 17,
   "id": "11216c7f",
   "metadata": {},
   "outputs": [
    {
     "name": "stdout",
     "output_type": "stream",
     "text": [
      "Please enter a value5\n"
     ]
    }
   ],
   "source": [
    "result= input('Please enter a value')"
   ]
  },
  {
   "cell_type": "code",
   "execution_count": 18,
   "id": "76be5cf0",
   "metadata": {},
   "outputs": [],
   "source": [
    "result_int = int(result) "
   ]
  },
  {
   "cell_type": "code",
   "execution_count": 19,
   "id": "c22625b8",
   "metadata": {},
   "outputs": [
    {
     "data": {
      "text/plain": [
       "5"
      ]
     },
     "execution_count": 19,
     "metadata": {},
     "output_type": "execute_result"
    }
   ],
   "source": [
    "result_int"
   ]
  },
  {
   "cell_type": "code",
   "execution_count": 20,
   "id": "735d8ee2",
   "metadata": {},
   "outputs": [
    {
     "data": {
      "text/plain": [
       "int"
      ]
     },
     "execution_count": 20,
     "metadata": {},
     "output_type": "execute_result"
    }
   ],
   "source": [
    " type(result_int)"
   ]
  },
  {
   "cell_type": "code",
   "execution_count": 21,
   "id": "364ed0c0",
   "metadata": {},
   "outputs": [
    {
     "data": {
      "text/plain": [
       "float"
      ]
     },
     "execution_count": 21,
     "metadata": {},
     "output_type": "execute_result"
    }
   ],
   "source": [
    "type(2.13)"
   ]
  },
  {
   "cell_type": "code",
   "execution_count": 22,
   "id": "ad785ad2",
   "metadata": {},
   "outputs": [
    {
     "data": {
      "text/plain": [
       "2.143"
      ]
     },
     "execution_count": 22,
     "metadata": {},
     "output_type": "execute_result"
    }
   ],
   "source": [
    "float(2.143)"
   ]
  },
  {
   "cell_type": "code",
   "execution_count": 26,
   "id": "4999f76f",
   "metadata": {},
   "outputs": [
    {
     "name": "stdout",
     "output_type": "stream",
     "text": [
      "Choose an index position2\n"
     ]
    }
   ],
   "source": [
    "position_index = int(input('Choose an index position'))"
   ]
  },
  {
   "cell_type": "code",
   "execution_count": 27,
   "id": "325ddef0",
   "metadata": {},
   "outputs": [
    {
     "data": {
      "text/plain": [
       "['', '', '']"
      ]
     },
     "execution_count": 27,
     "metadata": {},
     "output_type": "execute_result"
    }
   ],
   "source": [
    " row1 "
   ]
  },
  {
   "cell_type": "code",
   "execution_count": 28,
   "id": "fb45e070",
   "metadata": {},
   "outputs": [
    {
     "data": {
      "text/plain": [
       "int"
      ]
     },
     "execution_count": 28,
     "metadata": {},
     "output_type": "execute_result"
    }
   ],
   "source": [
    "type(position_index)"
   ]
  },
  {
   "cell_type": "code",
   "execution_count": 29,
   "id": "54410d5b",
   "metadata": {},
   "outputs": [
    {
     "data": {
      "text/plain": [
       "''"
      ]
     },
     "execution_count": 29,
     "metadata": {},
     "output_type": "execute_result"
    }
   ],
   "source": [
    "row2[position_index]"
   ]
  },
  {
   "cell_type": "code",
   "execution_count": 30,
   "id": "f5597cc9",
   "metadata": {},
   "outputs": [
    {
     "name": "stdout",
     "output_type": "stream",
     "text": [
      "Enter a number5\n"
     ]
    }
   ],
   "source": [
    "result = input('Enter a number')"
   ]
  },
  {
   "cell_type": "code",
   "execution_count": 31,
   "id": "9e670f30",
   "metadata": {},
   "outputs": [
    {
     "data": {
      "text/plain": [
       "4"
      ]
     },
     "execution_count": 31,
     "metadata": {},
     "output_type": "execute_result"
    }
   ],
   "source": [
    "2+2"
   ]
  },
  {
   "cell_type": "code",
   "execution_count": 32,
   "id": "7f54351a",
   "metadata": {},
   "outputs": [],
   "source": [
    " def user_choice():\n",
    "    choice = input('Enter a number 0-10: ')\n",
    "    return int(choice) "
   ]
  },
  {
   "cell_type": "code",
   "execution_count": 33,
   "id": "f771eeeb",
   "metadata": {},
   "outputs": [
    {
     "name": "stdout",
     "output_type": "stream",
     "text": [
      "Enter a number 0-10: 5\n"
     ]
    },
    {
     "data": {
      "text/plain": [
       "5"
      ]
     },
     "execution_count": 33,
     "metadata": {},
     "output_type": "execute_result"
    }
   ],
   "source": [
    "user_choice() "
   ]
  },
  {
   "cell_type": "code",
   "execution_count": 34,
   "id": "0e9de782",
   "metadata": {},
   "outputs": [],
   "source": [
    "some_value = '100'"
   ]
  },
  {
   "cell_type": "code",
   "execution_count": 35,
   "id": "331de4f4",
   "metadata": {},
   "outputs": [
    {
     "data": {
      "text/plain": [
       "True"
      ]
     },
     "execution_count": 35,
     "metadata": {},
     "output_type": "execute_result"
    }
   ],
   "source": [
    " some_value.isdigit()"
   ]
  },
  {
   "cell_type": "code",
   "execution_count": 36,
   "id": "ae9eeda1",
   "metadata": {},
   "outputs": [
    {
     "data": {
      "text/plain": [
       "str"
      ]
     },
     "execution_count": 36,
     "metadata": {},
     "output_type": "execute_result"
    }
   ],
   "source": [
    "type(some_value) "
   ]
  },
  {
   "cell_type": "code",
   "execution_count": 37,
   "id": "92c8114e",
   "metadata": {},
   "outputs": [
    {
     "data": {
      "text/plain": [
       "100"
      ]
     },
     "execution_count": 37,
     "metadata": {},
     "output_type": "execute_result"
    }
   ],
   "source": [
    " int(some_value) "
   ]
  },
  {
   "cell_type": "code",
   "execution_count": 38,
   "id": "f4a9d431",
   "metadata": {},
   "outputs": [],
   "source": [
    "def user_choice():\n",
    "    choice = 'WRONG'\n",
    "    while choice.isdigit() == False:\n",
    "        choice = input('Please enter a number 0-10 :')\n",
    "        return int(choice)"
   ]
  },
  {
   "cell_type": "code",
   "execution_count": 40,
   "id": "208fbfc3",
   "metadata": {},
   "outputs": [
    {
     "name": "stdout",
     "output_type": "stream",
     "text": [
      "Please enter a number 0-10 :5\n"
     ]
    },
    {
     "data": {
      "text/plain": [
       "5"
      ]
     },
     "execution_count": 40,
     "metadata": {},
     "output_type": "execute_result"
    }
   ],
   "source": [
    "user_choice()"
   ]
  },
  {
   "cell_type": "code",
   "execution_count": 44,
   "id": "14f38f80",
   "metadata": {},
   "outputs": [],
   "source": [
    "def user_choice():\n",
    "    choice = 'WRONG' #to initialize\n",
    "    while choice.isdigit() == False:\n",
    "        choice = input('Please enter a number 0-10 :')\n",
    "        if choice.isdigit() == False:\n",
    "            print('Sorry that is not a digit')\n",
    "    return int(choice) "
   ]
  },
  {
   "cell_type": "code",
   "execution_count": 45,
   "id": "9c2968a2",
   "metadata": {},
   "outputs": [
    {
     "name": "stdout",
     "output_type": "stream",
     "text": [
      "Please enter a number 0-10 :two\n",
      "Sorry that is not a digit\n",
      "Please enter a number 0-10 :three\n",
      "Sorry that is not a digit\n",
      "Please enter a number 0-10 :10\n"
     ]
    },
    {
     "data": {
      "text/plain": [
       "10"
      ]
     },
     "execution_count": 45,
     "metadata": {},
     "output_type": "execute_result"
    }
   ],
   "source": [
    "user_choice()"
   ]
  },
  {
   "cell_type": "code",
   "execution_count": 46,
   "id": "6ef621d2",
   "metadata": {},
   "outputs": [],
   "source": [
    "result = 'WRONG VALUE'"
   ]
  },
  {
   "cell_type": "code",
   "execution_count": 47,
   "id": "020eecf0",
   "metadata": {},
   "outputs": [],
   "source": [
    "acceptable_values = [0,1,2] "
   ]
  },
  {
   "cell_type": "code",
   "execution_count": 48,
   "id": "c27c4fca",
   "metadata": {},
   "outputs": [
    {
     "data": {
      "text/plain": [
       "False"
      ]
     },
     "execution_count": 48,
     "metadata": {},
     "output_type": "execute_result"
    }
   ],
   "source": [
    "result in acceptable_values"
   ]
  },
  {
   "cell_type": "code",
   "execution_count": 49,
   "id": "06326156",
   "metadata": {},
   "outputs": [
    {
     "data": {
      "text/plain": [
       "True"
      ]
     },
     "execution_count": 49,
     "metadata": {},
     "output_type": "execute_result"
    }
   ],
   "source": [
    "result not in acceptable_values"
   ]
  },
  {
   "cell_type": "code",
   "execution_count": 50,
   "id": "6611f507",
   "metadata": {},
   "outputs": [],
   "source": [
    "def user_choice():\n",
    "    #Variables\n",
    "    #Initial\n",
    "    choice = 'WRONG'\n",
    "    acceptable_range = range(0,10)\n",
    "    within_range = False\n",
    "    #two conditions to check\n",
    "    #digit or within range == False\n",
    "    while choice.isdigit() == False or within_range == False:\n",
    "        choice = input('Please enter a number 0-10: ')\n",
    "        #digit check\n",
    "        if choice.isdigit() == False:\n",
    "             print('Sorry that is not a digit') \n",
    "        #range check\n",
    "        if choice.isdigit() == True:\n",
    "            if int(choice) in acceptable_range:\n",
    "                within_range = True\n",
    "            else:\n",
    "                print('Sorry you are out of acceptable range 0-10')\n",
    "                within_range = False\n",
    "    return int(choice)   "
   ]
  },
  {
   "cell_type": "code",
   "execution_count": 76,
   "id": "8bf3c1cf",
   "metadata": {},
   "outputs": [
    {
     "name": "stdout",
     "output_type": "stream",
     "text": [
      "Please enter a number 0-10: 11\n",
      "Sorry you are out of acceptable range 0-10\n",
      "Please enter a number 0-10: new\n",
      "Sorry that is not a digit\n",
      "Please enter a number 0-10: 5\n"
     ]
    },
    {
     "data": {
      "text/plain": [
       "5"
      ]
     },
     "execution_count": 76,
     "metadata": {},
     "output_type": "execute_result"
    }
   ],
   "source": [
    "user_choice()"
   ]
  },
  {
   "cell_type": "code",
   "execution_count": 77,
   "id": "f46921b2",
   "metadata": {},
   "outputs": [],
   "source": [
    "game_list = [0,1,2]\n",
    "def display_game(game_list):\n",
    "    print('Here is the current list')\n",
    "    print(game_list)"
   ]
  },
  {
   "cell_type": "code",
   "execution_count": 78,
   "id": "0230c1bf",
   "metadata": {},
   "outputs": [
    {
     "name": "stdout",
     "output_type": "stream",
     "text": [
      "Here is the current list\n",
      "[0, 1, 2]\n"
     ]
    }
   ],
   "source": [
    "display_game(game_list)"
   ]
  },
  {
   "cell_type": "code",
   "execution_count": 79,
   "id": "515c53df",
   "metadata": {},
   "outputs": [],
   "source": [
    "def position_choice():\n",
    "    choice = 'wrong'\n",
    "    while choice not in ['0','1','2']:\n",
    "        choice = input('Pick a number 0,1,2: ')\n",
    "        if choice not in ['0','1','2']:\n",
    "            print('Sorry invalid choice')\n",
    "    return int(choice) "
   ]
  },
  {
   "cell_type": "code",
   "execution_count": 80,
   "id": "5884e8e8",
   "metadata": {},
   "outputs": [
    {
     "name": "stdout",
     "output_type": "stream",
     "text": [
      "Pick a number 0,1,2: 2\n"
     ]
    },
    {
     "data": {
      "text/plain": [
       "2"
      ]
     },
     "execution_count": 80,
     "metadata": {},
     "output_type": "execute_result"
    }
   ],
   "source": [
    "position_choice()"
   ]
  },
  {
   "cell_type": "code",
   "execution_count": 81,
   "id": "b9b8da02",
   "metadata": {},
   "outputs": [],
   "source": [
    "def replacement_choice(game_list,position):\n",
    "    user_replacement = input('Enter a string to place at position ')\n",
    "    game_list[position] = user_replacement\n",
    "    return game_list "
   ]
  },
  {
   "cell_type": "code",
   "execution_count": 82,
   "id": "bf73f2a1",
   "metadata": {},
   "outputs": [
    {
     "name": "stdout",
     "output_type": "stream",
     "text": [
      "Enter a string to place at position NEW\n"
     ]
    },
    {
     "data": {
      "text/plain": [
       "[0, 'NEW', 2]"
      ]
     },
     "execution_count": 82,
     "metadata": {},
     "output_type": "execute_result"
    }
   ],
   "source": [
    "replacement_choice(game_list,1)"
   ]
  },
  {
   "cell_type": "code",
   "execution_count": 83,
   "id": "df927378",
   "metadata": {},
   "outputs": [],
   "source": [
    "def gameon_choice():\n",
    "    choice = 'wrong'\n",
    "    while choice not in ['Y','N']:\n",
    "        choice = input('Keep Playing?:(Y or N) ')\n",
    "        if choice not in ['Y','N']:\n",
    "            print('Sorry I do not understand ! Please choose Y or N')\n",
    "    if choice == 'Y':\n",
    "        return True\n",
    "    else:\n",
    "        return False"
   ]
  },
  {
   "cell_type": "code",
   "execution_count": 84,
   "id": "718e1b00",
   "metadata": {},
   "outputs": [
    {
     "name": "stdout",
     "output_type": "stream",
     "text": [
      "Keep Playing?:(Y or N) Y\n"
     ]
    },
    {
     "data": {
      "text/plain": [
       "True"
      ]
     },
     "execution_count": 84,
     "metadata": {},
     "output_type": "execute_result"
    }
   ],
   "source": [
    "gameon_choice()"
   ]
  },
  {
   "cell_type": "code",
   "execution_count": 85,
   "id": "d7ce9b26",
   "metadata": {},
   "outputs": [
    {
     "name": "stdout",
     "output_type": "stream",
     "text": [
      "Here is the current list\n",
      "[0, 1, 2]\n",
      "Pick a number 0,1,2: 2\n",
      "Enter a string to place at position MSU\n",
      "Here is the current list\n",
      "[0, 1, 'MSU']\n",
      "Keep Playing?:(Y or N) Y\n",
      "Here is the current list\n",
      "[0, 1, 'MSU']\n",
      "Pick a number 0,1,2: 1\n",
      "Enter a string to place at position BRAND\n",
      "Here is the current list\n",
      "[0, 'BRAND', 'MSU']\n",
      "Keep Playing?:(Y or N) N\n"
     ]
    }
   ],
   "source": [
    "gameon = True\n",
    "game_list = [0,1,2]\n",
    "while gameon:\n",
    "    display_game(game_list)\n",
    "    position = position_choice()\n",
    "    game_list = replacement_choice(game_list,position)\n",
    "    display_game(game_list)\n",
    "    gameon = gameon_choice()"
   ]
  },
  {
   "cell_type": "code",
   "execution_count": null,
   "id": "6cc6c2fc",
   "metadata": {},
   "outputs": [],
   "source": [
    "i = 4\n",
    "d = 4.0\n",
    "s = 'HackerRank '\n",
    "# Declare second integer, double, and String variables.\n",
    "a=12\n",
    "b= 4.0\n",
    "c='is the best place to learn and practice coding!, we get HackerRank is the best place to learn and practice coding!.'\n",
    "# Read and save an integer, double, and String to your variables.\n",
    "\n",
    "# Print the sum of both integer variables on a new line.\n",
    "\n",
    "# Print the sum of the double variables on a new line.\n",
    "\n",
    "# Concatenate and print the String variables on a new line\n",
    "# The 's' variable above should be printed first."
   ]
  }
 ],
 "metadata": {
  "kernelspec": {
   "display_name": "Python 3 (ipykernel)",
   "language": "python",
   "name": "python3"
  },
  "language_info": {
   "codemirror_mode": {
    "name": "ipython",
    "version": 3
   },
   "file_extension": ".py",
   "mimetype": "text/x-python",
   "name": "python",
   "nbconvert_exporter": "python",
   "pygments_lexer": "ipython3",
   "version": "3.10.9"
  }
 },
 "nbformat": 4,
 "nbformat_minor": 5
}
