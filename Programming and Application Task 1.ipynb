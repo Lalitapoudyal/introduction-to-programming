{
 "cells": [
  {
   "cell_type": "markdown",
   "id": "807a142d",
   "metadata": {},
   "source": [
    "1.Python program to check leap year"
   ]
  },
  {
   "cell_type": "code",
   "execution_count": 5,
   "id": "1560ee62",
   "metadata": {},
   "outputs": [
    {
     "name": "stdout",
     "output_type": "stream",
     "text": [
      "Enter the year to checked: 2004\n",
      "2004 is a Leap Year\n"
     ]
    }
   ],
   "source": [
    "#Function define\n",
    "input_year = int(input(\"Enter the year to checked: \"))\n",
    "if (input_year%400 == 0):\n",
    "    print(\"%d is a Leap Year\" %input_year )\n",
    "elif (input_year%100 == 0):\n",
    "    print(\"%d is Not the Leap Year\" %input_year)\n",
    "elif (input_year%4 == 0):\n",
    "    print (\"%d is a Leap Year\" %input_year)\n",
    "else:\n",
    "    print(\"%d is Not the Leap Year\"%input_year)"
   ]
  },
  {
   "cell_type": "markdown",
   "id": "18a451f7",
   "metadata": {},
   "source": [
    "2.Python program to check prime number"
   ]
  },
  {
   "cell_type": "code",
   "execution_count": 15,
   "id": "da5d9613",
   "metadata": {},
   "outputs": [
    {
     "name": "stdout",
     "output_type": "stream",
     "text": [
      "Enter the number13\n",
      "13 is a prime number \n"
     ]
    }
   ],
   "source": [
    "num = int(input(\"Enter the number\"))\n",
    "\n",
    "if num > 1:\n",
    "    for i in range(2, int(num/2)+1):\n",
    "        if (num % i) == 0:\n",
    "            print(num, \"is not a prime number\")\n",
    "            break\n",
    "    else:\n",
    "        print(num, \"is a prime number \")\n",
    "else:\n",
    "    print(num, \"is nat a prime number\")\n",
    "    "
   ]
  },
  {
   "cell_type": "markdown",
   "id": "a1df1b28",
   "metadata": {},
   "source": [
    "3.Python program to find the Factorial of a number"
   ]
  },
  {
   "cell_type": "code",
   "execution_count": 19,
   "id": "f6cd3428",
   "metadata": {},
   "outputs": [
    {
     "name": "stdout",
     "output_type": "stream",
     "text": [
      "Enter the number:6\n",
      "Factorial of 6 is 720\n"
     ]
    }
   ],
   "source": [
    "import math\n",
    "def fact(n):\n",
    "    return(math.factorial(n))\n",
    "num = int(input(\"Enter the number:\"))\n",
    "f = fact(num)\n",
    "print(\"Factorial of\",num,\"is\",f)"
   ]
  },
  {
   "cell_type": "markdown",
   "id": "ab3c3cc7",
   "metadata": {},
   "source": [
    "4.Python program to find the Fibonacci of a number"
   ]
  },
  {
   "cell_type": "code",
   "execution_count": 5,
   "id": "9166271b",
   "metadata": {},
   "outputs": [
    {
     "name": "stdout",
     "output_type": "stream",
     "text": [
      "Enter the number:5\n",
      "0 1\n"
     ]
    }
   ],
   "source": [
    "n = int(input(\"Enter the number:\"))\n",
    "f=0\n",
    "sum = 1\n",
    "if  n<0:\n",
    "    print(\"The fibonacci series is: \",f)\n",
    "else:\n",
    "    print(f,sum)"
   ]
  },
  {
   "cell_type": "markdown",
   "id": "27700ddb",
   "metadata": {},
   "source": [
    "5.Python program to find the armstrong of a number"
   ]
  },
  {
   "cell_type": "code",
   "execution_count": 10,
   "id": "9d3bdc91",
   "metadata": {},
   "outputs": [
    {
     "ename": "SyntaxError",
     "evalue": "invalid syntax (1034142256.py, line 4)",
     "output_type": "error",
     "traceback": [
      "\u001b[1;36m  Cell \u001b[1;32mIn[10], line 4\u001b[1;36m\u001b[0m\n\u001b[1;33m    for in list:\u001b[0m\n\u001b[1;37m        ^\u001b[0m\n\u001b[1;31mSyntaxError\u001b[0m\u001b[1;31m:\u001b[0m invalid syntax\n"
     ]
    }
   ],
   "source": [
    "n1 = int(input)\n",
    "list1 = [n1]\n",
    "result = (n1**1)\n",
    "for in list:"
   ]
  },
  {
   "cell_type": "code",
   "execution_count": null,
   "id": "63ad1218",
   "metadata": {},
   "outputs": [],
   "source": []
  }
 ],
 "metadata": {
  "kernelspec": {
   "display_name": "Python 3 (ipykernel)",
   "language": "python",
   "name": "python3"
  },
  "language_info": {
   "codemirror_mode": {
    "name": "ipython",
    "version": 3
   },
   "file_extension": ".py",
   "mimetype": "text/x-python",
   "name": "python",
   "nbconvert_exporter": "python",
   "pygments_lexer": "ipython3",
   "version": "3.10.9"
  }
 },
 "nbformat": 4,
 "nbformat_minor": 5
}
