{
 "cells": [
  {
   "cell_type": "markdown",
   "id": "898daf48",
   "metadata": {},
   "source": [
    "Python program function that inputs a number and prints the multiplication of that number.\n"
   ]
  },
  {
   "cell_type": "code",
   "execution_count": 87,
   "id": "e2270362",
   "metadata": {},
   "outputs": [],
   "source": [
    "def multiplication():\n",
    "    num=int(input(\"Enter the number: \")) #user input of the number\n",
    "    for i in range(1,11):\n",
    "        print(num,'*', i,'=',num*i) # printing the number calculated"
   ]
  },
  {
   "cell_type": "code",
   "execution_count": 88,
   "id": "85e50018",
   "metadata": {},
   "outputs": [
    {
     "name": "stdout",
     "output_type": "stream",
     "text": [
      "Enter the number: 5\n",
      "5 * 1 = 5\n",
      "5 * 2 = 10\n",
      "5 * 3 = 15\n",
      "5 * 4 = 20\n",
      "5 * 5 = 25\n",
      "5 * 6 = 30\n",
      "5 * 7 = 35\n",
      "5 * 8 = 40\n",
      "5 * 9 = 45\n",
      "5 * 10 = 50\n"
     ]
    }
   ],
   "source": [
    " multiplication()"
   ]
  },
  {
   "cell_type": "markdown",
   "id": "be0bb1cb",
   "metadata": {},
   "source": [
    "Python program to check if element is present in the LIST or not."
   ]
  },
  {
   "cell_type": "code",
   "execution_count": 81,
   "id": "fab38f97",
   "metadata": {},
   "outputs": [
    {
     "name": "stdout",
     "output_type": "stream",
     "text": [
      "Check the element: s\n",
      "True\n"
     ]
    }
   ],
   "source": [
    "n=input(\"Check the element: \")#USER INPUT \n",
    "\n",
    "\n",
    "my_list=['s','d','A','b','e']\n",
    "\n",
    "if n in my_list: #USING ITERATION METHOD  to check element is present in given list or not.\n",
    "\n",
    "        print(\"True\")\n",
    "    \n",
    "else:\n",
    "    print(\"False\")\n",
    "\n",
    "\n"
   ]
  },
  {
   "cell_type": "markdown",
   "id": "fa312157",
   "metadata": {},
   "source": [
    "Python program to open a file and write it to a file."
   ]
  },
  {
   "cell_type": "code",
   "execution_count": 168,
   "id": "c9074a14",
   "metadata": {},
   "outputs": [
    {
     "ename": "TypeError",
     "evalue": "'str' object is not callable",
     "output_type": "error",
     "traceback": [
      "\u001b[1;31m---------------------------------------------------------------------------\u001b[0m",
      "\u001b[1;31mTypeError\u001b[0m                                 Traceback (most recent call last)",
      "Cell \u001b[1;32mIn[168], line 2\u001b[0m\n\u001b[0;32m      1\u001b[0m \u001b[38;5;66;03m#opening a textfile\u001b[39;00m\n\u001b[1;32m----> 2\u001b[0m \u001b[38;5;28;01mwith\u001b[39;00m \u001b[38;5;28;43mopen\u001b[39;49m\u001b[43m(\u001b[49m\u001b[38;5;124;43m'\u001b[39;49m\u001b[38;5;124;43mfile.txt\u001b[39;49m\u001b[38;5;124;43m'\u001b[39;49m\u001b[43m,\u001b[49m\u001b[38;5;124;43m'\u001b[39;49m\u001b[38;5;124;43mw\u001b[39;49m\u001b[38;5;124;43m'\u001b[39;49m\u001b[43m)\u001b[49m \u001b[38;5;28;01mas\u001b[39;00m f:\n\u001b[0;32m      3\u001b[0m     file_content\u001b[38;5;241m=\u001b[39m f\u001b[38;5;241m.\u001b[39mwrite(\u001b[38;5;124m\"\u001b[39m\u001b[38;5;124mHello world!\u001b[39m\u001b[38;5;124m\"\u001b[39m)\n\u001b[0;32m      4\u001b[0m     \u001b[38;5;66;03m#*Write method* to write in file\u001b[39;00m\n",
      "\u001b[1;31mTypeError\u001b[0m: 'str' object is not callable"
     ]
    }
   ],
   "source": [
    "#opening a textfile\n",
    "with open('file.txt','w') as f:\n",
    "    file_content= f.write(\"Hello world!\")\n",
    "    #*Write method* to write in file\n",
    "with open('file.txt','r')as f: \n",
    "    file_content=f.read()\n",
    "file_content\n",
    "\n",
    "\n",
    "\n",
    "\n",
    "\n",
    "\n"
   ]
  },
  {
   "cell_type": "markdown",
   "id": "accbc115",
   "metadata": {},
   "source": [
    "Write a unit test for the functions:\n",
    "    Addition,Subtraction,Multiplication"
   ]
  },
  {
   "cell_type": "code",
   "execution_count": 156,
   "id": "bfc4f1a6",
   "metadata": {},
   "outputs": [
    {
     "name": "stdout",
     "output_type": "stream",
     "text": [
      "Addition is 5\n",
      "Subtraction is 1\n",
      "Multiplication is 6\n"
     ]
    }
   ],
   "source": [
    "def unit_test(num1,num2):\n",
    "    print(\"Addition is\",num1+num2)\n",
    "    print(\"Subtraction is\",num1-num2)\n",
    "    print(\"Multiplication is\",num1*num2)\n",
    "unit_test(3,2)"
   ]
  },
  {
   "cell_type": "code",
   "execution_count": null,
   "id": "7dc362aa",
   "metadata": {},
   "outputs": [],
   "source": []
  },
  {
   "cell_type": "code",
   "execution_count": null,
   "id": "7ce44ef2",
   "metadata": {},
   "outputs": [],
   "source": []
  },
  {
   "cell_type": "code",
   "execution_count": null,
   "id": "cb1d02e7",
   "metadata": {},
   "outputs": [],
   "source": []
  }
 ],
 "metadata": {
  "kernelspec": {
   "display_name": "Python 3 (ipykernel)",
   "language": "python",
   "name": "python3"
  },
  "language_info": {
   "codemirror_mode": {
    "name": "ipython",
    "version": 3
   },
   "file_extension": ".py",
   "mimetype": "text/x-python",
   "name": "python",
   "nbconvert_exporter": "python",
   "pygments_lexer": "ipython3",
   "version": "3.10.9"
  }
 },
 "nbformat": 4,
 "nbformat_minor": 5
}
