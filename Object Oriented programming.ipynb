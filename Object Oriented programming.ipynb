{
 "cells": [
  {
   "cell_type": "code",
   "execution_count": 8,
   "id": "4c5ec3f5",
   "metadata": {},
   "outputs": [],
   "source": [
    "class car():\n",
    "    def __init__(self,color,model,make):\n",
    "        self.color= color\n",
    "        self.model = model\n",
    "        self.make= make\n",
    "    def accelerate(self):\n",
    "            print('The car is accelerate')\n",
    "    def brake(self):\n",
    "            print('The car is braking')"
   ]
  },
  {
   "cell_type": "code",
   "execution_count": 9,
   "id": "3839a022",
   "metadata": {},
   "outputs": [],
   "source": [
    "my_car = car('Red','Ferrari','488GTB')\n"
   ]
  },
  {
   "cell_type": "code",
   "execution_count": 10,
   "id": "70faa40b",
   "metadata": {},
   "outputs": [
    {
     "name": "stdout",
     "output_type": "stream",
     "text": [
      "Red\n"
     ]
    }
   ],
   "source": [
    "print(my_car.color)"
   ]
  },
  {
   "cell_type": "code",
   "execution_count": 11,
   "id": "27d4c0c0",
   "metadata": {},
   "outputs": [
    {
     "data": {
      "text/plain": [
       "'488GTB'"
      ]
     },
     "execution_count": 11,
     "metadata": {},
     "output_type": "execute_result"
    }
   ],
   "source": [
    "my_car.make"
   ]
  },
  {
   "cell_type": "code",
   "execution_count": 12,
   "id": "2d1cb0b3",
   "metadata": {},
   "outputs": [
    {
     "name": "stdout",
     "output_type": "stream",
     "text": [
      "The car is accelerate\n"
     ]
    }
   ],
   "source": [
    "my_car.accelerate()"
   ]
  },
  {
   "cell_type": "code",
   "execution_count": 13,
   "id": "d1d560dc",
   "metadata": {},
   "outputs": [
    {
     "name": "stdout",
     "output_type": "stream",
     "text": [
      "The car is braking\n"
     ]
    }
   ],
   "source": [
    "my_car.brake()"
   ]
  },
  {
   "cell_type": "code",
   "execution_count": 14,
   "id": "227bfb0b",
   "metadata": {},
   "outputs": [],
   "source": [
    "mylist=[1,2,3]"
   ]
  },
  {
   "cell_type": "code",
   "execution_count": 15,
   "id": "4819b7b2",
   "metadata": {},
   "outputs": [
    {
     "data": {
      "text/plain": [
       "[1, 2, 3]"
      ]
     },
     "execution_count": 15,
     "metadata": {},
     "output_type": "execute_result"
    }
   ],
   "source": [
    "mylist"
   ]
  },
  {
   "cell_type": "code",
   "execution_count": 16,
   "id": "a8792be1",
   "metadata": {},
   "outputs": [],
   "source": [
    "myset=[1,2,3,4,5,5]"
   ]
  },
  {
   "cell_type": "code",
   "execution_count": 17,
   "id": "889664bb",
   "metadata": {},
   "outputs": [],
   "source": [
    "myset=set()"
   ]
  },
  {
   "cell_type": "code",
   "execution_count": 22,
   "id": "10b1e92b",
   "metadata": {},
   "outputs": [],
   "source": [
    "class Sample():\n",
    "    pass\n"
   ]
  },
  {
   "cell_type": "code",
   "execution_count": 23,
   "id": "0c5f0e51",
   "metadata": {},
   "outputs": [],
   "source": [
    "my_Sample = Sample()"
   ]
  },
  {
   "cell_type": "code",
   "execution_count": 24,
   "id": "ef62e27b",
   "metadata": {},
   "outputs": [
    {
     "data": {
      "text/plain": [
       "__main__.Sample"
      ]
     },
     "execution_count": 24,
     "metadata": {},
     "output_type": "execute_result"
    }
   ],
   "source": [
    "type(my_Sample)"
   ]
  },
  {
   "cell_type": "code",
   "execution_count": 25,
   "id": "a3c46217",
   "metadata": {},
   "outputs": [],
   "source": [
    "class Dog():\n",
    "    def __init__(self,breed):\n",
    "        self.breed = breed"
   ]
  },
  {
   "cell_type": "code",
   "execution_count": 26,
   "id": "cd1e701f",
   "metadata": {},
   "outputs": [],
   "source": [
    "my_dog = Dog('Lab')"
   ]
  },
  {
   "cell_type": "code",
   "execution_count": 27,
   "id": "1dbcfcc7",
   "metadata": {},
   "outputs": [
    {
     "data": {
      "text/plain": [
       "__main__.Dog"
      ]
     },
     "execution_count": 27,
     "metadata": {},
     "output_type": "execute_result"
    }
   ],
   "source": [
    "type(my_dog)"
   ]
  },
  {
   "cell_type": "code",
   "execution_count": 29,
   "id": "56167d8f",
   "metadata": {},
   "outputs": [
    {
     "data": {
      "text/plain": [
       "'Lab'"
      ]
     },
     "execution_count": 29,
     "metadata": {},
     "output_type": "execute_result"
    }
   ],
   "source": [
    "my_dog.breed"
   ]
  },
  {
   "cell_type": "code",
   "execution_count": 62,
   "id": "c0a5d543",
   "metadata": {},
   "outputs": [],
   "source": [
    "class Dog():\n",
    "    #Attritubes\n",
    "    #We take in the argument\n",
    "    #Assign it to the self.attribute\n",
    "    def __init__(self,mybreed):\n",
    "        self.breed = mybreed"
   ]
  },
  {
   "cell_type": "code",
   "execution_count": 63,
   "id": "f534566a",
   "metadata": {},
   "outputs": [],
   "source": [
    "my_dog =Dog('Huskie')"
   ]
  },
  {
   "cell_type": "code",
   "execution_count": 64,
   "id": "04c4cfa3",
   "metadata": {},
   "outputs": [
    {
     "data": {
      "text/plain": [
       "'Huskie'"
      ]
     },
     "execution_count": 64,
     "metadata": {},
     "output_type": "execute_result"
    }
   ],
   "source": [
    "my_dog.breed"
   ]
  },
  {
   "cell_type": "code",
   "execution_count": 65,
   "id": "df7cfdb9",
   "metadata": {},
   "outputs": [],
   "source": [
    "class Dog():\n",
    "    #Attritubes\n",
    "    #We take in the argument\n",
    "    #Assign it to the self.attribute\n",
    "    def __init__(self,mybreed):\n",
    "        self.my_attribute = mybreed\n",
    "        "
   ]
  },
  {
   "cell_type": "code",
   "execution_count": 66,
   "id": "618483e6",
   "metadata": {},
   "outputs": [],
   "source": [
    "my_dog =Dog('LAB')"
   ]
  },
  {
   "cell_type": "code",
   "execution_count": 69,
   "id": "3ae554c5",
   "metadata": {},
   "outputs": [
    {
     "data": {
      "text/plain": [
       "'LAB'"
      ]
     },
     "execution_count": 69,
     "metadata": {},
     "output_type": "execute_result"
    }
   ],
   "source": [
    "my_dog.my_attribute"
   ]
  },
  {
   "cell_type": "code",
   "execution_count": 70,
   "id": "2c509984",
   "metadata": {},
   "outputs": [
    {
     "data": {
      "text/plain": [
       "'LAB'"
      ]
     },
     "execution_count": 70,
     "metadata": {},
     "output_type": "execute_result"
    }
   ],
   "source": [
    "my_dog.my_attribute"
   ]
  },
  {
   "cell_type": "code",
   "execution_count": 71,
   "id": "2c78cfe2",
   "metadata": {},
   "outputs": [],
   "source": [
    "class Dog():\n",
    "    def __init__(self,breed,name,spots):\n",
    "        self.breed=breed\n",
    "        self.name=name\n",
    "        #expecting a boolean\n",
    "        self.spots=spots"
   ]
  },
  {
   "cell_type": "code",
   "execution_count": 72,
   "id": "f18e2370",
   "metadata": {},
   "outputs": [],
   "source": [
    "my_dog = Dog(breed='Huskie',name='Frankie',spots=False)"
   ]
  },
  {
   "cell_type": "code",
   "execution_count": 73,
   "id": "3a03b2d1",
   "metadata": {},
   "outputs": [
    {
     "data": {
      "text/plain": [
       "__main__.Dog"
      ]
     },
     "execution_count": 73,
     "metadata": {},
     "output_type": "execute_result"
    }
   ],
   "source": [
    "type(my_dog)"
   ]
  },
  {
   "cell_type": "code",
   "execution_count": 74,
   "id": "0d9615a4",
   "metadata": {},
   "outputs": [
    {
     "data": {
      "text/plain": [
       "'Huskie'"
      ]
     },
     "execution_count": 74,
     "metadata": {},
     "output_type": "execute_result"
    }
   ],
   "source": [
    "my_dog.breed"
   ]
  },
  {
   "cell_type": "code",
   "execution_count": 75,
   "id": "b3178079",
   "metadata": {},
   "outputs": [
    {
     "data": {
      "text/plain": [
       "'Frankie'"
      ]
     },
     "execution_count": 75,
     "metadata": {},
     "output_type": "execute_result"
    }
   ],
   "source": [
    "my_dog.name"
   ]
  },
  {
   "cell_type": "code",
   "execution_count": 76,
   "id": "eb08328e",
   "metadata": {},
   "outputs": [
    {
     "data": {
      "text/plain": [
       "False"
      ]
     },
     "execution_count": 76,
     "metadata": {},
     "output_type": "execute_result"
    }
   ],
   "source": [
    "my_dog.spots"
   ]
  },
  {
   "cell_type": "code",
   "execution_count": 77,
   "id": "d194a082",
   "metadata": {},
   "outputs": [],
   "source": [
    "my_dog =Dog(breed='Huskie',name='Frankie',spots='NO SPOTS')"
   ]
  },
  {
   "cell_type": "code",
   "execution_count": 78,
   "id": "a6122be7",
   "metadata": {},
   "outputs": [
    {
     "data": {
      "text/plain": [
       "'NO SPOTS'"
      ]
     },
     "execution_count": 78,
     "metadata": {},
     "output_type": "execute_result"
    }
   ],
   "source": [
    "my_dog.spots"
   ]
  },
  {
   "cell_type": "code",
   "execution_count": 81,
   "id": "805302bd",
   "metadata": {},
   "outputs": [],
   "source": [
    "class Dog():\n",
    "    #class object attributes\n",
    "    #same for any instance of a class\n",
    "    species='mammal'\n",
    "    def __init__(self,breed,name,spots):\n",
    "       #Attritubes\n",
    "       #We take in the argument\n",
    "       #Assign it to the self.attribut_name\n",
    "        self.breed = breed\n",
    "        self.name = name\n",
    "        #expecting a boolean True/False\n",
    "        self.spots=spots \n"
   ]
  },
  {
   "cell_type": "code",
   "execution_count": 82,
   "id": "8a60e675",
   "metadata": {},
   "outputs": [],
   "source": [
    "my_dog = Dog(breed='Lab',name='Sam',spots=False)"
   ]
  },
  {
   "cell_type": "code",
   "execution_count": 83,
   "id": "9829f845",
   "metadata": {},
   "outputs": [
    {
     "data": {
      "text/plain": [
       "__main__.Dog"
      ]
     },
     "execution_count": 83,
     "metadata": {},
     "output_type": "execute_result"
    }
   ],
   "source": [
    "type(my_dog)"
   ]
  },
  {
   "cell_type": "code",
   "execution_count": 84,
   "id": "d7106820",
   "metadata": {},
   "outputs": [
    {
     "data": {
      "text/plain": [
       "'Lab'"
      ]
     },
     "execution_count": 84,
     "metadata": {},
     "output_type": "execute_result"
    }
   ],
   "source": [
    "my_dog.breed"
   ]
  },
  {
   "cell_type": "code",
   "execution_count": 85,
   "id": "ecfebee5",
   "metadata": {},
   "outputs": [
    {
     "data": {
      "text/plain": [
       "'Sam'"
      ]
     },
     "execution_count": 85,
     "metadata": {},
     "output_type": "execute_result"
    }
   ],
   "source": [
    "my_dog.name"
   ]
  },
  {
   "cell_type": "code",
   "execution_count": 87,
   "id": "91069951",
   "metadata": {},
   "outputs": [
    {
     "data": {
      "text/plain": [
       "'mammal'"
      ]
     },
     "execution_count": 87,
     "metadata": {},
     "output_type": "execute_result"
    }
   ],
   "source": [
    "my_dog.species"
   ]
  },
  {
   "cell_type": "code",
   "execution_count": 88,
   "id": "f198b45c",
   "metadata": {},
   "outputs": [
    {
     "data": {
      "text/plain": [
       "False"
      ]
     },
     "execution_count": 88,
     "metadata": {},
     "output_type": "execute_result"
    }
   ],
   "source": [
    "my_dog.spots"
   ]
  },
  {
   "cell_type": "code",
   "execution_count": 99,
   "id": "36ec5fda",
   "metadata": {},
   "outputs": [],
   "source": [
    "class Dog():\n",
    "    #class object attributes\n",
    "    #same for any instance of a class\n",
    "    species='mammal'\n",
    "    def __init__(self,breed,name,spots):\n",
    "       #Attritubes\n",
    "       #We take in the argument\n",
    "       #Assign it to the self.attribut_name\n",
    "        self.breed = breed\n",
    "        self.name = name\n",
    "        #expecting a boolean True/False\n",
    "        self.spots=spots \n",
    "        #operations -->Actions\n",
    "    def bark(self,number):\n",
    "        print('Woof! my name is {} and number is {}'.format(self.name,number))"
   ]
  },
  {
   "cell_type": "code",
   "execution_count": 100,
   "id": "a2c0e49c",
   "metadata": {},
   "outputs": [],
   "source": [
    "my_dog =Dog('Lab','Huskie',False)"
   ]
  },
  {
   "cell_type": "code",
   "execution_count": 101,
   "id": "b5b18988",
   "metadata": {},
   "outputs": [
    {
     "data": {
      "text/plain": [
       "__main__.Dog"
      ]
     },
     "execution_count": 101,
     "metadata": {},
     "output_type": "execute_result"
    }
   ],
   "source": [
    "type(my_dog)"
   ]
  },
  {
   "cell_type": "code",
   "execution_count": 102,
   "id": "e855fa75",
   "metadata": {},
   "outputs": [
    {
     "name": "stdout",
     "output_type": "stream",
     "text": [
      "Woof! my name is Huskie and number is 10\n"
     ]
    }
   ],
   "source": [
    "my_dog.bark(10)"
   ]
  },
  {
   "cell_type": "code",
   "execution_count": 9,
   "id": "39325ad4",
   "metadata": {},
   "outputs": [],
   "source": [
    "class Circle():\n",
    "     #class object attribute\n",
    "    pi=3.14\n",
    "    def __init__(self,radius=1):\n",
    "        self.radius = radius\n",
    "    #method\n",
    "    def get_circumference(self):\n",
    "        return 2*self.pi*self.radius\n",
    "    \n",
    "    \n"
   ]
  },
  {
   "cell_type": "code",
   "execution_count": 12,
   "id": "d9698801",
   "metadata": {},
   "outputs": [],
   "source": [
    "my_circle =Circle()"
   ]
  },
  {
   "cell_type": "code",
   "execution_count": 13,
   "id": "0a877823",
   "metadata": {},
   "outputs": [
    {
     "data": {
      "text/plain": [
       "3.14"
      ]
     },
     "execution_count": 13,
     "metadata": {},
     "output_type": "execute_result"
    }
   ],
   "source": [
    "my_circle.pi"
   ]
  },
  {
   "cell_type": "code",
   "execution_count": 14,
   "id": "a61e5d64",
   "metadata": {},
   "outputs": [
    {
     "data": {
      "text/plain": [
       "1"
      ]
     },
     "execution_count": 14,
     "metadata": {},
     "output_type": "execute_result"
    }
   ],
   "source": [
    "my_circle.radius"
   ]
  },
  {
   "cell_type": "code",
   "execution_count": 16,
   "id": "64af2853",
   "metadata": {},
   "outputs": [
    {
     "data": {
      "text/plain": [
       "6.28"
      ]
     },
     "execution_count": 16,
     "metadata": {},
     "output_type": "execute_result"
    }
   ],
   "source": [
    "my_circle.get_circumference()"
   ]
  },
  {
   "cell_type": "code",
   "execution_count": 17,
   "id": "f760ffdc",
   "metadata": {},
   "outputs": [],
   "source": [
    "class Circle():\n",
    "     #class object attribute\n",
    "    pi=3.14\n",
    "    def __init__(self,radius=1):\n",
    "        self.radius=radius\n",
    "        self.area= Circle.pi*radius*radius\n",
    "    #method\n",
    "    def get_circumference(self):\n",
    "        return 2*Circle.pi*self.radius\n",
    "    \n"
   ]
  },
  {
   "cell_type": "code",
   "execution_count": 18,
   "id": "dfe3ba9b",
   "metadata": {},
   "outputs": [],
   "source": [
    "my_circle= Circle(30)"
   ]
  },
  {
   "cell_type": "code",
   "execution_count": 19,
   "id": "5b0cdca2",
   "metadata": {},
   "outputs": [
    {
     "data": {
      "text/plain": [
       "2826.0"
      ]
     },
     "execution_count": 19,
     "metadata": {},
     "output_type": "execute_result"
    }
   ],
   "source": [
    "my_circle.area"
   ]
  },
  {
   "cell_type": "code",
   "execution_count": 20,
   "id": "b8ce0b66",
   "metadata": {},
   "outputs": [
    {
     "data": {
      "text/plain": [
       "188.4"
      ]
     },
     "execution_count": 20,
     "metadata": {},
     "output_type": "execute_result"
    }
   ],
   "source": [
    "my_circle.get_circumference()"
   ]
  },
  {
   "cell_type": "code",
   "execution_count": 23,
   "id": "22097044",
   "metadata": {},
   "outputs": [],
   "source": [
    "class Animal():\n",
    "    def __init__(self):\n",
    "        print('Animal created')\n",
    "    def who_am_i(self):\n",
    "        print('I am an animal')\n",
    "    def eat(self):\n",
    "        print('Iam eating')"
   ]
  },
  {
   "cell_type": "code",
   "execution_count": 24,
   "id": "316ece02",
   "metadata": {},
   "outputs": [
    {
     "name": "stdout",
     "output_type": "stream",
     "text": [
      "Animal created\n"
     ]
    }
   ],
   "source": [
    "myanimal= Animal()"
   ]
  },
  {
   "cell_type": "code",
   "execution_count": 25,
   "id": "d031beb5",
   "metadata": {},
   "outputs": [
    {
     "name": "stdout",
     "output_type": "stream",
     "text": [
      "Iam eating\n"
     ]
    }
   ],
   "source": [
    "myanimal.eat()"
   ]
  },
  {
   "cell_type": "code",
   "execution_count": 26,
   "id": "369dbd87",
   "metadata": {},
   "outputs": [
    {
     "name": "stdout",
     "output_type": "stream",
     "text": [
      "I am an animal\n"
     ]
    }
   ],
   "source": [
    "myanimal.who_am_i()"
   ]
  },
  {
   "cell_type": "code",
   "execution_count": 33,
   "id": "c4e967e6",
   "metadata": {},
   "outputs": [],
   "source": [
    "class Dog(Animal):\n",
    "    def __init__(self):\n",
    "        Animal.__init__(self)\n",
    "        print('Dog created')\n",
    "    def who_am_i(self):\n",
    "        print('Iam a dog')\n",
    "    def eat(self):\n",
    "        print('Iam a dog and eating')\n",
    "    def bark(self):\n",
    "        print('woof!')\n",
    "    "
   ]
  },
  {
   "cell_type": "code",
   "execution_count": 34,
   "id": "76ca31d6",
   "metadata": {},
   "outputs": [
    {
     "name": "stdout",
     "output_type": "stream",
     "text": [
      "Animal created\n",
      "Dog created\n"
     ]
    }
   ],
   "source": [
    "my_dog= Dog()"
   ]
  },
  {
   "cell_type": "code",
   "execution_count": 35,
   "id": "36e86ff3",
   "metadata": {},
   "outputs": [
    {
     "name": "stdout",
     "output_type": "stream",
     "text": [
      "Iam a dog\n"
     ]
    }
   ],
   "source": [
    "my_dog.who_am_i()"
   ]
  },
  {
   "cell_type": "code",
   "execution_count": 36,
   "id": "2d4d178d",
   "metadata": {},
   "outputs": [
    {
     "name": "stdout",
     "output_type": "stream",
     "text": [
      "Iam a dog and eating\n"
     ]
    }
   ],
   "source": [
    "my_dog.eat()"
   ]
  },
  {
   "cell_type": "code",
   "execution_count": 37,
   "id": "d91d9f2b",
   "metadata": {},
   "outputs": [
    {
     "name": "stdout",
     "output_type": "stream",
     "text": [
      "woof!\n"
     ]
    }
   ],
   "source": [
    "my_dog.bark()"
   ]
  },
  {
   "cell_type": "code",
   "execution_count": 41,
   "id": "2fa23280",
   "metadata": {},
   "outputs": [],
   "source": [
    "class Dog():\n",
    "    def __init__(self,name):\n",
    "        self.name = name\n",
    "    def speak(self):\n",
    "        return self.name + ' says woof!'\n",
    "class Cat():\n",
    "        def __init__(self,name):\n",
    "            self.name = name\n",
    "        def speak(self):\n",
    "            return self.name + ' says meow!'"
   ]
  },
  {
   "cell_type": "code",
   "execution_count": 42,
   "id": "ab492188",
   "metadata": {},
   "outputs": [],
   "source": [
    "cindra=Dog('Cindra')"
   ]
  },
  {
   "cell_type": "code",
   "execution_count": 43,
   "id": "8d1c75a3",
   "metadata": {},
   "outputs": [],
   "source": [
    "Leeo= Cat('Leeo')"
   ]
  },
  {
   "cell_type": "code",
   "execution_count": 45,
   "id": "fe5e2603",
   "metadata": {},
   "outputs": [
    {
     "name": "stdout",
     "output_type": "stream",
     "text": [
      "Cindra says woof!\n"
     ]
    }
   ],
   "source": [
    "print(cindra.speak())\n"
   ]
  },
  {
   "cell_type": "code",
   "execution_count": 47,
   "id": "13523156",
   "metadata": {},
   "outputs": [
    {
     "name": "stdout",
     "output_type": "stream",
     "text": [
      "Leeo says meow!\n"
     ]
    }
   ],
   "source": [
    "print(Leeo.speak())"
   ]
  },
  {
   "cell_type": "code",
   "execution_count": 49,
   "id": "fe24f71c",
   "metadata": {},
   "outputs": [
    {
     "name": "stdout",
     "output_type": "stream",
     "text": [
      "<class '__main__.Dog'>\n",
      "Cindra says woof!\n",
      "<class '__main__.Cat'>\n",
      "Leeo says meow!\n"
     ]
    }
   ],
   "source": [
    "for pet in [cindra,Leeo]:\n",
    "    print(type(pet))\n",
    "    print(pet.speak())\n"
   ]
  },
  {
   "cell_type": "code",
   "execution_count": 52,
   "id": "2b749d35",
   "metadata": {},
   "outputs": [],
   "source": [
    "def pet_speak(pet):\n",
    "    print(pet.speak())"
   ]
  },
  {
   "cell_type": "code",
   "execution_count": 53,
   "id": "b9183880",
   "metadata": {},
   "outputs": [
    {
     "name": "stdout",
     "output_type": "stream",
     "text": [
      "Cindra says woof!\n"
     ]
    }
   ],
   "source": [
    "pet_speak(cindra)"
   ]
  },
  {
   "cell_type": "code",
   "execution_count": 4,
   "id": "9813ea2d",
   "metadata": {},
   "outputs": [],
   "source": [
    "class Animal():\n",
    "    def __init__(self,name):\n",
    "        self.name = name\n",
    "    def speak(self):\n",
    "        raise NotImplementedError('Subclass must implement this abstract method') "
   ]
  },
  {
   "cell_type": "code",
   "execution_count": 5,
   "id": "ef333f0f",
   "metadata": {},
   "outputs": [],
   "source": [
    "myanimal = Animal('fred')"
   ]
  },
  {
   "cell_type": "code",
   "execution_count": 6,
   "id": "4d5e7550",
   "metadata": {},
   "outputs": [
    {
     "ename": "NotImplementedError",
     "evalue": "Subclass must implement this abstract method",
     "output_type": "error",
     "traceback": [
      "\u001b[1;31m---------------------------------------------------------------------------\u001b[0m",
      "\u001b[1;31mNotImplementedError\u001b[0m                       Traceback (most recent call last)",
      "Cell \u001b[1;32mIn[6], line 1\u001b[0m\n\u001b[1;32m----> 1\u001b[0m \u001b[43mmyanimal\u001b[49m\u001b[38;5;241;43m.\u001b[39;49m\u001b[43mspeak\u001b[49m\u001b[43m(\u001b[49m\u001b[43m)\u001b[49m\n",
      "Cell \u001b[1;32mIn[4], line 5\u001b[0m, in \u001b[0;36mAnimal.speak\u001b[1;34m(self)\u001b[0m\n\u001b[0;32m      4\u001b[0m \u001b[38;5;28;01mdef\u001b[39;00m \u001b[38;5;21mspeak\u001b[39m(\u001b[38;5;28mself\u001b[39m):\n\u001b[1;32m----> 5\u001b[0m     \u001b[38;5;28;01mraise\u001b[39;00m \u001b[38;5;167;01mNotImplementedError\u001b[39;00m(\u001b[38;5;124m'\u001b[39m\u001b[38;5;124mSubclass must implement this abstract method\u001b[39m\u001b[38;5;124m'\u001b[39m)\n",
      "\u001b[1;31mNotImplementedError\u001b[0m: Subclass must implement this abstract method"
     ]
    }
   ],
   "source": [
    "myanimal.speak()"
   ]
  },
  {
   "cell_type": "code",
   "execution_count": 25,
   "id": "df37e43c",
   "metadata": {},
   "outputs": [],
   "source": [
    "class Dog(Animal):\n",
    "    def speak(self):\n",
    "        return self.name  + ' says woolf!!'"
   ]
  },
  {
   "cell_type": "code",
   "execution_count": 26,
   "id": "43a87a29",
   "metadata": {},
   "outputs": [],
   "source": [
    "class Cat(Animal):\n",
    "    def speak(self):\n",
    "        return self.name + ' says yeeone!!'"
   ]
  },
  {
   "cell_type": "code",
   "execution_count": 27,
   "id": "a9f4aa2d",
   "metadata": {},
   "outputs": [],
   "source": [
    "Tommy=Dog('Tommy')"
   ]
  },
  {
   "cell_type": "code",
   "execution_count": 28,
   "id": "f61e7f70",
   "metadata": {},
   "outputs": [],
   "source": [
    "Isis=Cat('Isis')"
   ]
  },
  {
   "cell_type": "code",
   "execution_count": 29,
   "id": "e09e87f5",
   "metadata": {},
   "outputs": [
    {
     "name": "stdout",
     "output_type": "stream",
     "text": [
      "Tommy says woolf!!\n"
     ]
    }
   ],
   "source": [
    "print(Tommy.speak())"
   ]
  },
  {
   "cell_type": "code",
   "execution_count": 30,
   "id": "2bc030bd",
   "metadata": {},
   "outputs": [
    {
     "name": "stdout",
     "output_type": "stream",
     "text": [
      "Isis says yeeone!!\n"
     ]
    }
   ],
   "source": [
    "print(Isis.speak())"
   ]
  },
  {
   "cell_type": "code",
   "execution_count": 31,
   "id": "a88c7099",
   "metadata": {},
   "outputs": [],
   "source": [
    "#Special Methods Magic & Dunder "
   ]
  },
  {
   "cell_type": "code",
   "execution_count": 6,
   "id": "c9fe6ce0",
   "metadata": {},
   "outputs": [],
   "source": [
    " mylist = [1,2,3,4] "
   ]
  },
  {
   "cell_type": "code",
   "execution_count": 7,
   "id": "9b0f00ca",
   "metadata": {},
   "outputs": [
    {
     "data": {
      "text/plain": [
       "4"
      ]
     },
     "execution_count": 7,
     "metadata": {},
     "output_type": "execute_result"
    }
   ],
   "source": [
    "len(mylist)"
   ]
  },
  {
   "cell_type": "code",
   "execution_count": 8,
   "id": "7703cb6b",
   "metadata": {},
   "outputs": [],
   "source": [
    "class Sample():\n",
    "    pass "
   ]
  },
  {
   "cell_type": "code",
   "execution_count": 14,
   "id": "0f3f3571",
   "metadata": {},
   "outputs": [],
   "source": [
    "mysample = Sample()"
   ]
  },
  {
   "cell_type": "code",
   "execution_count": 19,
   "id": "239849e7",
   "metadata": {},
   "outputs": [
    {
     "ename": "TypeError",
     "evalue": "object of type 'Sample' has no len()",
     "output_type": "error",
     "traceback": [
      "\u001b[1;31m---------------------------------------------------------------------------\u001b[0m",
      "\u001b[1;31mTypeError\u001b[0m                                 Traceback (most recent call last)",
      "Cell \u001b[1;32mIn[19], line 1\u001b[0m\n\u001b[1;32m----> 1\u001b[0m \u001b[38;5;28;43mlen\u001b[39;49m\u001b[43m(\u001b[49m\u001b[43mmysample\u001b[49m\u001b[43m)\u001b[49m\n",
      "\u001b[1;31mTypeError\u001b[0m: object of type 'Sample' has no len()"
     ]
    }
   ],
   "source": [
    "len(mysample)"
   ]
  },
  {
   "cell_type": "code",
   "execution_count": 18,
   "id": "2edfe02b",
   "metadata": {},
   "outputs": [
    {
     "name": "stdout",
     "output_type": "stream",
     "text": [
      "<__main__.Sample object at 0x0000017E3D1279D0>\n"
     ]
    }
   ],
   "source": [
    "print(mysample)"
   ]
  },
  {
   "cell_type": "code",
   "execution_count": 11,
   "id": "0089c6c6",
   "metadata": {},
   "outputs": [
    {
     "name": "stdout",
     "output_type": "stream",
     "text": [
      "[1, 2, 3, 4]\n"
     ]
    }
   ],
   "source": [
    "print(mylist)"
   ]
  },
  {
   "cell_type": "code",
   "execution_count": 20,
   "id": "e2d28f7d",
   "metadata": {},
   "outputs": [],
   "source": [
    "class Book():\n",
    "    def __init__(self,title,author,pages):\n",
    "        #the attribute = equal to instance\n",
    "        self.title = title\n",
    "        self.author = author\n",
    "        self.pages = pages"
   ]
  },
  {
   "cell_type": "code",
   "execution_count": 23,
   "id": "a30481a6",
   "metadata": {},
   "outputs": [],
   "source": [
    " b = Book('Python!','Lazxy',200) "
   ]
  },
  {
   "cell_type": "code",
   "execution_count": 24,
   "id": "7b715eee",
   "metadata": {},
   "outputs": [
    {
     "name": "stdout",
     "output_type": "stream",
     "text": [
      "<__main__.Book object at 0x0000017E3BB20A60>\n"
     ]
    }
   ],
   "source": [
    "print(b)"
   ]
  },
  {
   "cell_type": "code",
   "execution_count": 25,
   "id": "3e30323f",
   "metadata": {},
   "outputs": [
    {
     "data": {
      "text/plain": [
       "'<__main__.Book object at 0x0000017E3BB20A60>'"
      ]
     },
     "execution_count": 25,
     "metadata": {},
     "output_type": "execute_result"
    }
   ],
   "source": [
    "str(b)"
   ]
  },
  {
   "cell_type": "code",
   "execution_count": 26,
   "id": "d80772be",
   "metadata": {},
   "outputs": [],
   "source": [
    " class Book():\n",
    "        def __init__(self,title,author,pages):\n",
    "            #the attribute = equal to instance\n",
    "            self.title = title\n",
    "            self.author = author\n",
    "            self.pages = pages\n",
    "        def __str__(self):\n",
    "            return f'{self.title} by {self.author}'\n",
    "        def __len__(self):\n",
    "            return self.pages\n",
    "        def __del__(self):\n",
    "            print('A book object has been deleted')"
   ]
  },
  {
   "cell_type": "code",
   "execution_count": 27,
   "id": "e387415c",
   "metadata": {},
   "outputs": [],
   "source": [
    "b = Book('Python!','Lazxy',200)"
   ]
  },
  {
   "cell_type": "code",
   "execution_count": 28,
   "id": "acec87a3",
   "metadata": {},
   "outputs": [
    {
     "name": "stdout",
     "output_type": "stream",
     "text": [
      "Python! by Lazxy\n"
     ]
    }
   ],
   "source": [
    "print(b) "
   ]
  },
  {
   "cell_type": "code",
   "execution_count": 29,
   "id": "e13f4b90",
   "metadata": {},
   "outputs": [
    {
     "data": {
      "text/plain": [
       "200"
      ]
     },
     "execution_count": 29,
     "metadata": {},
     "output_type": "execute_result"
    }
   ],
   "source": [
    "len(b)"
   ]
  },
  {
   "cell_type": "code",
   "execution_count": 30,
   "id": "4c03ba5b",
   "metadata": {},
   "outputs": [
    {
     "name": "stdout",
     "output_type": "stream",
     "text": [
      "A book object has been deleted\n"
     ]
    }
   ],
   "source": [
    "del(b)"
   ]
  },
  {
   "cell_type": "code",
   "execution_count": 31,
   "id": "17a35489",
   "metadata": {},
   "outputs": [],
   "source": [
    "class Simple():\n",
    "    def __init__(self,value):\n",
    "        self.value = value\n",
    "    def add_to_value(self,amount):\n",
    "            self.value = self.value+ amount "
   ]
  },
  {
   "cell_type": "code",
   "execution_count": 32,
   "id": "8a808701",
   "metadata": {},
   "outputs": [],
   "source": [
    " my_obj = Simple(300)"
   ]
  },
  {
   "cell_type": "code",
   "execution_count": 33,
   "id": "db5e7fa1",
   "metadata": {},
   "outputs": [
    {
     "data": {
      "text/plain": [
       "300"
      ]
     },
     "execution_count": 33,
     "metadata": {},
     "output_type": "execute_result"
    }
   ],
   "source": [
    " my_obj.value"
   ]
  },
  {
   "cell_type": "code",
   "execution_count": 34,
   "id": "959ea4c6",
   "metadata": {},
   "outputs": [],
   "source": [
    "my_obj.add_to_value(500)"
   ]
  },
  {
   "cell_type": "code",
   "execution_count": 35,
   "id": "7007bd42",
   "metadata": {},
   "outputs": [
    {
     "data": {
      "text/plain": [
       "800"
      ]
     },
     "execution_count": 35,
     "metadata": {},
     "output_type": "execute_result"
    }
   ],
   "source": [
    " my_obj.value"
   ]
  },
  {
   "cell_type": "code",
   "execution_count": 36,
   "id": "22d1d89a",
   "metadata": {},
   "outputs": [],
   "source": [
    " #Calling methods that affect attributes"
   ]
  },
  {
   "cell_type": "code",
   "execution_count": 37,
   "id": "17a07b98",
   "metadata": {},
   "outputs": [],
   "source": [
    " class Simple():\n",
    "        def __init__(self,value):\n",
    "            self.value = value\n",
    "        def add_to_value(self,amount):\n",
    "            # takes in the current value of self plus the amount\n",
    "            self.value = self.value + amount\n",
    "            print('We just added {} to your value '.format(amount)) "
   ]
  },
  {
   "cell_type": "code",
   "execution_count": 38,
   "id": "b3ee932d",
   "metadata": {},
   "outputs": [],
   "source": [
    "myobj = Simple(300)"
   ]
  },
  {
   "cell_type": "code",
   "execution_count": 39,
   "id": "729a2514",
   "metadata": {},
   "outputs": [
    {
     "data": {
      "text/plain": [
       "300"
      ]
     },
     "execution_count": 39,
     "metadata": {},
     "output_type": "execute_result"
    }
   ],
   "source": [
    "myobj.value "
   ]
  },
  {
   "cell_type": "code",
   "execution_count": 40,
   "id": "e880e559",
   "metadata": {},
   "outputs": [
    {
     "name": "stdout",
     "output_type": "stream",
     "text": [
      "We just added 500 to your value \n"
     ]
    }
   ],
   "source": [
    "myobj.add_to_value(500) "
   ]
  },
  {
   "cell_type": "code",
   "execution_count": 41,
   "id": "3c1404d8",
   "metadata": {},
   "outputs": [
    {
     "data": {
      "text/plain": [
       "800"
      ]
     },
     "execution_count": 41,
     "metadata": {},
     "output_type": "execute_result"
    }
   ],
   "source": [
    " myobj.value"
   ]
  },
  {
   "cell_type": "code",
   "execution_count": null,
   "id": "41e3ca2a",
   "metadata": {},
   "outputs": [],
   "source": []
  }
 ],
 "metadata": {
  "kernelspec": {
   "display_name": "Python 3 (ipykernel)",
   "language": "python",
   "name": "python3"
  },
  "language_info": {
   "codemirror_mode": {
    "name": "ipython",
    "version": 3
   },
   "file_extension": ".py",
   "mimetype": "text/x-python",
   "name": "python",
   "nbconvert_exporter": "python",
   "pygments_lexer": "ipython3",
   "version": "3.10.9"
  }
 },
 "nbformat": 4,
 "nbformat_minor": 5
}
