{
 "cells": [
  {
   "cell_type": "markdown",
   "id": "50825433",
   "metadata": {},
   "source": [
    "Low Difficulty\n",
    "Hello, World!\n",
    "\n"
   ]
  },
  {
   "cell_type": "code",
   "execution_count": 2,
   "id": "eafc8e42",
   "metadata": {},
   "outputs": [
    {
     "name": "stdout",
     "output_type": "stream",
     "text": [
      "Hello World!\n"
     ]
    }
   ],
   "source": [
    "print(\"Hello World!\")"
   ]
  },
  {
   "cell_type": "markdown",
   "id": "920b4670",
   "metadata": {},
   "source": [
    "Basic Arithmetic Operations\n",
    " Define variables\n"
   ]
  },
  {
   "cell_type": "code",
   "execution_count": 4,
   "id": "ad456380",
   "metadata": {},
   "outputs": [
    {
     "name": "stdout",
     "output_type": "stream",
     "text": [
      "Enter first number: 5\n",
      "Enter Second number:6\n",
      "Sum: 11\n",
      "Difference: -1\n",
      "Product: 30\n",
      "Quotient: 0.8333333333333334\n"
     ]
    }
   ],
   "source": [
    "num1=int(input(\"Enter first number: \"))\n",
    "num2=int(input(\"Enter Second number:\"))\n",
    "print(\"Sum:\", num1 + num2)\n",
    "print(\"Difference:\", num1 - num2)\n",
    "print(\"Product:\", num1 * num2)\n",
    "print(\"Quotient:\", num1 / num2)\n"
   ]
  },
  {
   "cell_type": "markdown",
   "id": "00e80bcd",
   "metadata": {},
   "source": [
    "String Concatenation\n",
    " Define variables\n"
   ]
  },
  {
   "cell_type": "code",
   "execution_count": 6,
   "id": "9192b09f",
   "metadata": {},
   "outputs": [
    {
     "name": "stdout",
     "output_type": "stream",
     "text": [
      "Enter first word: Hello\n",
      "Enter second word: World!!\n",
      "HelloWorld!!\n"
     ]
    }
   ],
   "source": [
    "Str1=input(\"Enter first word: \")\n",
    "Str2=input(\"Enter second word: \")\n",
    "Result=Str1+Str2\n",
    "print(Result)"
   ]
  },
  {
   "cell_type": "markdown",
   "id": "ff3d656d",
   "metadata": {},
   "source": [
    "List Creation and Manipulation"
   ]
  },
  {
   "cell_type": "code",
   "execution_count": 13,
   "id": "ccf3efd1",
   "metadata": {},
   "outputs": [
    {
     "name": "stdout",
     "output_type": "stream",
     "text": [
      "Original list: ['Tulips', 'Rose', 'Daisy']\n",
      "Updated list: ['Tulips', 'Rose', 'Daisy', 'Jasmine']\n",
      "flowers overall: ['Tulips', 'Daisy', 'Jasmine']\n"
     ]
    }
   ],
   "source": [
    "flowers=[\"Tulips\",\"Rose\",\"Daisy\"]\n",
    "print(\"Original list:\",flowers)\n",
    "flowers.append(\"Jasmine\")\n",
    "print(\"Updated list:\", flowers)\n",
    "flowers.pop(1)\n",
    "print(\"flowers overall:\",flowers)\n"
   ]
  },
  {
   "cell_type": "code",
   "execution_count": 24,
   "id": "806ddc24",
   "metadata": {},
   "outputs": [
    {
     "data": {
      "text/plain": [
       "'40'"
      ]
     },
     "execution_count": 24,
     "metadata": {},
     "output_type": "execute_result"
    }
   ],
   "source": [
    "flower_price={'Tulips':'30','Daisy':'40','Rose':'120'}\n",
    "flower_price['Daisy']"
   ]
  },
  {
   "cell_type": "code",
   "execution_count": 28,
   "id": "c73660a1",
   "metadata": {},
   "outputs": [],
   "source": [
    "F_bouquet={'k1':['Rose','books','Tulips']}\n",
    "Obsession=F_bouquet['k1']"
   ]
  },
  {
   "cell_type": "code",
   "execution_count": 29,
   "id": "d33ab3bd",
   "metadata": {},
   "outputs": [
    {
     "data": {
      "text/plain": [
       "['Rose', 'books', 'Tulips']"
      ]
     },
     "execution_count": 29,
     "metadata": {},
     "output_type": "execute_result"
    }
   ],
   "source": [
    "Obsession"
   ]
  },
  {
   "cell_type": "markdown",
   "id": "d7a7b553",
   "metadata": {},
   "source": [
    "Using Conditional Statements (if-else)"
   ]
  },
  {
   "cell_type": "code",
   "execution_count": 16,
   "id": "25bf4366",
   "metadata": {},
   "outputs": [
    {
     "name": "stdout",
     "output_type": "stream",
     "text": [
      "Enter Your Age: 19\n",
      "You're an adult\n"
     ]
    }
   ],
   "source": [
    "age=int(input(\"Enter Your Age: \"))\n",
    "if age>=18:\n",
    "    print(\"You're an adult\")\n",
    "else:\n",
    "    print(\"You're a minor\")"
   ]
  },
  {
   "cell_type": "code",
   "execution_count": 22,
   "id": "cc60c178",
   "metadata": {},
   "outputs": [
    {
     "name": "stdout",
     "output_type": "stream",
     "text": [
      "Enter Your Age: 18\n",
      "You're in teen\n"
     ]
    }
   ],
   "source": [
    "age=int(input(\"Enter Your Age: \"))\n",
    "if age<=15:\n",
    "    print(\"You're a minor\")\n",
    "elif age>= 15:\n",
    "    print(\"You're in teen\")\n",
    "elif age>=20:\n",
    "    print(\"You're younger\")\n",
    "else:\n",
    "    print(\"Don't know\")"
   ]
  },
  {
   "cell_type": "markdown",
   "id": "561e4c18",
   "metadata": {},
   "source": [
    "Medium Difficulty\n",
    "For Loop with Range\n"
   ]
  },
  {
   "cell_type": "code",
   "execution_count": 1,
   "id": "483f5d4a",
   "metadata": {},
   "outputs": [
    {
     "name": "stdout",
     "output_type": "stream",
     "text": [
      "1\n",
      "2\n",
      "3\n",
      "4\n",
      "5\n",
      "6\n",
      "7\n",
      "8\n",
      "9\n",
      "10\n"
     ]
    }
   ],
   "source": [
    "for i in range(1, 11):\n",
    "    print(i)\n"
   ]
  },
  {
   "cell_type": "code",
   "execution_count": 13,
   "id": "f3fd72b5",
   "metadata": {},
   "outputs": [
    {
     "name": "stdout",
     "output_type": "stream",
     "text": [
      "Enter the number: 9\n",
      "9 + 1 = 10\n",
      "9 + 2 = 11\n",
      "9 + 3 = 12\n",
      "9 + 4 = 13\n",
      "9 + 5 = 14\n",
      "9 + 6 = 15\n",
      "9 + 7 = 16\n",
      "9 + 8 = 17\n",
      "9 + 9 = 18\n",
      "9 + 10 = 19\n",
      "9 + 11 = 20\n",
      "9 + 12 = 21\n"
     ]
    }
   ],
   "source": [
    "num=int(input(\"Enter the number: \"))\n",
    "for i in range(1,13):\n",
    "    print(num,'+',i,'=',num+i)"
   ]
  },
  {
   "cell_type": "code",
   "execution_count": 2,
   "id": "33683bb0",
   "metadata": {},
   "outputs": [
    {
     "name": "stdout",
     "output_type": "stream",
     "text": [
      "Odd number 1\n",
      "2\n",
      "Odd number 3\n",
      "4\n",
      "Odd number 5\n",
      "6\n",
      "Odd number 7\n",
      "8\n",
      "Odd number 9\n",
      "10\n"
     ]
    }
   ],
   "source": [
    "mylist= [1,2,3,4,5,6,7,8,9,10]\n",
    "for num in mylist:\n",
    "    if num % 2== 0:\n",
    "        print (num)\n",
    "    else:\n",
    "        print(f'Odd number {num}') "
   ]
  },
  {
   "cell_type": "code",
   "execution_count": 8,
   "id": "dbb51d25",
   "metadata": {},
   "outputs": [
    {
     "name": "stdout",
     "output_type": "stream",
     "text": [
      "H\n",
      "e\n",
      "l\n",
      "l\n",
      "o\n",
      " \n",
      "W\n",
      "o\n",
      "r\n",
      "l\n",
      "d\n"
     ]
    }
   ],
   "source": [
    "my_string=\"Hello World\"\n",
    "for letter in my_string:\n",
    "    print(letter)\n"
   ]
  },
  {
   "cell_type": "code",
   "execution_count": 9,
   "id": "93eecd6b",
   "metadata": {},
   "outputs": [
    {
     "name": "stdout",
     "output_type": "stream",
     "text": [
      "Simplykind\n",
      "Simplykind\n",
      "Simplykind\n",
      "Simplykind\n",
      "Simplykind\n",
      "Simplykind\n",
      "Simplykind\n",
      "Simplykind\n"
     ]
    }
   ],
   "source": [
    "for _ in 'Happyily':\n",
    "    print('Simplykind')"
   ]
  },
  {
   "cell_type": "code",
   "execution_count": null,
   "id": "bc3c0494",
   "metadata": {},
   "outputs": [],
   "source": []
  }
 ],
 "metadata": {
  "kernelspec": {
   "display_name": "Python 3 (ipykernel)",
   "language": "python",
   "name": "python3"
  },
  "language_info": {
   "codemirror_mode": {
    "name": "ipython",
    "version": 3
   },
   "file_extension": ".py",
   "mimetype": "text/x-python",
   "name": "python",
   "nbconvert_exporter": "python",
   "pygments_lexer": "ipython3",
   "version": "3.10.9"
  }
 },
 "nbformat": 4,
 "nbformat_minor": 5
}
