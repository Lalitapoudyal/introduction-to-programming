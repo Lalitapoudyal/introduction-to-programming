{
 "cells": [
  {
   "cell_type": "markdown",
   "id": "18303716",
   "metadata": {},
   "source": [
    "Exercise 1: Shuffling a List\n",
    "Let's write a function shuffle_list that accepts a list and shuffles its elements. Here we'll use the shuffle function from the random module."
   ]
  },
  {
   "cell_type": "code",
   "execution_count": 1,
   "id": "13c5480c",
   "metadata": {},
   "outputs": [],
   "source": [
    "from random import shuffle\n",
    "\n",
    "def shuffle_list(mylist):\n",
    "    shuffle(mylist)\n",
    "    return mylist\n",
    "\n"
   ]
  },
  {
   "cell_type": "code",
   "execution_count": 5,
   "id": "308cca5b",
   "metadata": {},
   "outputs": [
    {
     "name": "stdout",
     "output_type": "stream",
     "text": [
      "[4, 5, 1, 3, 2]\n"
     ]
    }
   ],
   "source": [
    "print(shuffle_list([1,2,3,4,5]))"
   ]
  },
  {
   "cell_type": "markdown",
   "id": "7131bbbb",
   "metadata": {},
   "source": [
    "Exercise 2: Player's Guess\n",
    "We will create a function player_guess that asks the player to guess an index (0, 1, or 2). It will keep on asking until a valid index is provided."
   ]
  },
  {
   "cell_type": "code",
   "execution_count": 6,
   "id": "c1316161",
   "metadata": {},
   "outputs": [],
   "source": [
    "def player_guess():\n",
    "    guess = ''\n",
    "    while guess not in ['0','1','2']:\n",
    "        guess = input('Pick a number 0,1 or 2: ')\n",
    "    return int(guess)\n"
   ]
  },
  {
   "cell_type": "code",
   "execution_count": 7,
   "id": "02df2bd4",
   "metadata": {},
   "outputs": [
    {
     "name": "stdout",
     "output_type": "stream",
     "text": [
      "Pick a number 0,1 or 2: 2\n",
      "2\n"
     ]
    }
   ],
   "source": [
    "print(player_guess())"
   ]
  },
  {
   "cell_type": "markdown",
   "id": "7ee93371",
   "metadata": {},
   "source": [
    "Exercise 3: Check the Player's Guess\n",
    "Now, let's write a function check_guess that accepts a list and a guessed index. It checks if the guessed index contains the ball ('O') and prints appropriate messages.\n"
   ]
  },
  {
   "cell_type": "code",
   "execution_count": 8,
   "id": "0775f43c",
   "metadata": {},
   "outputs": [],
   "source": [
    "def check_guess(mylist, guess):\n",
    "    if mylist[guess] == 'O':\n",
    "        print('Correct!')\n",
    "    else:\n",
    "        print('Wrong guess')\n",
    "        print(mylist)\n"
   ]
  },
  {
   "cell_type": "code",
   "execution_count": 4,
   "id": "5b39c53e",
   "metadata": {},
   "outputs": [
    {
     "ename": "NameError",
     "evalue": "name 'check_guess' is not defined",
     "output_type": "error",
     "traceback": [
      "\u001b[1;31m---------------------------------------------------------------------------\u001b[0m",
      "\u001b[1;31mNameError\u001b[0m                                 Traceback (most recent call last)",
      "Cell \u001b[1;32mIn[4], line 1\u001b[0m\n\u001b[1;32m----> 1\u001b[0m \u001b[43mcheck_guess\u001b[49m(\u001b[38;5;124m'\u001b[39m\u001b[38;5;124m0\u001b[39m\u001b[38;5;124m'\u001b[39m,player_guess())\n",
      "\u001b[1;31mNameError\u001b[0m: name 'check_guess' is not defined"
     ]
    }
   ],
   "source": [
    "check_guess('0',player_guess())"
   ]
  },
  {
   "cell_type": "markdown",
   "id": "a6ed446d",
   "metadata": {},
   "source": [
    "Exercise 4: Putting It All Together"
   ]
  },
  {
   "cell_type": "code",
   "execution_count": 8,
   "id": "ab10d97f",
   "metadata": {},
   "outputs": [
    {
     "ename": "NameError",
     "evalue": "name 'shuffle_list' is not defined",
     "output_type": "error",
     "traceback": [
      "\u001b[1;31m---------------------------------------------------------------------------\u001b[0m",
      "\u001b[1;31mNameError\u001b[0m                                 Traceback (most recent call last)",
      "Cell \u001b[1;32mIn[8], line 4\u001b[0m\n\u001b[0;32m      2\u001b[0m mylist \u001b[38;5;241m=\u001b[39m [\u001b[38;5;124m'\u001b[39m\u001b[38;5;124m'\u001b[39m,\u001b[38;5;124m'\u001b[39m\u001b[38;5;124mO\u001b[39m\u001b[38;5;124m'\u001b[39m,\u001b[38;5;124m'\u001b[39m\u001b[38;5;124m'\u001b[39m]\n\u001b[0;32m      3\u001b[0m \u001b[38;5;66;03m# SHUFFLE LIST\u001b[39;00m\n\u001b[1;32m----> 4\u001b[0m mixedup_list \u001b[38;5;241m=\u001b[39m \u001b[43mshuffle_list\u001b[49m(mylist)\n\u001b[0;32m      5\u001b[0m \u001b[38;5;66;03m# USER GUESS\u001b[39;00m\n\u001b[0;32m      6\u001b[0m guess \u001b[38;5;241m=\u001b[39m player_guess()\n",
      "\u001b[1;31mNameError\u001b[0m: name 'shuffle_list' is not defined"
     ]
    }
   ],
   "source": [
    "# INITIAL LIST\n",
    "mylist = ['','O','']\n",
    "# SHUFFLE LIST\n",
    "mixedup_list = shuffle_list(mylist)\n",
    "# USER GUESS\n",
    "guess = player_guess()\n",
    "# CHECK GUESS\n",
    "check_guess(mixedup_list, guess)\n"
   ]
  },
  {
   "cell_type": "markdown",
   "id": "4182e07f",
   "metadata": {},
   "source": [
    "Functions exercises ,* args and **kwargs  included\n",
    "\n"
   ]
  },
  {
   "cell_type": "markdown",
   "id": "da01ef37",
   "metadata": {},
   "source": [
    "Exercise 1:\n",
    "Question: Write a function called myfunc that prints the string 'Hello World'"
   ]
  },
  {
   "cell_type": "code",
   "execution_count": 10,
   "id": "f7e74f2e",
   "metadata": {},
   "outputs": [],
   "source": [
    "def myfunc():\n",
    "    print('Hello World')\n"
   ]
  },
  {
   "cell_type": "code",
   "execution_count": 11,
   "id": "63dd47ba",
   "metadata": {},
   "outputs": [
    {
     "name": "stdout",
     "output_type": "stream",
     "text": [
      "Hello World\n"
     ]
    }
   ],
   "source": [
    "myfunc()"
   ]
  },
  {
   "cell_type": "markdown",
   "id": "8fc430df",
   "metadata": {},
   "source": [
    "Exercise 2:\n",
    "Question: Define a function called myfunc that takes in a name, and prints 'Hello Name'. Do not use f-strings."
   ]
  },
  {
   "cell_type": "code",
   "execution_count": 13,
   "id": "ed38959d",
   "metadata": {},
   "outputs": [],
   "source": [
    "def myfunc(name):\n",
    "    print('Hello {}'.format(name))\n"
   ]
  },
  {
   "cell_type": "code",
   "execution_count": null,
   "id": "9f129f5c",
   "metadata": {},
   "outputs": [],
   "source": []
  },
  {
   "cell_type": "markdown",
   "id": "ce04b578",
   "metadata": {},
   "source": [
    "Exercise 3:\n",
    "Question: Define a function called myfunc that takes in a Boolean value (True or False). If True, return 'Hello', and if False, return 'Goodbye'."
   ]
  },
  {
   "cell_type": "code",
   "execution_count": 17,
   "id": "582d5f6e",
   "metadata": {},
   "outputs": [],
   "source": [
    "def myfunc(a):\n",
    "    if a == True:\n",
    "        return 'Hello'\n",
    "    else:\n",
    "        return 'Goodbye'\n"
   ]
  },
  {
   "cell_type": "code",
   "execution_count": null,
   "id": "26b7cd51",
   "metadata": {},
   "outputs": [],
   "source": []
  },
  {
   "cell_type": "code",
   "execution_count": null,
   "id": "b1a90ce6",
   "metadata": {},
   "outputs": [],
   "source": []
  }
 ],
 "metadata": {
  "kernelspec": {
   "display_name": "Python 3 (ipykernel)",
   "language": "python",
   "name": "python3"
  },
  "language_info": {
   "codemirror_mode": {
    "name": "ipython",
    "version": 3
   },
   "file_extension": ".py",
   "mimetype": "text/x-python",
   "name": "python",
   "nbconvert_exporter": "python",
   "pygments_lexer": "ipython3",
   "version": "3.10.9"
  }
 },
 "nbformat": 4,
 "nbformat_minor": 5
}
