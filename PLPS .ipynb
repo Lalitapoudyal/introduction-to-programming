{
 "cells": [
  {
   "cell_type": "markdown",
   "id": "23b4f341",
   "metadata": {},
   "source": [
    "Write three python functions gor given problems:\n",
    "    printing the pattern"
   ]
  },
  {
   "cell_type": "code",
   "execution_count": 25,
   "id": "633382ed",
   "metadata": {},
   "outputs": [
    {
     "name": "stdout",
     "output_type": "stream",
     "text": [
      "* \n",
      "* * \n",
      "* * * \n",
      "* * * * \n",
      "* * * * * \n"
     ]
    }
   ],
   "source": [
    "def right_angle_pattern(rows):\n",
    "    for i in range(1, rows + 1):\n",
    "        for j in range(i):\n",
    "            print(\"*\", end=\" \")\n",
    "        print()\n",
    "right_angle_pattern(5)\n"
   ]
  },
  {
   "cell_type": "markdown",
   "id": "61bfbb9a",
   "metadata": {},
   "source": [
    " To check whether the Number is Armstrong Number or not."
   ]
  },
  {
   "cell_type": "code",
   "execution_count": null,
   "id": "d3fbd791",
   "metadata": {},
   "outputs": [],
   "source": [
    "def is_armstrong_number(number):\n",
    "    # Convert the number to a string to find the number of digits\n",
    "    num_str = str(number)\n",
    "    num_digits = len(num_str)\n",
    "\n",
    "    # Calculate the sum of digits each raised to the power of the number of digits\n",
    "    armstrong_sum = sum(int(digit) ** num_digits for digit in num_str)\n",
    "\n",
    "    # Check if the sum is equal to the original number\n",
    "    return armstrong_sum == number\n"
   ]
  },
  {
   "cell_type": "code",
   "execution_count": 61,
   "id": "a6efcdac",
   "metadata": {},
   "outputs": [
    {
     "name": "stdout",
     "output_type": "stream",
     "text": [
      "Enter any number370\n",
      "370 is an Armstrong number.\n"
     ]
    }
   ],
   "source": [
    "num =int(input(\"Enter any number\"))\n",
    "if is_armstrong_number(num):\n",
    "    print(f\"{num} is an Armstrong number.\")\n",
    "else:\n",
    "    print(f\"{num} is not an Armstrong number.\")\n"
   ]
  },
  {
   "cell_type": "markdown",
   "id": "f9f95376",
   "metadata": {},
   "source": [
    "To Print all the steps required to check Leap Year after each step  of execution"
   ]
  },
  {
   "cell_type": "code",
   "execution_count": 32,
   "id": "62e8dcd3",
   "metadata": {},
   "outputs": [
    {
     "name": "stdout",
     "output_type": "stream",
     "text": [
      "Enter year to check2024\n",
      "Step 1: Check if the year is divisible by 4.\n",
      "Result: True\n",
      "Step 2: Check if the year is divisible by 100.\n",
      "Result: False\n",
      "Step 3: Check if the year is divisible by 400.\n",
      "Result: False\n",
      "Step 4: Determine if it's a leap year based on the conditions.\n",
      "Final Result: True\n",
      "The year 2024 is a leap year: True\n"
     ]
    }
   ],
   "source": [
    "def check_leap_year(year):\n",
    "    print(\"Step 1: Check if the year is divisible by 4.\")\n",
    "    divisible_by_4 = year % 4 == 0\n",
    "    print(f\"Result: {divisible_by_4}\")\n",
    "\n",
    "    print(\"Step 2: Check if the year is divisible by 100.\")\n",
    "    divisible_by_100 = year % 100 == 0\n",
    "    print(f\"Result: {divisible_by_100}\")\n",
    "\n",
    "    print(\"Step 3: Check if the year is divisible by 400.\")\n",
    "    divisible_by_400 = year % 400 == 0\n",
    "    print(f\"Result: {divisible_by_400}\")\n",
    "\n",
    "    print(\"Step 4: Determine if it's a leap year based on the conditions.\")\n",
    "    is_leap_year = divisible_by_4 and (not divisible_by_100 or divisible_by_400)\n",
    "    print(f\"Final Result: {is_leap_year}\")\n",
    "\n",
    "    return is_leap_year\n",
    "\n",
    "# Example: Checking if year 2024 is a leap year\n",
    "year_to_check = int(input(\"Enter year to check\"))\n",
    "result = check_leap_year(year_to_check)\n",
    "print(f\"The year {year_to_check} is a leap year: {result}\")\n"
   ]
  },
  {
   "cell_type": "code",
   "execution_count": 33,
   "id": "06f4ca6a",
   "metadata": {},
   "outputs": [
    {
     "name": "stdout",
     "output_type": "stream",
     "text": [
      "Enter the number: 2004\n",
      "Given Year is a leap Year!\n"
     ]
    }
   ],
   "source": [
    "def CheckLeap(Year):  \n",
    "  # Checking if the given year is leap year  \n",
    "  if((Year % 4 == 0)):\n",
    "        \n",
    "    print(\"Given Year is a leap Year!\");  \n",
    "  # Else it is not a leap year  \n",
    "  else:  \n",
    "    print (\"Given Year is not a leap Year!!\")  \n",
    "# Taking an input year from user  \n",
    "Year = int(input(\"Enter the number: \"))   \n",
    "CheckLeap(Year) "
   ]
  },
  {
   "cell_type": "code",
   "execution_count": null,
   "id": "0b0d5e4b",
   "metadata": {},
   "outputs": [],
   "source": []
  },
  {
   "cell_type": "code",
   "execution_count": null,
   "id": "7a985b37",
   "metadata": {},
   "outputs": [],
   "source": [
    "\n"
   ]
  },
  {
   "cell_type": "code",
   "execution_count": null,
   "id": "00063d0e",
   "metadata": {},
   "outputs": [],
   "source": []
  },
  {
   "cell_type": "code",
   "execution_count": null,
   "id": "aa7f92ea",
   "metadata": {},
   "outputs": [],
   "source": []
  }
 ],
 "metadata": {
  "kernelspec": {
   "display_name": "Python 3 (ipykernel)",
   "language": "python",
   "name": "python3"
  },
  "language_info": {
   "codemirror_mode": {
    "name": "ipython",
    "version": 3
   },
   "file_extension": ".py",
   "mimetype": "text/x-python",
   "name": "python",
   "nbconvert_exporter": "python",
   "pygments_lexer": "ipython3",
   "version": "3.10.9"
  }
 },
 "nbformat": 4,
 "nbformat_minor": 5
}
