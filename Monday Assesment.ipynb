{
 "cells": [
  {
   "cell_type": "markdown",
   "id": "efaf0730",
   "metadata": {},
   "source": [
    "Question 1: File Reading and Writing"
   ]
  },
  {
   "cell_type": "markdown",
   "id": "44c8a0d8",
   "metadata": {},
   "source": [
    "Your task is to create a Python program that reads a text file and writes its content to a new file but in reverse order.\n",
    "\n",
    "Requirements:\n",
    "\n",
    "The input file will contain multiple lines of text.\n",
    "Your program should read from an input file named input.txt.\n",
    "It should write the content to an output file named output.txt.\n",
    "The output file should contain the same lines as the input file but in reverse order. The last line of the input file should be the first line of the output file, and so on."
   ]
  },
  {
   "cell_type": "code",
   "execution_count": 81,
   "id": "593a866e",
   "metadata": {},
   "outputs": [
    {
     "name": "stdout",
     "output_type": "stream",
     "text": [
      "File successfully written in reverse order.\n"
     ]
    }
   ],
   "source": [
    "def reverse_file(input_file, output_file):\n",
    "    with open(input_file, 'r') as file:\n",
    "        lines = file.readlines()\n",
    "\n",
    "    reversed_lines = reversed(lines)\n",
    "\n",
    "    with open(output_file, 'w') as file:\n",
    "        for line in reversed_lines:\n",
    "            file.write('lines')\n",
    "    \n",
    "\n",
    "    print(\"File successfully written in reverse order.\")\n",
    "\n",
    "\n",
    "# Example usage:\n",
    "reverse_file(\"input.txt\", \"output.txt\")\n"
   ]
  },
  {
   "cell_type": "code",
   "execution_count": 83,
   "id": "84ceaea7",
   "metadata": {},
   "outputs": [
    {
     "name": "stdout",
     "output_type": "stream",
     "text": [
      "Enter File Name: filename\n"
     ]
    },
    {
     "ename": "FileNotFoundError",
     "evalue": "[Errno 2] No such file or directory: 'filename'",
     "output_type": "error",
     "traceback": [
      "\u001b[1;31m---------------------------------------------------------------------------\u001b[0m",
      "\u001b[1;31mFileNotFoundError\u001b[0m                         Traceback (most recent call last)",
      "Cell \u001b[1;32mIn[83], line 3\u001b[0m\n\u001b[0;32m      1\u001b[0m fileName \u001b[38;5;241m=\u001b[39m \u001b[38;5;28minput\u001b[39m((\u001b[38;5;124m\"\u001b[39m\u001b[38;5;124mEnter File Name: \u001b[39m\u001b[38;5;124m\"\u001b[39m))\n\u001b[1;32m----> 3\u001b[0m file \u001b[38;5;241m=\u001b[39m \u001b[38;5;28;43mopen\u001b[39;49m\u001b[43m(\u001b[49m\u001b[43mfileName\u001b[49m\u001b[43m,\u001b[49m\u001b[43m \u001b[49m\u001b[38;5;124;43m\"\u001b[39;49m\u001b[38;5;124;43mr\u001b[39;49m\u001b[38;5;124;43m\"\u001b[39;49m\u001b[43m)\u001b[49m\n\u001b[0;32m      4\u001b[0m fileContent \u001b[38;5;241m=\u001b[39m \u001b[38;5;124m\"\u001b[39m\u001b[38;5;124m\"\u001b[39m\n\u001b[0;32m      5\u001b[0m \u001b[38;5;28;01mfor\u001b[39;00m content \u001b[38;5;129;01min\u001b[39;00m file:\n",
      "File \u001b[1;32m~\\anaconda3\\lib\\site-packages\\IPython\\core\\interactiveshell.py:282\u001b[0m, in \u001b[0;36m_modified_open\u001b[1;34m(file, *args, **kwargs)\u001b[0m\n\u001b[0;32m    275\u001b[0m \u001b[38;5;28;01mif\u001b[39;00m file \u001b[38;5;129;01min\u001b[39;00m {\u001b[38;5;241m0\u001b[39m, \u001b[38;5;241m1\u001b[39m, \u001b[38;5;241m2\u001b[39m}:\n\u001b[0;32m    276\u001b[0m     \u001b[38;5;28;01mraise\u001b[39;00m \u001b[38;5;167;01mValueError\u001b[39;00m(\n\u001b[0;32m    277\u001b[0m         \u001b[38;5;124mf\u001b[39m\u001b[38;5;124m\"\u001b[39m\u001b[38;5;124mIPython won\u001b[39m\u001b[38;5;124m'\u001b[39m\u001b[38;5;124mt let you open fd=\u001b[39m\u001b[38;5;132;01m{\u001b[39;00mfile\u001b[38;5;132;01m}\u001b[39;00m\u001b[38;5;124m by default \u001b[39m\u001b[38;5;124m\"\u001b[39m\n\u001b[0;32m    278\u001b[0m         \u001b[38;5;124m\"\u001b[39m\u001b[38;5;124mas it is likely to crash IPython. If you know what you are doing, \u001b[39m\u001b[38;5;124m\"\u001b[39m\n\u001b[0;32m    279\u001b[0m         \u001b[38;5;124m\"\u001b[39m\u001b[38;5;124myou can use builtins\u001b[39m\u001b[38;5;124m'\u001b[39m\u001b[38;5;124m open.\u001b[39m\u001b[38;5;124m\"\u001b[39m\n\u001b[0;32m    280\u001b[0m     )\n\u001b[1;32m--> 282\u001b[0m \u001b[38;5;28;01mreturn\u001b[39;00m io_open(file, \u001b[38;5;241m*\u001b[39margs, \u001b[38;5;241m*\u001b[39m\u001b[38;5;241m*\u001b[39mkwargs)\n",
      "\u001b[1;31mFileNotFoundError\u001b[0m: [Errno 2] No such file or directory: 'filename'"
     ]
    }
   ],
   "source": [
    "fileName = input((\"Enter File Name: \"))\n",
    "\n",
    "file = open(fileName, \"r\")\n",
    "fileContent = \"\"\n",
    "for content in file:\n",
    "    fileContent = fileContent+content\n",
    "\n",
    "fileContent = fileContent[::-1]\n",
    "print(fileContent)"
   ]
  },
  {
   "cell_type": "code",
   "execution_count": 69,
   "id": "c33befa4",
   "metadata": {},
   "outputs": [],
   "source": [
    "file=open('input.txt', 'w')\n",
    "file.write('Write a Python program using Object-Oriented Programming principles.')\n",
    "file.close()        "
   ]
  },
  {
   "cell_type": "code",
   "execution_count": 70,
   "id": "34d4242d",
   "metadata": {},
   "outputs": [],
   "source": [
    "file=open('input.txt','r')\n",
    "contents=file.read()"
   ]
  },
  {
   "cell_type": "code",
   "execution_count": 71,
   "id": "bf9ff670",
   "metadata": {},
   "outputs": [
    {
     "name": "stdout",
     "output_type": "stream",
     "text": [
      "['Write', 'a', 'Python', 'program', 'using', 'Object-Oriented', 'Programming', 'principles.']\n"
     ]
    }
   ],
   "source": [
    "myStr= contents\n",
    "my_list=myStr.split()\n",
    "print(my_list)"
   ]
  },
  {
   "cell_type": "code",
   "execution_count": 72,
   "id": "3b6f1902",
   "metadata": {},
   "outputs": [
    {
     "name": "stdout",
     "output_type": "stream",
     "text": [
      "['principles.', 'Programming', 'Object-Oriented', 'using', 'program', 'Python', 'a', 'Write']\n"
     ]
    }
   ],
   "source": [
    "main_list=my_list[::-1]\n",
    "print(main_list)\n",
    "file.close()"
   ]
  },
  {
   "cell_type": "code",
   "execution_count": 73,
   "id": "7c0cef81",
   "metadata": {},
   "outputs": [
    {
     "name": "stdout",
     "output_type": "stream",
     "text": [
      "principles. Programming Object-Oriented using program Python a Write\n"
     ]
    }
   ],
   "source": [
    "my_list= my_list[::-1]\n",
    "my_string= ' '.join(my_list)\n",
    "print(my_string)"
   ]
  },
  {
   "cell_type": "markdown",
   "id": "73440c1b",
   "metadata": {},
   "source": [
    "Question 2: Object-Oriented Programming - 5 Marks\n",
    "\n",
    "Write a Python program using Object-Oriented Programming principles.\n",
    "\n",
    "Your program should include a class named Circle. The Circle class should have:\n",
    "\n",
    "An _init_ method that accepts the radius of the circle (default to 1 if not provided).\n",
    "A method area that calculates and returns the area of the circle.\n",
    "A method circumference that calculates and returns the circumference of the circle.\n",
    "You should also include a main function that creates an instance of the Circle class and demonstrates the functionality of its methods."
   ]
  },
  {
   "cell_type": "code",
   "execution_count": 76,
   "id": "452c4c2f",
   "metadata": {},
   "outputs": [
    {
     "name": "stdout",
     "output_type": "stream",
     "text": [
      "Area of the circle: 50.26548245743669\n",
      "Circumference of the circle: 25.132741228718345\n"
     ]
    }
   ],
   "source": [
    "import math\n",
    "\n",
    "class Circle:\n",
    "    def __init__(self, radius=1):\n",
    "        self.radius = radius\n",
    "\n",
    "    def area(self):\n",
    "        return math.pi * self.radius**2\n",
    "\n",
    "    def circumference(self):\n",
    "        return 2 * math.pi * self.radius\n",
    "\n",
    "\n",
    "def main():\n",
    "    circle = Circle(4)\n",
    "\n",
    "    # Calculate and print the area of the circle\n",
    "    circle_area = circle.area()\n",
    "    print(\"Area of the circle:\", circle_area)\n",
    "\n",
    "    # Calculate and print the circumference of the circle\n",
    "    circle_circumference = circle.circumference()\n",
    "    print(\"Circumference of the circle:\", circle_circumference)\n",
    "\n",
    "\n",
    "# Execute the main function\n",
    "if __name__ == \"__main__\":\n",
    "    main()\n"
   ]
  },
  {
   "cell_type": "code",
   "execution_count": null,
   "id": "308718f9",
   "metadata": {},
   "outputs": [],
   "source": []
  }
 ],
 "metadata": {
  "kernelspec": {
   "display_name": "Python 3 (ipykernel)",
   "language": "python",
   "name": "python3"
  },
  "language_info": {
   "codemirror_mode": {
    "name": "ipython",
    "version": 3
   },
   "file_extension": ".py",
   "mimetype": "text/x-python",
   "name": "python",
   "nbconvert_exporter": "python",
   "pygments_lexer": "ipython3",
   "version": "3.10.9"
  }
 },
 "nbformat": 4,
 "nbformat_minor": 5
}
