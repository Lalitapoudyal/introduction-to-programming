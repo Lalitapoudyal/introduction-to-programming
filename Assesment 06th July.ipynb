{
 "cells": [
  {
   "cell_type": "markdown",
   "id": "ddb8f0fb",
   "metadata": {},
   "source": [
    "LINEAR SEARCH"
   ]
  },
  {
   "cell_type": "markdown",
   "id": "4b5f3b6a",
   "metadata": {},
   "source": [
    "The linear_search function takes two arguments: an array (arr) and a target element (target).The function iterates through each index of the array using a for loop and the range(len(arr)) construct.Within the loop, it checks if the element at the current index (i) is equal to the target element.If a match is found, the function immediately returns the index (i) where the target element is found.If the loop completes without finding a match, the function returns -1 to indicate that the target element is not found in the array.In the example usage, an array (numbers) and a target element (target_number) are defined.The linear_search function is called with the array and the target element. The result is stored in the result variable.If the result is not -1, it means the target element is found in the array. The code prints a message indicating the index at which the element is found.If the result is -1, it means the target element is not found in the array. The code prints a message indicating that the element was not found."
   ]
  },
  {
   "cell_type": "code",
   "execution_count": 36,
   "id": "f3490b7f",
   "metadata": {},
   "outputs": [
    {
     "name": "stdout",
     "output_type": "stream",
     "text": [
      "Enter The target num:9\n",
      "The target number 9 is found at index 4.\n"
     ]
    }
   ],
   "source": [
    "def linear_search(arr, target):\n",
    "    for i in range(len(arr)):\n",
    "        if arr[i] == target:\n",
    "            return i  # Return the index where the target is found\n",
    "    return -1  # Return -1 if the target is not found\n",
    "\n",
    "# Test the linear search function\n",
    "numbers = [4, 2, 7, 1, 9, 6, 5]\n",
    "target_number = int(input(\"Enter The target num:\"))\n",
    "\n",
    "\n",
    "\n",
    "result = linear_search(numbers, target_number)\n",
    "\n",
    "if result != -1:\n",
    "    print(f\"The target number {target_number} is found at index {result}.\")\n",
    "else:\n",
    "    print(f\"The target number {target_number} is not found.\")"
   ]
  },
  {
   "cell_type": "markdown",
   "id": "498f35ff",
   "metadata": {},
   "source": [
    "BINARY SEARCH"
   ]
  },
  {
   "cell_type": "markdown",
   "id": "cf6b0878",
   "metadata": {},
   "source": [
    "Define function binary_search with arguments: the array (arr), the target element (target), and the lower and upper bounds (low and high) of the search space within the array. These bounds are initially set to 0 and the length of the array minus 1, respectively.Inside the function, the low and high parameters are re-initialized to 0 and len(arr) - 1 respectively. After that The while loop runs as long as the low pointer is less than or equal to the high pointer. If the pointers cross each other, it means the target element is not present in the array.Within the loop, the middle index (mid) is calculated by finding the average of low and high using integer division (//).The code checks if the element at the mid index is equal to the target element. If it is, the function returns the mid index, knowing the target is found.If the element at the mid index is less than the target element, it means the target can only exist in the right half of the search space. Therefore, the low pointer is updated to mid + 1 to search in the right half.If the element at the mid index is greater than the target element, it means the target can only exist in the left half of the search space. Therefore, the high pointer is updated to mid - 1 to search in the left half.If the target element is not found after the while loop terminates, the function returns -1 to indicate that the element was not found in the array.In the program, the binary_search function is called with an  array, target element, and initial lower and upper bounds. The result is stored in the result variable.If the result is not -1, it means the target element is found in the array. The code prints a message indicating the index at which the element is found.If the result is -1, it means the target element is not found in the array. The code prints a message indicating that the element was not found."
   ]
  },
  {
   "cell_type": "code",
   "execution_count": 37,
   "id": "458f75b7",
   "metadata": {},
   "outputs": [
    {
     "name": "stdout",
     "output_type": "stream",
     "text": [
      "Enter the number:4\n",
      "Element 4 is present at index 1\n"
     ]
    }
   ],
   "source": [
    "def binary_search(arr,target,low,high):\n",
    "    low, high = 0, len(arr) - 1\n",
    "    while low <= high:\n",
    "        mid = (low + high) // 2\n",
    "        if arr[mid] == target:\n",
    "            return mid\n",
    "        elif arr[mid] < target:\n",
    "            low = mid + 1\n",
    "        else:\n",
    "            high = mid - 1\n",
    "    return -1\n",
    "array = [3, 4, 5, 6, 7, 8, 9]\n",
    "target=int(input(\"Enter the number:\"))\n",
    "\n",
    "result = binary_search(arr, target, 0, len(array)-1)\n",
    "\n",
    "if result != -1:\n",
    "    print(f\"Element {target} is present at index \" + str(result))\n",
    "else:\n",
    "    print(\"Not found\")"
   ]
  },
  {
   "cell_type": "markdown",
   "id": "e500e879",
   "metadata": {},
   "source": [
    "#MERGE SORT"
   ]
  },
  {
   "cell_type": "markdown",
   "id": "d653b43e",
   "metadata": {},
   "source": [
    "Define the merge_sort function that takes an array (arr) as input and applies the Merge Sort algorithm, for the recursion the length of the array is less than or equal to 1.If the array has more than one element, the function proceeds with the sorting process.The middle index (mid) of the array is calculated using integer division (//).The merge_sort function is called recursively on the left half of the array (arr[:mid]), which sorts the left half and returns a sorted array.Similarly, the merge_sort function is called recursively on the right half of the array (arr[mid:]), which sorts the right half and returns a sorted array.The sorted left and right halves are then passed to the merge function for merging.The merge function takes two sorted arrays (left and right) and merges them into a single sorted array.The function initializes an empty list merged to store the merged array.It iteratively compares the elements at the beginning of the left and right arrays. The smaller element is appended to the merged array, and it is removed from its respective array using the pop(0) method.The process continues until either the left or right array becomes empty.If there are any remaining elements in either the left or right array, they are appended to the merged array using the extend method.Finally, the merged array, which represents the sorted combination of the left and right arrays, is returned.\n",
    "\n",
    "In the the program, an array (array) is defined, and the merge_sort function is called on it. The sorted array is then printed"
   ]
  },
  {
   "cell_type": "code",
   "execution_count": 63,
   "id": "4a3ae71e",
   "metadata": {},
   "outputs": [
    {
     "name": "stdout",
     "output_type": "stream",
     "text": [
      "<function merge_sort at 0x000002AC0D326320>\n"
     ]
    }
   ],
   "source": [
    "def merge_sort(arr):\n",
    "    if len(arr) <= 1:\n",
    "        return arr\n",
    "    mid = len(arr) // 2\n",
    "    left_half = merge_sort(arr[:mid])\n",
    "    right_half = merge_sort(arr[mid:])\n",
    "    return merge(left_half, right_half)\n",
    "\n",
    "def merge(left, right):\n",
    "    merged = []\n",
    "    while left and right:\n",
    "        if left[0] <= right[0]:\n",
    "            merged.append(left.pop(0))\n",
    "        else:\n",
    "            merged.append(right.pop(0))\n",
    "    merged.extend(left or right)\n",
    "    return merged\n",
    "\n",
    "array = [9, 2, 8, 1, 6, 4, ]\n",
    "print(merge_sort)\n"
   ]
  },
  {
   "cell_type": "code",
   "execution_count": 62,
   "id": "e88923bc",
   "metadata": {},
   "outputs": [
    {
     "data": {
      "text/plain": [
       "[1, 2, 4, 6, 8, 9]"
      ]
     },
     "execution_count": 62,
     "metadata": {},
     "output_type": "execute_result"
    }
   ],
   "source": [
    "merge_sort(arr)"
   ]
  },
  {
   "cell_type": "markdown",
   "id": "dc3b0873",
   "metadata": {},
   "source": [
    "QUICK SORT"
   ]
  },
  {
   "cell_type": "markdown",
   "id": "e9dbdd3a",
   "metadata": {},
   "source": [
    " Define the quick_sort function that takes an array (arr) as input and recursively applies the Quick Sort algorithm,then for the recursion the length of the array is less than or equal to 1. In such cases, the array is already considered sorted, and it is returned as is. In the pivot is selected as the element at the middle index of the array (len(arr) // 2).The array is then partitioned into three sub-arrays: left, equal, and right. The left array contains elements smaller than the pivot, the equal array contains elements equal to the pivot, and the right array contains elements greater than the pivot. Then we use a function to sort an array using quick_sort and print a sorted array.\n",
    " "
   ]
  },
  {
   "cell_type": "code",
   "execution_count": 43,
   "id": "7d36770b",
   "metadata": {},
   "outputs": [
    {
     "name": "stdout",
     "output_type": "stream",
     "text": [
      "[1, 2, 3, 4, 5, 6, 7, 8, 9]\n"
     ]
    }
   ],
   "source": [
    "def quick_sort(arr):\n",
    "    if len(arr) <= 1:\n",
    "        return arr\n",
    "\n",
    "    pivot = arr[len(arr) // 2]\n",
    "    left = [x for x in arr if x < pivot]\n",
    "    equal = [x for x in arr if x == pivot]\n",
    "    right = [x for x in arr if x > pivot]\n",
    "\n",
    "    return quick_sort(left) + equal + quick_sort(right)\n",
    "\n",
    "\n",
    "array = [9, 5, 2, 8, 3, 1, 6, 4, 7]\n",
    "sorted_array = quick_sort(array)\n",
    "print(sorted_array)\n"
   ]
  },
  {
   "cell_type": "code",
   "execution_count": null,
   "id": "f6da3de1",
   "metadata": {},
   "outputs": [],
   "source": []
  }
 ],
 "metadata": {
  "kernelspec": {
   "display_name": "Python 3 (ipykernel)",
   "language": "python",
   "name": "python3"
  },
  "language_info": {
   "codemirror_mode": {
    "name": "ipython",
    "version": 3
   },
   "file_extension": ".py",
   "mimetype": "text/x-python",
   "name": "python",
   "nbconvert_exporter": "python",
   "pygments_lexer": "ipython3",
   "version": "3.10.9"
  }
 },
 "nbformat": 4,
 "nbformat_minor": 5
}
