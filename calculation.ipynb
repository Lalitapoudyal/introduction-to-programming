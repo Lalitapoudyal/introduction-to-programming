{
 "cells": [
  {
   "cell_type": "code",
   "execution_count": 4,
   "id": "8239503b",
   "metadata": {},
   "outputs": [
    {
     "name": "stdout",
     "output_type": "stream",
     "text": [
      "30\n",
      "10\n",
      "200\n",
      "0.5\n"
     ]
    }
   ],
   "source": [
    "a=10\n",
    "b=20\n",
    "addition=a+b\n",
    "sub=b-a\n",
    "multi=a*b\n",
    "divid=a/b\n",
    "print(addition)\n",
    "print(sub)\n",
    "print(multi)\n",
    "print(divid)"
   ]
  },
  {
   "cell_type": "code",
   "execution_count": 7,
   "id": "e322e8a8",
   "metadata": {},
   "outputs": [
    {
     "name": "stdout",
     "output_type": "stream",
     "text": [
      "200\n"
     ]
    }
   ],
   "source": [
    "width=10\n",
    "height=20\n",
    "area=width*height\n",
    "print(area)"
   ]
  },
  {
   "cell_type": "code",
   "execution_count": 8,
   "id": "ca792042",
   "metadata": {},
   "outputs": [],
   "source": [
    "my_string =\"lalita chhetri\""
   ]
  },
  {
   "cell_type": "code",
   "execution_count": 10,
   "id": "4612058e",
   "metadata": {},
   "outputs": [
    {
     "data": {
      "text/plain": [
       "14"
      ]
     },
     "execution_count": 10,
     "metadata": {},
     "output_type": "execute_result"
    }
   ],
   "source": [
    "len(my_string)"
   ]
  },
  {
   "cell_type": "code",
   "execution_count": null,
   "id": "b90226e5",
   "metadata": {},
   "outputs": [],
   "source": []
  }
 ],
 "metadata": {
  "kernelspec": {
   "display_name": "Python 3 (ipykernel)",
   "language": "python",
   "name": "python3"
  },
  "language_info": {
   "codemirror_mode": {
    "name": "ipython",
    "version": 3
   },
   "file_extension": ".py",
   "mimetype": "text/x-python",
   "name": "python",
   "nbconvert_exporter": "python",
   "pygments_lexer": "ipython3",
   "version": "3.10.9"
  }
 },
 "nbformat": 4,
 "nbformat_minor": 5
}
