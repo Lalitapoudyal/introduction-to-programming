{
 "cells": [
  {
   "cell_type": "code",
   "execution_count": 1,
   "id": "2cac5242",
   "metadata": {},
   "outputs": [],
   "source": [
    "#lists"
   ]
  },
  {
   "cell_type": "code",
   "execution_count": 2,
   "id": "e84503ce",
   "metadata": {},
   "outputs": [],
   "source": [
    "my_list=[1,2,3,4,5]"
   ]
  },
  {
   "cell_type": "code",
   "execution_count": 3,
   "id": "349211c2",
   "metadata": {},
   "outputs": [
    {
     "data": {
      "text/plain": [
       "[1, 2, 3, 4, 5]"
      ]
     },
     "execution_count": 3,
     "metadata": {},
     "output_type": "execute_result"
    }
   ],
   "source": [
    "my_list"
   ]
  },
  {
   "cell_type": "code",
   "execution_count": 12,
   "id": "88809c02",
   "metadata": {},
   "outputs": [],
   "source": [
    "mystrings=\"HELLO\""
   ]
  },
  {
   "cell_type": "code",
   "execution_count": 15,
   "id": "c9edb61c",
   "metadata": {},
   "outputs": [
    {
     "data": {
      "text/plain": [
       "['H', 'LLO']"
      ]
     },
     "execution_count": 15,
     "metadata": {},
     "output_type": "execute_result"
    }
   ],
   "source": [
    "mystrings.split('E')"
   ]
  },
  {
   "cell_type": "code",
   "execution_count": 16,
   "id": "2ecf87c9",
   "metadata": {},
   "outputs": [
    {
     "data": {
      "text/plain": [
       "[1, 2, 3, 4, 5]"
      ]
     },
     "execution_count": 16,
     "metadata": {},
     "output_type": "execute_result"
    }
   ],
   "source": [
    "my_list"
   ]
  },
  {
   "cell_type": "code",
   "execution_count": 17,
   "id": "bfca00c9",
   "metadata": {},
   "outputs": [],
   "source": [
    "my_list =[1,'string',23.2]"
   ]
  },
  {
   "cell_type": "code",
   "execution_count": 18,
   "id": "527aa4a1",
   "metadata": {},
   "outputs": [
    {
     "data": {
      "text/plain": [
       "[1, 'string', 23.2]"
      ]
     },
     "execution_count": 18,
     "metadata": {},
     "output_type": "execute_result"
    }
   ],
   "source": [
    "my_list"
   ]
  },
  {
   "cell_type": "code",
   "execution_count": 21,
   "id": "303d2c69",
   "metadata": {},
   "outputs": [
    {
     "data": {
      "text/plain": [
       "3"
      ]
     },
     "execution_count": 21,
     "metadata": {},
     "output_type": "execute_result"
    }
   ],
   "source": [
    "len(my_list)"
   ]
  },
  {
   "cell_type": "code",
   "execution_count": 23,
   "id": "7026a433",
   "metadata": {},
   "outputs": [
    {
     "data": {
      "text/plain": [
       "'string'"
      ]
     },
     "execution_count": 23,
     "metadata": {},
     "output_type": "execute_result"
    }
   ],
   "source": [
    "my_list[1] #indexing"
   ]
  },
  {
   "cell_type": "code",
   "execution_count": 25,
   "id": "7a61abd6",
   "metadata": {},
   "outputs": [
    {
     "data": {
      "text/plain": [
       "['string', 23.2]"
      ]
     },
     "execution_count": 25,
     "metadata": {},
     "output_type": "execute_result"
    }
   ],
   "source": [
    "my_list[1:]"
   ]
  },
  {
   "cell_type": "code",
   "execution_count": 27,
   "id": "b7ace9c7",
   "metadata": {},
   "outputs": [
    {
     "data": {
      "text/plain": [
       "[1, 'string']"
      ]
     },
     "execution_count": 27,
     "metadata": {},
     "output_type": "execute_result"
    }
   ],
   "source": [
    "my_list[0:2]"
   ]
  },
  {
   "cell_type": "code",
   "execution_count": 28,
   "id": "13bb91ae",
   "metadata": {},
   "outputs": [
    {
     "data": {
      "text/plain": [
       "[1, 'string', 23.2]"
      ]
     },
     "execution_count": 28,
     "metadata": {},
     "output_type": "execute_result"
    }
   ],
   "source": [
    "my_list"
   ]
  },
  {
   "cell_type": "code",
   "execution_count": 30,
   "id": "e3aff1ca",
   "metadata": {},
   "outputs": [],
   "source": [
    "second_list=[4,5,'six']"
   ]
  },
  {
   "cell_type": "code",
   "execution_count": 32,
   "id": "41b11097",
   "metadata": {},
   "outputs": [],
   "source": [
    "new_list= my_list + second_list"
   ]
  },
  {
   "cell_type": "code",
   "execution_count": 33,
   "id": "df0719d7",
   "metadata": {},
   "outputs": [
    {
     "data": {
      "text/plain": [
       "[1, 'string', 23.2, 4, 5, 'six']"
      ]
     },
     "execution_count": 33,
     "metadata": {},
     "output_type": "execute_result"
    }
   ],
   "source": [
    "new_list"
   ]
  },
  {
   "cell_type": "code",
   "execution_count": 34,
   "id": "f8b48224",
   "metadata": {},
   "outputs": [
    {
     "data": {
      "text/plain": [
       "[4, 5, 'six']"
      ]
     },
     "execution_count": 34,
     "metadata": {},
     "output_type": "execute_result"
    }
   ],
   "source": [
    "second_list"
   ]
  },
  {
   "cell_type": "code",
   "execution_count": 35,
   "id": "0bd3a81f",
   "metadata": {},
   "outputs": [],
   "source": [
    "second_list[0]= \"CHANGED\""
   ]
  },
  {
   "cell_type": "code",
   "execution_count": 36,
   "id": "250f0ada",
   "metadata": {},
   "outputs": [
    {
     "data": {
      "text/plain": [
       "['CHANGED', 5, 'six']"
      ]
     },
     "execution_count": 36,
     "metadata": {},
     "output_type": "execute_result"
    }
   ],
   "source": [
    "second_list"
   ]
  },
  {
   "cell_type": "code",
   "execution_count": 37,
   "id": "818cd538",
   "metadata": {},
   "outputs": [],
   "source": [
    "mstring=\"HELLO\""
   ]
  },
  {
   "cell_type": "code",
   "execution_count": 39,
   "id": "7fdb631e",
   "metadata": {},
   "outputs": [
    {
     "data": {
      "text/plain": [
       "'H'"
      ]
     },
     "execution_count": 39,
     "metadata": {},
     "output_type": "execute_result"
    }
   ],
   "source": [
    "mstring[0]"
   ]
  },
  {
   "cell_type": "code",
   "execution_count": 41,
   "id": "8f01cfae",
   "metadata": {},
   "outputs": [],
   "source": [
    "new_string=mstring[1:]"
   ]
  },
  {
   "cell_type": "code",
   "execution_count": 43,
   "id": "95707eb5",
   "metadata": {},
   "outputs": [
    {
     "data": {
      "text/plain": [
       "'ELLO'"
      ]
     },
     "execution_count": 43,
     "metadata": {},
     "output_type": "execute_result"
    }
   ],
   "source": [
    "new_string"
   ]
  },
  {
   "cell_type": "code",
   "execution_count": 46,
   "id": "d3ba12ff",
   "metadata": {},
   "outputs": [],
   "source": [
    "new_word=\"P\"+new_string"
   ]
  },
  {
   "cell_type": "code",
   "execution_count": 48,
   "id": "2ee30cf3",
   "metadata": {},
   "outputs": [
    {
     "data": {
      "text/plain": [
       "'PELLO'"
      ]
     },
     "execution_count": 48,
     "metadata": {},
     "output_type": "execute_result"
    }
   ],
   "source": [
    "new_word"
   ]
  },
  {
   "cell_type": "code",
   "execution_count": 49,
   "id": "bbacb999",
   "metadata": {},
   "outputs": [
    {
     "data": {
      "text/plain": [
       "['CHANGED', 5, 'six']"
      ]
     },
     "execution_count": 49,
     "metadata": {},
     "output_type": "execute_result"
    }
   ],
   "source": [
    "second_list"
   ]
  },
  {
   "cell_type": "code",
   "execution_count": 50,
   "id": "0055066e",
   "metadata": {},
   "outputs": [],
   "source": [
    "second_list.append('seven')"
   ]
  },
  {
   "cell_type": "code",
   "execution_count": 51,
   "id": "98893d31",
   "metadata": {},
   "outputs": [
    {
     "data": {
      "text/plain": [
       "['CHANGED', 5, 'six', 'seven']"
      ]
     },
     "execution_count": 51,
     "metadata": {},
     "output_type": "execute_result"
    }
   ],
   "source": [
    "second_list"
   ]
  },
  {
   "cell_type": "code",
   "execution_count": 55,
   "id": "7d89a6a7",
   "metadata": {},
   "outputs": [
    {
     "data": {
      "text/plain": [
       "'seven'"
      ]
     },
     "execution_count": 55,
     "metadata": {},
     "output_type": "execute_result"
    }
   ],
   "source": [
    "second_list.pop(2)"
   ]
  },
  {
   "cell_type": "code",
   "execution_count": 53,
   "id": "955acb5c",
   "metadata": {},
   "outputs": [
    {
     "data": {
      "text/plain": [
       "['CHANGED', 5, 'seven']"
      ]
     },
     "execution_count": 53,
     "metadata": {},
     "output_type": "execute_result"
    }
   ],
   "source": [
    "second_list"
   ]
  },
  {
   "cell_type": "code",
   "execution_count": 56,
   "id": "1bdd6c47",
   "metadata": {},
   "outputs": [],
   "source": [
    "new_list =[2,3,'hi',4,5]"
   ]
  },
  {
   "cell_type": "code",
   "execution_count": 57,
   "id": "a97e8ef0",
   "metadata": {},
   "outputs": [
    {
     "data": {
      "text/plain": [
       "5"
      ]
     },
     "execution_count": 57,
     "metadata": {},
     "output_type": "execute_result"
    }
   ],
   "source": [
    "new_list[-1]"
   ]
  },
  {
   "cell_type": "code",
   "execution_count": 4,
   "id": "c9a2f512",
   "metadata": {},
   "outputs": [],
   "source": [
    "new_list= [\"a\",'x','c','z','b']\n",
    "num_list=[\"9\",\"4\",\"5\",\"8\"]"
   ]
  },
  {
   "cell_type": "code",
   "execution_count": 5,
   "id": "58bfecb8",
   "metadata": {},
   "outputs": [],
   "source": [
    "num_list.sort()"
   ]
  },
  {
   "cell_type": "code",
   "execution_count": 6,
   "id": "16e7b986",
   "metadata": {},
   "outputs": [],
   "source": [
    "sorted_list = num_list"
   ]
  },
  {
   "cell_type": "code",
   "execution_count": 7,
   "id": "a5046b6d",
   "metadata": {},
   "outputs": [
    {
     "data": {
      "text/plain": [
       "['4', '5', '8', '9']"
      ]
     },
     "execution_count": 7,
     "metadata": {},
     "output_type": "execute_result"
    }
   ],
   "source": [
    "sorted_list"
   ]
  },
  {
   "cell_type": "code",
   "execution_count": 68,
   "id": "6b5669e9",
   "metadata": {},
   "outputs": [],
   "source": [
    "new_list.reverse()"
   ]
  },
  {
   "cell_type": "code",
   "execution_count": 69,
   "id": "d459337f",
   "metadata": {},
   "outputs": [],
   "source": [
    "reversed_list = new_list"
   ]
  },
  {
   "cell_type": "code",
   "execution_count": 70,
   "id": "2fa8c9cf",
   "metadata": {},
   "outputs": [
    {
     "data": {
      "text/plain": [
       "['b', 'z', 'c', 'x', 'a']"
      ]
     },
     "execution_count": 70,
     "metadata": {},
     "output_type": "execute_result"
    }
   ],
   "source": [
    "reversed_list"
   ]
  },
  {
   "cell_type": "code",
   "execution_count": 71,
   "id": "8d92cdae",
   "metadata": {},
   "outputs": [],
   "source": [
    "my_list =[5,1,[1,2]]"
   ]
  },
  {
   "cell_type": "code",
   "execution_count": 72,
   "id": "509d8799",
   "metadata": {},
   "outputs": [
    {
     "data": {
      "text/plain": [
       "[5, 1, [1, 2]]"
      ]
     },
     "execution_count": 72,
     "metadata": {},
     "output_type": "execute_result"
    }
   ],
   "source": [
    "my_list"
   ]
  },
  {
   "cell_type": "code",
   "execution_count": 73,
   "id": "f02ceba9",
   "metadata": {},
   "outputs": [
    {
     "data": {
      "text/plain": [
       "5"
      ]
     },
     "execution_count": 73,
     "metadata": {},
     "output_type": "execute_result"
    }
   ],
   "source": [
    "my_list[0]"
   ]
  },
  {
   "cell_type": "code",
   "execution_count": 74,
   "id": "a4994970",
   "metadata": {},
   "outputs": [
    {
     "data": {
      "text/plain": [
       "2"
      ]
     },
     "execution_count": 74,
     "metadata": {},
     "output_type": "execute_result"
    }
   ],
   "source": [
    "my_list[2][1]"
   ]
  },
  {
   "cell_type": "code",
   "execution_count": 75,
   "id": "0e22e15b",
   "metadata": {},
   "outputs": [],
   "source": [
    "#if lst=[0,1,2] what is the result of lst.pop()"
   ]
  },
  {
   "cell_type": "code",
   "execution_count": 1,
   "id": "078a9dff",
   "metadata": {},
   "outputs": [
    {
     "data": {
      "text/plain": [
       "2"
      ]
     },
     "execution_count": 1,
     "metadata": {},
     "output_type": "execute_result"
    }
   ],
   "source": [
    "lst=[0,1,2]\n",
    "lst.pop()"
   ]
  },
  {
   "cell_type": "code",
   "execution_count": 77,
   "id": "843e0fff",
   "metadata": {},
   "outputs": [
    {
     "data": {
      "text/plain": [
       "[0, 1]"
      ]
     },
     "execution_count": 77,
     "metadata": {},
     "output_type": "execute_result"
    }
   ],
   "source": [
    "lst"
   ]
  },
  {
   "cell_type": "code",
   "execution_count": 78,
   "id": "0a94e981",
   "metadata": {},
   "outputs": [],
   "source": [
    "#Dictionaries"
   ]
  },
  {
   "cell_type": "code",
   "execution_count": 84,
   "id": "25854be7",
   "metadata": {},
   "outputs": [],
   "source": [
    "price={'pen':'10','fruits':'30','books':'120'}"
   ]
  },
  {
   "cell_type": "code",
   "execution_count": 85,
   "id": "c4252eee",
   "metadata": {},
   "outputs": [
    {
     "data": {
      "text/plain": [
       "'10'"
      ]
     },
     "execution_count": 85,
     "metadata": {},
     "output_type": "execute_result"
    }
   ],
   "source": [
    "price['pen']"
   ]
  },
  {
   "cell_type": "code",
   "execution_count": 86,
   "id": "46be4ac3",
   "metadata": {},
   "outputs": [],
   "source": [
    "d={'k1':['a','b','c']}"
   ]
  },
  {
   "cell_type": "code",
   "execution_count": 87,
   "id": "9c5cf7e6",
   "metadata": {},
   "outputs": [],
   "source": [
    "letter =d['k1']"
   ]
  },
  {
   "cell_type": "code",
   "execution_count": 88,
   "id": "9b139547",
   "metadata": {},
   "outputs": [
    {
     "data": {
      "text/plain": [
       "['a', 'b', 'c']"
      ]
     },
     "execution_count": 88,
     "metadata": {},
     "output_type": "execute_result"
    }
   ],
   "source": [
    "letter"
   ]
  },
  {
   "cell_type": "code",
   "execution_count": 89,
   "id": "2757c8d7",
   "metadata": {},
   "outputs": [],
   "source": [
    "myletter =letter[0]"
   ]
  },
  {
   "cell_type": "code",
   "execution_count": 90,
   "id": "cd4dca33",
   "metadata": {},
   "outputs": [
    {
     "data": {
      "text/plain": [
       "'A'"
      ]
     },
     "execution_count": 90,
     "metadata": {},
     "output_type": "execute_result"
    }
   ],
   "source": [
    "myletter.upper()"
   ]
  },
  {
   "cell_type": "code",
   "execution_count": 91,
   "id": "42cd50f4",
   "metadata": {},
   "outputs": [],
   "source": [
    "dict={'k1':100,'k2':200}"
   ]
  },
  {
   "cell_type": "code",
   "execution_count": 92,
   "id": "8f717879",
   "metadata": {},
   "outputs": [],
   "source": [
    "dict['k3']=300"
   ]
  },
  {
   "cell_type": "code",
   "execution_count": 93,
   "id": "a5ca01e8",
   "metadata": {},
   "outputs": [
    {
     "data": {
      "text/plain": [
       "{'k1': 100, 'k2': 200, 'k3': 300}"
      ]
     },
     "execution_count": 93,
     "metadata": {},
     "output_type": "execute_result"
    }
   ],
   "source": [
    "dict"
   ]
  },
  {
   "cell_type": "code",
   "execution_count": 94,
   "id": "05c6257e",
   "metadata": {},
   "outputs": [],
   "source": [
    "dict['k1']=500"
   ]
  },
  {
   "cell_type": "code",
   "execution_count": 95,
   "id": "659cca59",
   "metadata": {},
   "outputs": [
    {
     "data": {
      "text/plain": [
       "{'k1': 500, 'k2': 200, 'k3': 300}"
      ]
     },
     "execution_count": 95,
     "metadata": {},
     "output_type": "execute_result"
    }
   ],
   "source": [
    "dict"
   ]
  },
  {
   "cell_type": "code",
   "execution_count": 1,
   "id": "f524911b",
   "metadata": {},
   "outputs": [],
   "source": []
  },
  {
   "cell_type": "code",
   "execution_count": null,
   "id": "741d0f8a",
   "metadata": {},
   "outputs": [],
   "source": []
  }
 ],
 "metadata": {
  "kernelspec": {
   "display_name": "Python 3 (ipykernel)",
   "language": "python",
   "name": "python3"
  },
  "language_info": {
   "codemirror_mode": {
    "name": "ipython",
    "version": 3
   },
   "file_extension": ".py",
   "mimetype": "text/x-python",
   "name": "python",
   "nbconvert_exporter": "python",
   "pygments_lexer": "ipython3",
   "version": "3.10.9"
  }
 },
 "nbformat": 4,
 "nbformat_minor": 5
}
