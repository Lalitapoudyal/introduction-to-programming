{
 "cells": [
  {
   "cell_type": "code",
   "execution_count": 1,
   "id": "78333e66",
   "metadata": {},
   "outputs": [],
   "source": [
    "#mehods in python"
   ]
  },
  {
   "cell_type": "code",
   "execution_count": 2,
   "id": "92b52c1b",
   "metadata": {},
   "outputs": [],
   "source": [
    "mylist=[1,2,3]\n",
    "mylist.append(4)"
   ]
  },
  {
   "cell_type": "code",
   "execution_count": 4,
   "id": "9ffa4fe5",
   "metadata": {},
   "outputs": [
    {
     "data": {
      "text/plain": [
       "[1, 2, 3, 4]"
      ]
     },
     "execution_count": 4,
     "metadata": {},
     "output_type": "execute_result"
    }
   ],
   "source": [
    "mylist                                                                                                    "
   ]
  },
  {
   "cell_type": "code",
   "execution_count": 6,
   "id": "33bb12cb",
   "metadata": {},
   "outputs": [
    {
     "data": {
      "text/plain": [
       "4"
      ]
     },
     "execution_count": 6,
     "metadata": {},
     "output_type": "execute_result"
    }
   ],
   "source": [
    "mylist.pop()"
   ]
  },
  {
   "cell_type": "code",
   "execution_count": 1,
   "id": "5ac64165",
   "metadata": {},
   "outputs": [],
   "source": [
    "#def keyboard"
   ]
  },
  {
   "cell_type": "code",
   "execution_count": 2,
   "id": "f2254ec6",
   "metadata": {},
   "outputs": [],
   "source": [
    "def name_of_function():\n",
    "    '''\n",
    "    Docstring explains function\n",
    "    '''\n",
    "    print('Hello BCA')"
   ]
  },
  {
   "cell_type": "code",
   "execution_count": 4,
   "id": "6c7ba917",
   "metadata": {},
   "outputs": [
    {
     "name": "stdout",
     "output_type": "stream",
     "text": [
      "Hello BCA\n"
     ]
    }
   ],
   "source": [
    "name_of_function()"
   ]
  },
  {
   "cell_type": "code",
   "execution_count": 9,
   "id": "edb0561e",
   "metadata": {},
   "outputs": [],
   "source": [
    "def arg_name(name):\n",
    "    print(f'Hello my name is {name}')"
   ]
  },
  {
   "cell_type": "code",
   "execution_count": 11,
   "id": "a1d648d6",
   "metadata": {},
   "outputs": [
    {
     "name": "stdout",
     "output_type": "stream",
     "text": [
      "Hello my name is Lalita\n"
     ]
    }
   ],
   "source": [
    "arg_name('Lalita')"
   ]
  },
  {
   "cell_type": "code",
   "execution_count": 12,
   "id": "864222cb",
   "metadata": {},
   "outputs": [],
   "source": [
    "def add_funtion(num1,num2):\n",
    "    return num1+num2"
   ]
  },
  {
   "cell_type": "code",
   "execution_count": null,
   "id": "a3e4ea64",
   "metadata": {},
   "outputs": [],
   "source": [
    "\n"
   ]
  },
  {
   "cell_type": "code",
   "execution_count": 16,
   "id": "5fb8a80f",
   "metadata": {},
   "outputs": [],
   "source": [
    "def say_hello():\n",
    "    print('Hello')\n",
    "    print('how')\n",
    "    print('are')\n",
    "    print('you?')"
   ]
  },
  {
   "cell_type": "code",
   "execution_count": 18,
   "id": "bf008f2b",
   "metadata": {},
   "outputs": [
    {
     "name": "stdout",
     "output_type": "stream",
     "text": [
      "Hello\n",
      "how\n",
      "are\n",
      "you?\n"
     ]
    }
   ],
   "source": [
    "say_hello()"
   ]
  },
  {
   "cell_type": "code",
   "execution_count": 19,
   "id": "b1f147c5",
   "metadata": {},
   "outputs": [],
   "source": [
    "def said_hello(name='this is the default value'):\n",
    "    print(f'Hello my name is {name}')"
   ]
  },
  {
   "cell_type": "code",
   "execution_count": 20,
   "id": "f3f9ef97",
   "metadata": {},
   "outputs": [
    {
     "name": "stdout",
     "output_type": "stream",
     "text": [
      "Hello my name is this is the default value\n"
     ]
    }
   ],
   "source": [
    "said_hello()"
   ]
  },
  {
   "cell_type": "code",
   "execution_count": 6,
   "id": "d8060e6d",
   "metadata": {},
   "outputs": [],
   "source": [
    "def add_num(num1,num2):\n",
    "    return num1+num2"
   ]
  },
  {
   "cell_type": "code",
   "execution_count": 7,
   "id": "5799f550",
   "metadata": {},
   "outputs": [
    {
     "data": {
      "text/plain": [
       "50"
      ]
     },
     "execution_count": 7,
     "metadata": {},
     "output_type": "execute_result"
    }
   ],
   "source": [
    "add_num(20,30)"
   ]
  },
  {
   "cell_type": "code",
   "execution_count": 10,
   "id": "6bdba1a9",
   "metadata": {},
   "outputs": [],
   "source": [
    "def said_hello(name='this is the default value'):\n",
    "    print(f'hello my name is {name}')"
   ]
  },
  {
   "cell_type": "code",
   "execution_count": 11,
   "id": "2b71971e",
   "metadata": {},
   "outputs": [
    {
     "name": "stdout",
     "output_type": "stream",
     "text": [
      "hello my name is this is the default value\n"
     ]
    }
   ],
   "source": [
    "said_hello()"
   ]
  },
  {
   "cell_type": "code",
   "execution_count": 12,
   "id": "03a72e5c",
   "metadata": {},
   "outputs": [],
   "source": [
    "def function(a,b):\n",
    "    print(a+b)\n",
    "    return a+b"
   ]
  },
  {
   "cell_type": "code",
   "execution_count": 17,
   "id": "b24041f3",
   "metadata": {},
   "outputs": [
    {
     "name": "stdout",
     "output_type": "stream",
     "text": [
      "30\n"
     ]
    }
   ],
   "source": [
    "result=function(10,20)"
   ]
  },
  {
   "cell_type": "code",
   "execution_count": 18,
   "id": "ab503a16",
   "metadata": {},
   "outputs": [
    {
     "data": {
      "text/plain": [
       "30"
      ]
     },
     "execution_count": 18,
     "metadata": {},
     "output_type": "execute_result"
    }
   ],
   "source": [
    "result"
   ]
  },
  {
   "cell_type": "code",
   "execution_count": null,
   "id": "0c09e4e6",
   "metadata": {},
   "outputs": [],
   "source": []
  }
 ],
 "metadata": {
  "kernelspec": {
   "display_name": "Python 3 (ipykernel)",
   "language": "python",
   "name": "python3"
  },
  "language_info": {
   "codemirror_mode": {
    "name": "ipython",
    "version": 3
   },
   "file_extension": ".py",
   "mimetype": "text/x-python",
   "name": "python",
   "nbconvert_exporter": "python",
   "pygments_lexer": "ipython3",
   "version": "3.10.9"
  }
 },
 "nbformat": 4,
 "nbformat_minor": 5
}
