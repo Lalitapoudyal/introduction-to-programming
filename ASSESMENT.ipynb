{
 "cells": [
  {
   "cell_type": "markdown",
   "id": "79eb6821",
   "metadata": {},
   "source": [
    "1.Write a python program function  that inputs a number and prints the multiplication\n",
    "table of that number"
   ]
  },
  {
   "cell_type": "code",
   "execution_count": 4,
   "id": "510cffbb",
   "metadata": {},
   "outputs": [
    {
     "name": "stdout",
     "output_type": "stream",
     "text": [
      "9 * 1 = 9\n",
      "9 * 2 = 18\n",
      "9 * 3 = 27\n",
      "9 * 4 = 36\n",
      "9 * 5 = 45\n",
      "9 * 6 = 54\n",
      "9 * 7 = 63\n",
      "9 * 8 = 72\n",
      "9 * 9 = 81\n",
      "9 * 10 = 90\n"
     ]
    }
   ],
   "source": [
    "num = 9\n",
    "for i in range(1, 11):\n",
    "    print(num, '*', i, '=', num*i)"
   ]
  },
  {
   "cell_type": "markdown",
   "id": "d34b9136",
   "metadata": {},
   "source": [
    "2. Write a Python function to find the maximum and minimum of three numbers."
   ]
  },
  {
   "cell_type": "code",
   "execution_count": 5,
   "id": "bcf1c0db",
   "metadata": {},
   "outputs": [
    {
     "data": {
      "text/plain": [
       "56"
      ]
     },
     "execution_count": 5,
     "metadata": {},
     "output_type": "execute_result"
    }
   ],
   "source": [
    "max(56,32,34)"
   ]
  },
  {
   "cell_type": "code",
   "execution_count": 6,
   "id": "7e1a9ee1",
   "metadata": {},
   "outputs": [
    {
     "data": {
      "text/plain": [
       "21"
      ]
     },
     "execution_count": 6,
     "metadata": {},
     "output_type": "execute_result"
    }
   ],
   "source": [
    "min(23,56,21)"
   ]
  },
  {
   "cell_type": "markdown",
   "id": "62a8cceb",
   "metadata": {},
   "source": [
    "3.Write a function that takes in a list of floats and returns True if the list contains\n",
    "\n",
    "duplicates and False if the list does not contain duplicates"
   ]
  },
  {
   "cell_type": "code",
   "execution_count": 7,
   "id": "41a2e139",
   "metadata": {},
   "outputs": [
    {
     "name": "stdout",
     "output_type": "stream",
     "text": [
      "(True, 'Duplicate Number is:', 2)\n"
     ]
    }
   ],
   "source": [
    "def duplicate(lst):\n",
    "    for i in lst:\n",
    "        if lst.count(i) > 1:\n",
    "            return True,\"Duplicate Number is:\", i\n",
    "    return False, None\n",
    "lst =[1, 2, 3, 4, 5, 2, 7, 8, 9]\n",
    "\n",
    "print(duplicate(lst))\n"
   ]
  },
  {
   "cell_type": "markdown",
   "id": "ae2f8fd0",
   "metadata": {},
   "source": [
    "Write a LAMBDA function that takes in a list of floats and returns True if the list\n",
    "\n",
    "contains duplicates and False if the list does not contain duplicates"
   ]
  },
  {
   "cell_type": "code",
   "execution_count": null,
   "id": "7de31f3d",
   "metadata": {},
   "outputs": [],
   "source": []
  },
  {
   "cell_type": "markdown",
   "id": "140adefd",
   "metadata": {},
   "source": [
    "5. Write a Python program function to create a Simple Calculator with operations (+, -,*, /, ^ )"
   ]
  },
  {
   "cell_type": "code",
   "execution_count": 6,
   "id": "88e90f2d",
   "metadata": {},
   "outputs": [
    {
     "name": "stdout",
     "output_type": "stream",
     "text": [
      "Enter first number: 5\n",
      "Enter operator (+, -, *, /, ^): *\n",
      "Enter second number: 8\n",
      "40.0\n"
     ]
    }
   ],
   "source": [
    "def calculator(num1, operator, num2):\n",
    "    if operator == '+':\n",
    "        return num1 + num2\n",
    "    elif operator == '-':\n",
    "        return num1 - num2\n",
    "    elif operator == '*':\n",
    "        return num1 * num2\n",
    "    elif operator == '/':\n",
    "        return num1 / num2\n",
    "    elif operator == '^':\n",
    "        return num1 ** num2\n",
    "    else:\n",
    "        return \"Invalid operator\"\n",
    "\n",
    "num1 = float(input(\"Enter first number: \"))\n",
    "operator = input(\"Enter operator (+, -, *, /, ^): \")\n",
    "num2 = float(input(\"Enter second number: \"))\n",
    "\n",
    "print(calculator(num1, operator, num2))"
   ]
  },
  {
   "cell_type": "markdown",
   "id": "a4661ced",
   "metadata": {},
   "source": [
    "6. Generate a random list of 10 integers between 1 and 100, then print the minimum and\n",
    "maximum values."
   ]
  },
  {
   "cell_type": "code",
   "execution_count": null,
   "id": "935f9270",
   "metadata": {},
   "outputs": [],
   "source": []
  },
  {
   "cell_type": "markdown",
   "id": "d5099c59",
   "metadata": {},
   "source": [
    "7. Use argument (*args) to get the table of 8:"
   ]
  },
  {
   "cell_type": "code",
   "execution_count": 1,
   "id": "7e234b27",
   "metadata": {},
   "outputs": [
    {
     "name": "stdout",
     "output_type": "stream",
     "text": [
      "8 x 1 = 8\n",
      "8 x 2 = 16\n",
      "8 x 3 = 24\n",
      "8 x 4 = 32\n",
      "8 x 5 = 40\n",
      "8 x 6 = 48\n",
      "8 x 7 = 56\n",
      "8 x 8 = 64\n",
      "8 x 9 = 72\n",
      "8 x 10 = 80\n"
     ]
    }
   ],
   "source": [
    "def table_of_eight(*args):\n",
    "    for num in args:\n",
    "        print(f\"8 x {num} = {8*num}\")\n",
    "        \n",
    "table_of_eight(1,2,3,4,5,6,7,8,9,10)"
   ]
  },
  {
   "cell_type": "code",
   "execution_count": null,
   "id": "27563dc3",
   "metadata": {},
   "outputs": [],
   "source": []
  }
 ],
 "metadata": {
  "kernelspec": {
   "display_name": "Python 3 (ipykernel)",
   "language": "python",
   "name": "python3"
  },
  "language_info": {
   "codemirror_mode": {
    "name": "ipython",
    "version": 3
   },
   "file_extension": ".py",
   "mimetype": "text/x-python",
   "name": "python",
   "nbconvert_exporter": "python",
   "pygments_lexer": "ipython3",
   "version": "3.10.9"
  }
 },
 "nbformat": 4,
 "nbformat_minor": 5
}
