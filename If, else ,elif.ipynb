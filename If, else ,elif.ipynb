{
 "cells": [
  {
   "cell_type": "code",
   "execution_count": 1,
   "id": "97584219",
   "metadata": {},
   "outputs": [],
   "source": [
    "#if ,else,elif statements"
   ]
  },
  {
   "cell_type": "code",
   "execution_count": null,
   "id": "9e942831",
   "metadata": {},
   "outputs": [],
   "source": [
    "if some_condition \n",
    "      #execute some code\n",
    "else:\n",
    "      #do something else"
   ]
  },
  {
   "cell_type": "code",
   "execution_count": 1,
   "id": "b2016992",
   "metadata": {},
   "outputs": [
    {
     "name": "stdout",
     "output_type": "stream",
     "text": [
      "Its True\n"
     ]
    }
   ],
   "source": [
    "if True:\n",
    "    print('Its True')"
   ]
  },
  {
   "cell_type": "code",
   "execution_count": 2,
   "id": "c73af10b",
   "metadata": {},
   "outputs": [
    {
     "name": "stdout",
     "output_type": "stream",
     "text": [
      "It is greater\n"
     ]
    }
   ],
   "source": [
    "if 3>2:\n",
    "    print('It is greater')"
   ]
  },
  {
   "cell_type": "code",
   "execution_count": 3,
   "id": "ae84f01d",
   "metadata": {},
   "outputs": [
    {
     "name": "stdout",
     "output_type": "stream",
     "text": [
      "Feed me\n"
     ]
    }
   ],
   "source": [
    "hungry =True\n",
    "if hungry:\n",
    "    print('Feed me')"
   ]
  },
  {
   "cell_type": "code",
   "execution_count": 2,
   "id": "46e36689",
   "metadata": {},
   "outputs": [
    {
     "name": "stdout",
     "output_type": "stream",
     "text": [
      "feed me\n"
     ]
    }
   ],
   "source": [
    "hungry =True\n",
    "if hungry:\n",
    "    print('feed me')\n",
    "else:\n",
    "    print(\"im not hungry\")"
   ]
  },
  {
   "cell_type": "code",
   "execution_count": 5,
   "id": "d9a4815f",
   "metadata": {},
   "outputs": [
    {
     "name": "stdout",
     "output_type": "stream",
     "text": [
      "I do not know much\n"
     ]
    }
   ],
   "source": [
    "loc='bank'\n",
    "if loc=='auto shop':\n",
    "    print=('cars are cool')\n",
    "else:\n",
    "    print('I do not know much')\n"
   ]
  },
  {
   "cell_type": "code",
   "execution_count": 7,
   "id": "acd2e139",
   "metadata": {},
   "outputs": [
    {
     "name": "stdout",
     "output_type": "stream",
     "text": [
      "I do not know much\n"
     ]
    }
   ],
   "source": [
    "loc='game'\n",
    "if loc=='Auto shop':\n",
    "    print('cars are cool')\n",
    "elif loc=='bank':\n",
    "    print('Money is cool$$')\n",
    "elif loc=='store':\n",
    "    print('Welcome to the store!')\n",
    "else:\n",
    "    print('I do not know much')\n",
    "\n"
   ]
  },
  {
   "cell_type": "code",
   "execution_count": 10,
   "id": "d37daba5",
   "metadata": {},
   "outputs": [
    {
     "name": "stdout",
     "output_type": "stream",
     "text": [
      "do come to class\n"
     ]
    }
   ],
   "source": [
    "name='Nayan'\n",
    "if name=='Pranay':\n",
    "    print('come to university daily')\n",
    "elif name=='Nayan':\n",
    "    print('do come to class')\n",
    "elif name=='Uttam':\n",
    "    print('do not make any videos')\n",
    "else:\n",
    "    print ('you are not needed now')"
   ]
  },
  {
   "cell_type": "code",
   "execution_count": 11,
   "id": "f49b2e77",
   "metadata": {},
   "outputs": [],
   "source": [
    "#for loops "
   ]
  },
  {
   "cell_type": "code",
   "execution_count": 14,
   "id": "f6a47e36",
   "metadata": {},
   "outputs": [
    {
     "name": "stdout",
     "output_type": "stream",
     "text": [
      "1\n",
      "2\n",
      "3\n"
     ]
    }
   ],
   "source": [
    "my_iterable=[1,2,3]\n",
    "for happy in my_iterable:\n",
    "    print(happy)"
   ]
  },
  {
   "cell_type": "code",
   "execution_count": 16,
   "id": "d928d492",
   "metadata": {},
   "outputs": [
    {
     "name": "stdout",
     "output_type": "stream",
     "text": [
      "Thursday\n",
      "Thursday\n",
      "Thursday\n",
      "Thursday\n",
      "Thursday\n",
      "Thursday\n",
      "Thursday\n",
      "Thursday\n",
      "Thursday\n"
     ]
    }
   ],
   "source": [
    "mylist= [1,2,3,4,5,6,7,8,9]\n",
    "for num in mylist:\n",
    "    print('Thursday')\n",
    "    "
   ]
  },
  {
   "cell_type": "code",
   "execution_count": 26,
   "id": "1518f5f8",
   "metadata": {},
   "outputs": [
    {
     "name": "stdout",
     "output_type": "stream",
     "text": [
      "Odd number 1\n",
      "2\n",
      "Odd number 3\n",
      "4\n",
      "Odd number 5\n",
      "6\n",
      "Odd number 7\n",
      "8\n",
      "Odd number 9\n",
      "10\n"
     ]
    }
   ],
   "source": [
    "mylist= [1,2,3,4,5,6,7,8,9,10]\n",
    "for num in mylist:\n",
    "    if num % 2== 0:\n",
    "        print (num)\n",
    "    else:\n",
    "        print(f'Odd number {num}') "
   ]
  },
  {
   "cell_type": "code",
   "execution_count": 43,
   "id": "53dd97d3",
   "metadata": {},
   "outputs": [
    {
     "name": "stdout",
     "output_type": "stream",
     "text": [
      "1\n",
      "3\n",
      "6\n",
      "10\n",
      "15\n",
      "21\n",
      "28\n",
      "36\n",
      "45\n",
      "55\n"
     ]
    }
   ],
   "source": [
    "mylist= [1,2,3,4,5,6,7,8,9,10]\n",
    "list_sum= 0\n",
    "for num in mylist:\n",
    "    list_sum= list_sum +num\n",
    "    print(list_sum)"
   ]
  },
  {
   "cell_type": "code",
   "execution_count": 44,
   "id": "1ab86150",
   "metadata": {},
   "outputs": [
    {
     "name": "stdout",
     "output_type": "stream",
     "text": [
      "H\n",
      "e\n",
      "l\n",
      "l\n",
      "o\n",
      " \n",
      "W\n",
      "o\n",
      "r\n",
      "l\n",
      "d\n"
     ]
    }
   ],
   "source": [
    "mystring=\"Hello World\"\n",
    "for letter in mystring:\n",
    "    print(letter)"
   ]
  },
  {
   "cell_type": "code",
   "execution_count": 45,
   "id": "c2d89690",
   "metadata": {},
   "outputs": [
    {
     "name": "stdout",
     "output_type": "stream",
     "text": [
      "happy\n",
      "happy\n",
      "happy\n",
      "happy\n",
      "happy\n",
      "happy\n",
      "happy\n"
     ]
    }
   ],
   "source": [
    "for _ in 'medhavi':\n",
    "    print('happy')\n",
    "    "
   ]
  },
  {
   "cell_type": "code",
   "execution_count": 48,
   "id": "fe2830c0",
   "metadata": {},
   "outputs": [],
   "source": [
    "#Tuple\n"
   ]
  },
  {
   "cell_type": "code",
   "execution_count": 51,
   "id": "1a012f2d",
   "metadata": {},
   "outputs": [
    {
     "name": "stdout",
     "output_type": "stream",
     "text": [
      "1\n",
      "2\n",
      "3\n"
     ]
    }
   ],
   "source": [
    "tup =(1,2,3)\n",
    "for item in tup:\n",
    "    print(item)"
   ]
  },
  {
   "cell_type": "code",
   "execution_count": 55,
   "id": "35399b87",
   "metadata": {},
   "outputs": [
    {
     "name": "stdout",
     "output_type": "stream",
     "text": [
      "1\n",
      "2\n",
      "3\n",
      "4\n",
      "5\n",
      "6\n",
      "7\n",
      "8\n",
      "9\n",
      "10\n"
     ]
    }
   ],
   "source": [
    "#tuple unpacking\n",
    "mylist=[(1,2),(3,4),(5,6),(7, 8),(9,10)]\n",
    "for a,b in mylist:\n",
    "    print(a)\n",
    "    print(b)"
   ]
  },
  {
   "cell_type": "code",
   "execution_count": 57,
   "id": "a76667f6",
   "metadata": {},
   "outputs": [
    {
     "name": "stdout",
     "output_type": "stream",
     "text": [
      "1\n",
      "2\n",
      "3\n"
     ]
    }
   ],
   "source": [
    "d={'k1':1,'k2':2,'k3':3}\n",
    "for key,value in d:\n",
    "    print(value)"
   ]
  },
  {
   "cell_type": "code",
   "execution_count": null,
   "id": "03e11748",
   "metadata": {},
   "outputs": [],
   "source": [
    "d={'k1':1,'k2':2,'k3':3}\n",
    "for item in d,keys"
   ]
  }
 ],
 "metadata": {
  "kernelspec": {
   "display_name": "Python 3 (ipykernel)",
   "language": "python",
   "name": "python3"
  },
  "language_info": {
   "codemirror_mode": {
    "name": "ipython",
    "version": 3
   },
   "file_extension": ".py",
   "mimetype": "text/x-python",
   "name": "python",
   "nbconvert_exporter": "python",
   "pygments_lexer": "ipython3",
   "version": "3.10.9"
  }
 },
 "nbformat": 4,
 "nbformat_minor": 5
}
