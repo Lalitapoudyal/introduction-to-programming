{
 "cells": [
  {
   "cell_type": "markdown",
   "id": "301f69b5",
   "metadata": {},
   "source": [
    "Assessment 1: Temperature Converter (5 Marks)\n",
    "\n"
   ]
  },
  {
   "cell_type": "markdown",
   "id": "cc13ca5e",
   "metadata": {},
   "source": [
    "Problem Statement:\n",
    "Write a Python function called convert_temperature(temp, from_scale, to_scale) that takes a temperature, a scale to convert from, and a scale to convert to as input. The scales can be \"Celsius\", \"Fahrenheit\", or \"Kelvin\". The function should convert the temperature to the requested scale."
   ]
  },
  {
   "cell_type": "markdown",
   "id": "d5d798f1",
   "metadata": {},
   "source": [
    "Example Inputs and Outputs:\n",
    "•\tconvert_temperature(0, 'Celsius', 'Fahrenheit') should return 32\n",
    "•\tconvert_temperature(32, 'Fahrenheit', 'Celsius') should return 0\n",
    "•\tconvert_temperature(0, 'Celsius', 'Kelvin') should return 273.15\n",
    "\n"
   ]
  },
  {
   "cell_type": "code",
   "execution_count": 42,
   "id": "0b060ac2",
   "metadata": {},
   "outputs": [],
   "source": [
    "def convert_temperature(temp, from_scale, to_scale):\n",
    "    if from_scale == to_scale:\n",
    "        return temp\n",
    "\n",
    "    if from_scale == 'Celsius':\n",
    "        if to_scale == 'Fahrenheit':\n",
    "            return (temp * 9/5) + 32\n",
    "        elif to_scale == 'Kelvin':\n",
    "            return temp + 273.15\n",
    "\n",
    "    elif from_scale == 'Fahrenheit':\n",
    "        if to_scale == 'Celsius':\n",
    "            return (temp - 32) * 5/9\n",
    "        elif to_scale == 'Kelvin':\n",
    "            return (temp + 459.67) * 5/9\n",
    "\n",
    "    elif from_scale == 'Kelvin':\n",
    "        if to_scale == 'Celsius':\n",
    "            return temp - 273.15\n",
    "        elif to_scale == 'Fahrenheit':\n",
    "            return (temp * 9/5) - 459.67\n",
    "    else:\n",
    "        return None  # Invalid input\n",
    "\n"
   ]
  },
  {
   "cell_type": "code",
   "execution_count": 43,
   "id": "36f0e664",
   "metadata": {},
   "outputs": [
    {
     "data": {
      "text/plain": [
       "32.0"
      ]
     },
     "execution_count": 43,
     "metadata": {},
     "output_type": "execute_result"
    }
   ],
   "source": [
    "convert_temperature(0, 'Celsius', 'Fahrenheit')"
   ]
  },
  {
   "cell_type": "code",
   "execution_count": 44,
   "id": "21a4726b",
   "metadata": {},
   "outputs": [
    {
     "data": {
      "text/plain": [
       "0.0"
      ]
     },
     "execution_count": 44,
     "metadata": {},
     "output_type": "execute_result"
    }
   ],
   "source": [
    "convert_temperature(32, 'Fahrenheit', 'Celsius')"
   ]
  },
  {
   "cell_type": "code",
   "execution_count": 45,
   "id": "44ed399a",
   "metadata": {},
   "outputs": [
    {
     "data": {
      "text/plain": [
       "273.15"
      ]
     },
     "execution_count": 45,
     "metadata": {},
     "output_type": "execute_result"
    }
   ],
   "source": [
    "convert_temperature(0, 'Celsius', 'Kelvin')"
   ]
  },
  {
   "cell_type": "markdown",
   "id": "92a5ee09",
   "metadata": {},
   "source": [
    "Assessment 2: Create python program using modules , collections, OS, date-time, math, and random operations also note the usecase of each modules"
   ]
  },
  {
   "cell_type": "code",
   "execution_count": 2,
   "id": "6b996d87",
   "metadata": {},
   "outputs": [
    {
     "name": "stdout",
     "output_type": "stream",
     "text": [
      "Enter your name: Lalita\n",
      "Name Counter: Counter({'l': 2, 'a': 2, 'i': 1, 't': 1})\n",
      "Current Directory: C:\\Users\\LENOVO\\Desktop\\Lalita python files\n",
      "Current Time: 2023-07-04 13:59:47.680996\n",
      "Random Number: 23\n",
      "Square Root: 4.795831523312719\n"
     ]
    }
   ],
   "source": [
    "import collections\n",
    "import os\n",
    "import datetime\n",
    "import math\n",
    "import random\n",
    "\n",
    "# User Input\n",
    "name = input(\"Enter your name: \")\n",
    "\n",
    "# collections module\n",
    "name_counter = collections.Counter(name.lower())\n",
    "\n",
    "# os module\n",
    "current_directory = os.getcwd() # returns current working directory of a process\n",
    "\n",
    "# datetime module\n",
    "current_time = datetime.datetime.now()\n",
    "\n",
    "# math module\n",
    "random_number = random.randint(1, 100)\n",
    "square_root = math.sqrt(random_number)\n",
    "\n",
    "# Output\n",
    "print(\"Name Counter:\", name_counter)\n",
    "print(\"Current Directory:\", current_directory)\n",
    "print(\"Current Time:\", current_time)\n",
    "print(\"Random Number:\", random_number)\n",
    "print(\"Square Root:\", square_root)\n"
   ]
  },
  {
   "cell_type": "markdown",
   "id": "753274a9",
   "metadata": {},
   "source": [
    "Assessment 3: Program to perform Linear Search.\n",
    "Linear search is a simple search algorithm that checks every element in the list sequentially until it finds the target value.\n",
    "\n",
    "\n"
   ]
  },
  {
   "cell_type": "code",
   "execution_count": 4,
   "id": "67c9aa13",
   "metadata": {},
   "outputs": [
    {
     "name": "stdout",
     "output_type": "stream",
     "text": [
      "Enter The target num:4\n",
      "The target number 4 is found at index 0.\n"
     ]
    }
   ],
   "source": [
    "def linear_search(arr, target):\n",
    "    for i in range(len(arr)):\n",
    "        if arr[i] == target:\n",
    "            return i  # Return the index where the target is found\n",
    "    return -1  # Return -1 if the target is not found\n",
    "\n",
    "# Test the linear search function\n",
    "numbers = [4, 2, 7, 1, 9, 6, 5]\n",
    "target_number = int(input(\"Enter The target num:\"))\n",
    "\n",
    "\n",
    "\n",
    "result = linear_search(numbers, target_number)\n",
    "\n",
    "if result != -1:\n",
    "    print(f\"The target number {target_number} is found at index {result}.\")\n",
    "else:\n",
    "    print(f\"The target number {target_number} is not found.\")\n"
   ]
  },
  {
   "cell_type": "code",
   "execution_count": null,
   "id": "2ddfa44f",
   "metadata": {},
   "outputs": [],
   "source": []
  }
 ],
 "metadata": {
  "kernelspec": {
   "display_name": "Python 3 (ipykernel)",
   "language": "python",
   "name": "python3"
  },
  "language_info": {
   "codemirror_mode": {
    "name": "ipython",
    "version": 3
   },
   "file_extension": ".py",
   "mimetype": "text/x-python",
   "name": "python",
   "nbconvert_exporter": "python",
   "pygments_lexer": "ipython3",
   "version": "3.10.9"
  }
 },
 "nbformat": 4,
 "nbformat_minor": 5
}
