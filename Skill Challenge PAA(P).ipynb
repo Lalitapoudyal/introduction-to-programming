{
 "cells": [
  {
   "cell_type": "markdown",
   "id": "b04f8912",
   "metadata": {},
   "source": [
    "1.PYTHON PROGRAM TO SORT WORDS IN ALPHABETIC ORDER."
   ]
  },
  {
   "cell_type": "code",
   "execution_count": 171,
   "id": "2365ca65",
   "metadata": {},
   "outputs": [],
   "source": [
    "#defining a function for mylist\n",
    "def my_list():\n",
    "    my_list=['banana','apple','cherry'] #list of fruits \n",
    "    my_list.sort() #sorting the list with the sort()method\n",
    "    print(\"The sorted words are:\", my_list) #printing the sorted list\n"
   ]
  },
  {
   "cell_type": "code",
   "execution_count": 172,
   "id": "aefe5d4a",
   "metadata": {},
   "outputs": [
    {
     "name": "stdout",
     "output_type": "stream",
     "text": [
      "The sorted words are: ['apple', 'banana', 'cherry']\n"
     ]
    }
   ],
   "source": [
    "my_list()#calling the function"
   ]
  },
  {
   "cell_type": "markdown",
   "id": "e4c36945",
   "metadata": {},
   "source": [
    "2.PYTHON PROGRAM TO FIND THE AREA OF A RECTANGLE."
   ]
  },
  {
   "cell_type": "code",
   "execution_count": 23,
   "id": "60f737df",
   "metadata": {},
   "outputs": [],
   "source": [
    "#defining a function for area of rectangle\n",
    "def area_of_rectangle(length,width):\n",
    "    length=int(input(\"Enter the length: \")) #user input of length\n",
    "    width=int(input(\"Enter the width:  \")) #user input of width\n",
    "    area_of_rectangle=length*width #calculating area of rectangle\n",
    "    \n",
    "    print(\"The area of rectangle is\",area_of_rectangle) #printing The area of rectangle by calculating by its formula."
   ]
  },
  {
   "cell_type": "code",
   "execution_count": 24,
   "id": "b9310163",
   "metadata": {},
   "outputs": [
    {
     "name": "stdout",
     "output_type": "stream",
     "text": [
      "Enter the length: 5\n",
      "Enter the width:  4\n",
      "The area of rectangle is 20\n"
     ]
    }
   ],
   "source": [
    "area_of_rectangle(length,width)#calling the function"
   ]
  },
  {
   "cell_type": "markdown",
   "id": "a6a17773",
   "metadata": {},
   "source": [
    "3.PYTHON PROGRAM TO FIND THE AREA OF A CIRCLE.\n"
   ]
  },
  {
   "cell_type": "code",
   "execution_count": 69,
   "id": "70d25b0c",
   "metadata": {},
   "outputs": [],
   "source": [
    "#defining a function for area of circle\n",
    "def area_of_circle(radius,pie):\n",
    "    radius=int(input(\"Enter the radius: \")) #user input of a radius\n",
    "    pie=float(input(\"Enter the value of pie: \"))#user input of value of pie i.e 3.14\n",
    "    area_of_circle=pie*radius**2 #calculating area of circle with its formula\n",
    "    print(\"The area of circle is\",area_of_circle,\"(1approx)\") #printing the area of circle."
   ]
  },
  {
   "cell_type": "code",
   "execution_count": 70,
   "id": "979226c1",
   "metadata": {},
   "outputs": [
    {
     "name": "stdout",
     "output_type": "stream",
     "text": [
      "Enter the radius: 5\n",
      "Enter the value of pie: 3.14\n",
      "The area of circle is 78.5 (1approx)\n"
     ]
    }
   ],
   "source": [
    "area_of_circle(radius,pie)#calling the function"
   ]
  },
  {
   "cell_type": "markdown",
   "id": "702c57fe",
   "metadata": {},
   "source": [
    "4.PYTHON PROGRAM TO FIND THE CUBE SUM OF FIRST\"n\" NATURAL NUMBERS."
   ]
  },
  {
   "cell_type": "code",
   "execution_count": 173,
   "id": "8e3c78d6",
   "metadata": {},
   "outputs": [
    {
     "name": "stdout",
     "output_type": "stream",
     "text": [
      "Enter the n number: 3\n",
      "The sum of cubes of first 5 natural number is 36\n"
     ]
    }
   ],
   "source": [
    "#defining the function for cube\n",
    "def natural_number(n):\n",
    "    return sum(i**3 for i in range(1+n))\n",
    "try: #with try method we are checking if the value can execute at first try or not\n",
    "    n=int(input(\"Enter the n number: \")) #user input for calculating sum of cubes at n number\n",
    "    if n<=0: \n",
    "        print(\"error\") #using iteration method to check n number is less than 0 not an natural number\n",
    "    else:\n",
    "        result= natural_number(n)#calculating sum of  cube of n number \n",
    "        print(\"The sum of cubes of first 5 natural number is\",result)# printing the result of sum of cubes of first 5 natural number\n",
    "except error:\n",
    "    print('sorry')#if again its giving error print sorry"
   ]
  },
  {
   "cell_type": "code",
   "execution_count": null,
   "id": "d8d31c63",
   "metadata": {},
   "outputs": [],
   "source": []
  }
 ],
 "metadata": {
  "kernelspec": {
   "display_name": "Python 3 (ipykernel)",
   "language": "python",
   "name": "python3"
  },
  "language_info": {
   "codemirror_mode": {
    "name": "ipython",
    "version": 3
   },
   "file_extension": ".py",
   "mimetype": "text/x-python",
   "name": "python",
   "nbconvert_exporter": "python",
   "pygments_lexer": "ipython3",
   "version": "3.10.9"
  }
 },
 "nbformat": 4,
 "nbformat_minor": 5
}
