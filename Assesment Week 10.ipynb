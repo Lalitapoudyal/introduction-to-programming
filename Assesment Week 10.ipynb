{
 "cells": [
  {
   "cell_type": "markdown",
   "id": "49253216",
   "metadata": {},
   "source": [
    "Errors and Exceptions Assessment"
   ]
  },
  {
   "cell_type": "markdown",
   "id": "54c727b6",
   "metadata": {},
   "source": [
    "Problem 1\n"
   ]
  },
  {
   "cell_type": "markdown",
   "id": "cfec81c4",
   "metadata": {},
   "source": [
    "Handle the exception thrown by the code below by using try and except blocks.\n"
   ]
  },
  {
   "cell_type": "code",
   "execution_count": 4,
   "id": "f36ce643",
   "metadata": {},
   "outputs": [
    {
     "name": "stdout",
     "output_type": "stream",
     "text": [
      "Not an integer\n",
      "Not an integer\n",
      "Not an integer\n"
     ]
    }
   ],
   "source": [
    "for i in ['a','b','c']:\n",
    "    try:\n",
    "        print(i**2) \n",
    "    except:\n",
    "        print('Not an integer')\n",
    "    "
   ]
  },
  {
   "cell_type": "markdown",
   "id": "2bd9ba25",
   "metadata": {},
   "source": [
    "Problem 2"
   ]
  },
  {
   "cell_type": "markdown",
   "id": "41134dc1",
   "metadata": {},
   "source": [
    "Handle the exception thrown by the code below by using try and except blocks. Then use a finally\n",
    "block to print 'All Done.'\n"
   ]
  },
  {
   "cell_type": "code",
   "execution_count": null,
   "id": "41c6367c",
   "metadata": {},
   "outputs": [],
   "source": [
    "x = 5\n",
    "y = 0\n",
    "try:\n",
    "    z=x/y\n",
    "except:\n",
    "    print('x/y Division could not be performed')\n",
    "finally:\n",
    "    print('All done!!')"
   ]
  },
  {
   "cell_type": "markdown",
   "id": "d25dce58",
   "metadata": {},
   "source": [
    "Problem 3"
   ]
  },
  {
   "cell_type": "markdown",
   "id": "86224175",
   "metadata": {},
   "source": [
    "Write a function that asks for an integer and prints the square of it. Use a while loop with a try,except, else block to account for incorrect inputs."
   ]
  },
  {
   "cell_type": "code",
   "execution_count": 10,
   "id": "49b23cf6",
   "metadata": {},
   "outputs": [],
   "source": [
    "def ask():\n",
    "    \n",
    "    while True:\n",
    "        try:\n",
    "            n = int(input('Input an integer: '))\n",
    "        except:\n",
    "            print('An error occurred! Please try again!')\n",
    "            continue\n",
    "        else:\n",
    "            break\n",
    "            \n",
    "        \n",
    "    print('Thank you, your number squared is: ',n**2)"
   ]
  },
  {
   "cell_type": "code",
   "execution_count": 11,
   "id": "c97f4e8b",
   "metadata": {},
   "outputs": [
    {
     "name": "stdout",
     "output_type": "stream",
     "text": [
      "Input an integer: e\n",
      "An error occurred! Please try again!\n",
      "Input an integer: 4\n",
      "Thank you, your number squared is:  16\n"
     ]
    }
   ],
   "source": [
    "ask()"
   ]
  },
  {
   "cell_type": "code",
   "execution_count": null,
   "id": "d124316b",
   "metadata": {},
   "outputs": [],
   "source": []
  }
 ],
 "metadata": {
  "kernelspec": {
   "display_name": "Python 3 (ipykernel)",
   "language": "python",
   "name": "python3"
  },
  "language_info": {
   "codemirror_mode": {
    "name": "ipython",
    "version": 3
   },
   "file_extension": ".py",
   "mimetype": "text/x-python",
   "name": "python",
   "nbconvert_exporter": "python",
   "pygments_lexer": "ipython3",
   "version": "3.10.9"
  }
 },
 "nbformat": 4,
 "nbformat_minor": 5
}
