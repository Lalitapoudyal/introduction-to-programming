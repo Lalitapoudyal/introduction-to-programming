{
 "cells": [
  {
   "cell_type": "markdown",
   "id": "c5dcb850",
   "metadata": {},
   "source": [
    " 1. Python Program to check Leap Year.\n"
   ]
  },
  {
   "cell_type": "code",
   "execution_count": 17,
   "id": "f5f01dca",
   "metadata": {},
   "outputs": [
    {
     "name": "stdout",
     "output_type": "stream",
     "text": [
      "Enter the number: 1988\n",
      "Given Year is a leap Year!\n"
     ]
    }
   ],
   "source": [
    "def CheckLeap(Year):  \n",
    "  # Checking if the given year is leap year  \n",
    "  if((Year % 4 == 0)):\n",
    "        \n",
    "    print(\"Given Year is a leap Year!\");  \n",
    "  # Else it is not a leap year  \n",
    "  else:  \n",
    "    print (\"Given Year is not a leap Year!!\")  \n",
    "# Taking an input year from user  \n",
    "Year = int(input(\"Enter the number: \"))   \n",
    "CheckLeap(Year)  \n"
   ]
  },
  {
   "cell_type": "markdown",
   "id": "df1c0960",
   "metadata": {},
   "source": [
    "2. Python program to check prime numbers and print all prime numbers in an interval."
   ]
  },
  {
   "cell_type": "code",
   "execution_count": 20,
   "id": "66331f93",
   "metadata": {},
   "outputs": [
    {
     "name": "stdout",
     "output_type": "stream",
     "text": [
      "Please, Enter the Lowest Range Value: 14\n",
      "Please, Enter the Upper Range Value: 97\n",
      "The Prime Numbers in the range are: \n",
      "17\n",
      "19\n",
      "23\n",
      "29\n",
      "31\n",
      "37\n",
      "41\n",
      "43\n",
      "47\n",
      "53\n",
      "59\n",
      "61\n",
      "67\n",
      "71\n",
      "73\n",
      "79\n",
      "83\n",
      "89\n",
      "97\n"
     ]
    }
   ],
   "source": [
    "lower_value = int(input (\"Please, Enter the Lowest Range Value: \"))  \n",
    "upper_value = int(input (\"Please, Enter the Upper Range Value: \"))  \n",
    "  \n",
    "print (\"The Prime Numbers in the range are: \")  \n",
    "for number in range (lower_value, upper_value + 1):  \n",
    "    if number > 1:  \n",
    "        for i in range (2, number):  \n",
    "            if (number % i) == 0:  \n",
    "                break  \n",
    "        else:  \n",
    "            print (number) "
   ]
  },
  {
   "cell_type": "markdown",
   "id": "e246ddec",
   "metadata": {},
   "source": [
    " 3. python program to find the factorial of a number."
   ]
  },
  {
   "cell_type": "code",
   "execution_count": 27,
   "id": "ee663f6f",
   "metadata": {},
   "outputs": [
    {
     "name": "stdout",
     "output_type": "stream",
     "text": [
      "Enter the number:6\n",
      "Factorial of 6 is 720\n"
     ]
    }
   ],
   "source": [
    "import math  \n",
    "def fact(n):  \n",
    "    return(math.factorial(n))  \n",
    "  \n",
    "num = int(input(\"Enter the number:\"))  \n",
    "f = fact(num)  \n",
    "print(\"Factorial of\", num, \"is\", f)  "
   ]
  },
  {
   "cell_type": "markdown",
   "id": "70f76a8b",
   "metadata": {},
   "source": [
    "4. Python proram to print the Fibonacci of a number."
   ]
  },
  {
   "cell_type": "code",
   "execution_count": 1,
   "id": "0fae4cf5",
   "metadata": {},
   "outputs": [
    {
     "name": "stdout",
     "output_type": "stream",
     "text": [
      "Enter length of Fibonacci series: 5\n",
      "0 1 1 2 3 "
     ]
    }
   ],
   "source": [
    "n = int(input(\"Enter length of Fibonacci series: \"))\n",
    "num1 = 0\n",
    "num2 = 1\n",
    "next_number = 0\n",
    "count = 1\n",
    "  \n",
    "while(count <= n):\n",
    "    print(next_number, end=\" \")\n",
    "    count += 1\n",
    "    num1 = num2\n",
    "    num2 = next_number\n",
    "    next_number = num1 + num2\n",
    "    t_number = num1 + num2"
   ]
  },
  {
   "cell_type": "markdown",
   "id": "c0b3fea8",
   "metadata": {},
   "source": [
    "5. Python program to Calculate Simple Interest."
   ]
  },
  {
   "cell_type": "code",
   "execution_count": 47,
   "id": "4afef12d",
   "metadata": {},
   "outputs": [
    {
     "name": "stdout",
     "output_type": "stream",
     "text": [
      "Enter the Amount: 2000\n",
      "Enter the Rate of Interest: 50\n",
      "Enter the Time: 6\n",
      "\n",
      "Simple Interest = 6000.0\n"
     ]
    }
   ],
   "source": [
    "def calculateSI(a, b, c):\n",
    "    return (a*b*c)/100\n",
    "\n",
    "print(end=\"Enter the Amount: \") #end is used to add  any string.\n",
    "p = int(input())\n",
    "print(end=\"Enter the Rate of Interest: \")\n",
    "r = float(input())\n",
    "print(end=\"Enter the Time: \")\n",
    "t = float(input())\n",
    "si = calculateSI(p, r, t)\n",
    "print(\"\\nSimple Interest = \" + str(si))"
   ]
  },
  {
   "cell_type": "markdown",
   "id": "59806144",
   "metadata": {},
   "source": [
    "6.Python program to find an Armstrong number."
   ]
  },
  {
   "cell_type": "code",
   "execution_count": null,
   "id": "1921c10c",
   "metadata": {},
   "outputs": [],
   "source": []
  },
  {
   "cell_type": "code",
   "execution_count": null,
   "id": "b2d2bd3e",
   "metadata": {},
   "outputs": [],
   "source": []
  }
 ],
 "metadata": {
  "kernelspec": {
   "display_name": "Python 3 (ipykernel)",
   "language": "python",
   "name": "python3"
  },
  "language_info": {
   "codemirror_mode": {
    "name": "ipython",
    "version": 3
   },
   "file_extension": ".py",
   "mimetype": "text/x-python",
   "name": "python",
   "nbconvert_exporter": "python",
   "pygments_lexer": "ipython3",
   "version": "3.10.9"
  }
 },
 "nbformat": 4,
 "nbformat_minor": 5
}
